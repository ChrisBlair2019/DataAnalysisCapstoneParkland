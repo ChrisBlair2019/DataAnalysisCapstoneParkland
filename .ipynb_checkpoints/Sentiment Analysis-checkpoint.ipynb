{
 "cells": [
  {
   "cell_type": "markdown",
   "metadata": {},
   "source": [
    "Imports needed to run the code"
   ]
  },
  {
   "cell_type": "code",
   "execution_count": 2,
   "metadata": {},
   "outputs": [],
   "source": [
    "from IPython import display\n",
    "import math\n",
    "from pprint import pprint\n",
    "import pandas as pd\n",
    "import numpy as np\n",
    "import nltk\n",
    "import matplotlib.pyplot as plt\n",
    "import seaborn as sns\n",
    "sns.set(style='darkgrid', context='talk', palette='Dark2')"
   ]
  },
  {
   "cell_type": "code",
   "execution_count": 2,
   "metadata": {},
   "outputs": [
    {
     "name": "stdout",
     "output_type": "stream",
     "text": [
      "showing info https://raw.githubusercontent.com/nltk/nltk_data/gh-pages/index.xml\n"
     ]
    },
    {
     "data": {
      "text/plain": [
       "True"
      ]
     },
     "execution_count": 2,
     "metadata": {},
     "output_type": "execute_result"
    }
   ],
   "source": [
    "nltk.download()"
   ]
  },
  {
   "cell_type": "markdown",
   "metadata": {},
   "source": [
    "Importing in reddit API information\n",
    "\n",
    "Put in your API information"
   ]
  },
  {
   "cell_type": "code",
   "execution_count": 3,
   "metadata": {},
   "outputs": [],
   "source": [
    "import praw\n",
    "\n",
    "reddit = praw.Reddit(client_id='',\n",
    "                     client_secret='',\n",
    "                     user_agent='')"
   ]
  },
  {
   "cell_type": "markdown",
   "metadata": {},
   "source": [
    "Creating a set for headlines and populating the data based on whatever subreddit you choose"
   ]
  },
  {
   "cell_type": "code",
   "execution_count": 4,
   "metadata": {},
   "outputs": [],
   "source": [
    "headlines = set()"
   ]
  },
  {
   "cell_type": "code",
   "execution_count": 5,
   "metadata": {},
   "outputs": [
    {
     "name": "stdout",
     "output_type": "stream",
     "text": [
      "280\n"
     ]
    }
   ],
   "source": [
    "for submission in reddit.subreddit('news').new(limit=None):\n",
    "    headlines.add(submission.title)\n",
    "    display.clear_output()\n",
    "    print(len(headlines))"
   ]
  },
  {
   "cell_type": "markdown",
   "metadata": {},
   "source": [
    "Using vader to generate a sentiment score for the different headlines"
   ]
  },
  {
   "cell_type": "code",
   "execution_count": 6,
   "metadata": {},
   "outputs": [
    {
     "name": "stdout",
     "output_type": "stream",
     "text": [
      "[{'compound': -0.0258,\n",
      "  'headline': 'Stabbed man saved by street surgery',\n",
      "  'neg': 0.299,\n",
      "  'neu': 0.412,\n",
      "  'pos': 0.289},\n",
      " {'compound': 0.0,\n",
      "  'headline': 'Record 26 Ebola deaths in DRCongo in a single day',\n",
      "  'neg': 0.0,\n",
      "  'neu': 1.0,\n",
      "  'pos': 0.0},\n",
      " {'compound': 0.4019,\n",
      "  'headline': 'Christchurch trial: New Zealand media agree to curb white supremacy coverage',\n",
      "  'neg': 0.0,\n",
      "  'neu': 0.709,\n",
      "  'pos': 0.291}]\n"
     ]
    }
   ],
   "source": [
    "from nltk.sentiment.vader import SentimentIntensityAnalyzer as SIA\n",
    "\n",
    "sia = SIA()\n",
    "results = []\n",
    "\n",
    "for line in headlines:\n",
    "    pol_score = sia.polarity_scores(line)\n",
    "    pol_score['headline'] = line\n",
    "    results.append(pol_score)\n",
    "\n",
    "pprint(results[:3], width=100)"
   ]
  },
  {
   "cell_type": "markdown",
   "metadata": {},
   "source": [
    "Store the data as a dataframe and label the negative comments as -1 and positive comments as 1 based off a score cut off. "
   ]
  },
  {
   "cell_type": "code",
   "execution_count": 7,
   "metadata": {},
   "outputs": [
    {
     "data": {
      "text/html": [
       "<div>\n",
       "<style scoped>\n",
       "    .dataframe tbody tr th:only-of-type {\n",
       "        vertical-align: middle;\n",
       "    }\n",
       "\n",
       "    .dataframe tbody tr th {\n",
       "        vertical-align: top;\n",
       "    }\n",
       "\n",
       "    .dataframe thead th {\n",
       "        text-align: right;\n",
       "    }\n",
       "</style>\n",
       "<table border=\"1\" class=\"dataframe\">\n",
       "  <thead>\n",
       "    <tr style=\"text-align: right;\">\n",
       "      <th></th>\n",
       "      <th>compound</th>\n",
       "      <th>headline</th>\n",
       "      <th>neg</th>\n",
       "      <th>neu</th>\n",
       "      <th>pos</th>\n",
       "    </tr>\n",
       "  </thead>\n",
       "  <tbody>\n",
       "    <tr>\n",
       "      <th>0</th>\n",
       "      <td>-0.0258</td>\n",
       "      <td>Stabbed man saved by street surgery</td>\n",
       "      <td>0.299</td>\n",
       "      <td>0.412</td>\n",
       "      <td>0.289</td>\n",
       "    </tr>\n",
       "    <tr>\n",
       "      <th>1</th>\n",
       "      <td>0.0000</td>\n",
       "      <td>Record 26 Ebola deaths in DRCongo in a single day</td>\n",
       "      <td>0.000</td>\n",
       "      <td>1.000</td>\n",
       "      <td>0.000</td>\n",
       "    </tr>\n",
       "    <tr>\n",
       "      <th>2</th>\n",
       "      <td>0.4019</td>\n",
       "      <td>Christchurch trial: New Zealand media agree to...</td>\n",
       "      <td>0.000</td>\n",
       "      <td>0.709</td>\n",
       "      <td>0.291</td>\n",
       "    </tr>\n",
       "    <tr>\n",
       "      <th>3</th>\n",
       "      <td>0.0000</td>\n",
       "      <td>Scientology Cruise Ship Quarantined Due to Mea...</td>\n",
       "      <td>0.000</td>\n",
       "      <td>1.000</td>\n",
       "      <td>0.000</td>\n",
       "    </tr>\n",
       "    <tr>\n",
       "      <th>4</th>\n",
       "      <td>0.0000</td>\n",
       "      <td>Wyoming man allegedly stole from store, applie...</td>\n",
       "      <td>0.000</td>\n",
       "      <td>1.000</td>\n",
       "      <td>0.000</td>\n",
       "    </tr>\n",
       "  </tbody>\n",
       "</table>\n",
       "</div>"
      ],
      "text/plain": [
       "   compound                                           headline    neg    neu  \\\n",
       "0   -0.0258                Stabbed man saved by street surgery  0.299  0.412   \n",
       "1    0.0000  Record 26 Ebola deaths in DRCongo in a single day  0.000  1.000   \n",
       "2    0.4019  Christchurch trial: New Zealand media agree to...  0.000  0.709   \n",
       "3    0.0000  Scientology Cruise Ship Quarantined Due to Mea...  0.000  1.000   \n",
       "4    0.0000  Wyoming man allegedly stole from store, applie...  0.000  1.000   \n",
       "\n",
       "     pos  \n",
       "0  0.289  \n",
       "1  0.000  \n",
       "2  0.291  \n",
       "3  0.000  \n",
       "4  0.000  "
      ]
     },
     "execution_count": 7,
     "metadata": {},
     "output_type": "execute_result"
    }
   ],
   "source": [
    "df = pd.DataFrame.from_records(results)\n",
    "df.head()"
   ]
  },
  {
   "cell_type": "code",
   "execution_count": 8,
   "metadata": {},
   "outputs": [
    {
     "data": {
      "text/html": [
       "<div>\n",
       "<style scoped>\n",
       "    .dataframe tbody tr th:only-of-type {\n",
       "        vertical-align: middle;\n",
       "    }\n",
       "\n",
       "    .dataframe tbody tr th {\n",
       "        vertical-align: top;\n",
       "    }\n",
       "\n",
       "    .dataframe thead th {\n",
       "        text-align: right;\n",
       "    }\n",
       "</style>\n",
       "<table border=\"1\" class=\"dataframe\">\n",
       "  <thead>\n",
       "    <tr style=\"text-align: right;\">\n",
       "      <th></th>\n",
       "      <th>compound</th>\n",
       "      <th>headline</th>\n",
       "      <th>neg</th>\n",
       "      <th>neu</th>\n",
       "      <th>pos</th>\n",
       "      <th>label</th>\n",
       "    </tr>\n",
       "  </thead>\n",
       "  <tbody>\n",
       "    <tr>\n",
       "      <th>0</th>\n",
       "      <td>-0.0258</td>\n",
       "      <td>Stabbed man saved by street surgery</td>\n",
       "      <td>0.299</td>\n",
       "      <td>0.412</td>\n",
       "      <td>0.289</td>\n",
       "      <td>0</td>\n",
       "    </tr>\n",
       "    <tr>\n",
       "      <th>1</th>\n",
       "      <td>0.0000</td>\n",
       "      <td>Record 26 Ebola deaths in DRCongo in a single day</td>\n",
       "      <td>0.000</td>\n",
       "      <td>1.000</td>\n",
       "      <td>0.000</td>\n",
       "      <td>0</td>\n",
       "    </tr>\n",
       "    <tr>\n",
       "      <th>2</th>\n",
       "      <td>0.4019</td>\n",
       "      <td>Christchurch trial: New Zealand media agree to...</td>\n",
       "      <td>0.000</td>\n",
       "      <td>0.709</td>\n",
       "      <td>0.291</td>\n",
       "      <td>1</td>\n",
       "    </tr>\n",
       "    <tr>\n",
       "      <th>3</th>\n",
       "      <td>0.0000</td>\n",
       "      <td>Scientology Cruise Ship Quarantined Due to Mea...</td>\n",
       "      <td>0.000</td>\n",
       "      <td>1.000</td>\n",
       "      <td>0.000</td>\n",
       "      <td>0</td>\n",
       "    </tr>\n",
       "    <tr>\n",
       "      <th>4</th>\n",
       "      <td>0.0000</td>\n",
       "      <td>Wyoming man allegedly stole from store, applie...</td>\n",
       "      <td>0.000</td>\n",
       "      <td>1.000</td>\n",
       "      <td>0.000</td>\n",
       "      <td>0</td>\n",
       "    </tr>\n",
       "  </tbody>\n",
       "</table>\n",
       "</div>"
      ],
      "text/plain": [
       "   compound                                           headline    neg    neu  \\\n",
       "0   -0.0258                Stabbed man saved by street surgery  0.299  0.412   \n",
       "1    0.0000  Record 26 Ebola deaths in DRCongo in a single day  0.000  1.000   \n",
       "2    0.4019  Christchurch trial: New Zealand media agree to...  0.000  0.709   \n",
       "3    0.0000  Scientology Cruise Ship Quarantined Due to Mea...  0.000  1.000   \n",
       "4    0.0000  Wyoming man allegedly stole from store, applie...  0.000  1.000   \n",
       "\n",
       "     pos  label  \n",
       "0  0.289      0  \n",
       "1  0.000      0  \n",
       "2  0.291      1  \n",
       "3  0.000      0  \n",
       "4  0.000      0  "
      ]
     },
     "execution_count": 8,
     "metadata": {},
     "output_type": "execute_result"
    }
   ],
   "source": [
    "df['label'] = 0\n",
    "df.loc[df['compound'] > 0.2, 'label'] = 1\n",
    "df.loc[df['compound'] < -0.2, 'label'] = -1\n",
    "df.head()"
   ]
  },
  {
   "cell_type": "code",
   "execution_count": 9,
   "metadata": {},
   "outputs": [],
   "source": [
    "df2 = df[['headline', 'label']]\n",
    "df2.to_csv('reddit_headlines_labels.csv', mode='a', encoding='utf-8', index=False)"
   ]
  },
  {
   "cell_type": "code",
   "execution_count": 10,
   "metadata": {},
   "outputs": [
    {
     "name": "stdout",
     "output_type": "stream",
     "text": [
      "Positive headlines:\n",
      "\n",
      "['Christchurch trial: New Zealand media agree to curb white supremacy coverage',\n",
      " 'Private payrolls surge by 275,000 in April, blowing past estimates and the biggest gain since July',\n",
      " \"US firm apologises for seeking 'preferably Caucasian' candidate\",\n",
      " 'Facebook Set to Create Privacy Positions as Part of F.T.C. Settlement',\n",
      " 'Dog swallows £160 worth of £20 notes and costs owners £130 in vet bills']\n",
      "\n",
      "Negative headlines:\n",
      "\n",
      "['20 Indian students commit suicide after exam results',\n",
      " 'Student expelled from Stanford in scandal paid $6.5 million to secure her admission - The Stanford Daily',\n",
      " 'Venezuela braces for rival protests as crisis intensifies',\n",
      " 'Doctor began CPR on California synagogue shooting victim unaware she was his wife',\n",
      " \"Chase Bank deletes 'Monday Motivation' tweet after drawing social media outrage\"]\n"
     ]
    }
   ],
   "source": [
    "print(\"Positive headlines:\\n\")\n",
    "pprint(list(df[df['label'] == 1].headline)[:5], width=200)\n",
    "\n",
    "print(\"\\nNegative headlines:\\n\")\n",
    "pprint(list(df[df['label'] == -1].headline)[:5], width=200)"
   ]
  },
  {
   "cell_type": "code",
   "execution_count": 11,
   "metadata": {},
   "outputs": [
    {
     "name": "stdout",
     "output_type": "stream",
     "text": [
      "-1    140\n",
      " 0    107\n",
      " 1     33\n",
      "Name: label, dtype: int64\n",
      "-1    50.000000\n",
      " 0    38.214286\n",
      " 1    11.785714\n",
      "Name: label, dtype: float64\n"
     ]
    }
   ],
   "source": [
    "print(df.label.value_counts())\n",
    "\n",
    "print(df.label.value_counts(normalize=True) * 100)"
   ]
  },
  {
   "cell_type": "markdown",
   "metadata": {},
   "source": [
    "Create a bar graph to see the distribution of negative, neutral, and positive comments"
   ]
  },
  {
   "cell_type": "code",
   "execution_count": 111,
   "metadata": {},
   "outputs": [
    {
     "data": {
      "image/png": "[encoded data removed]",
      "text/plain": [
       "<Figure size 576x576 with 1 Axes>"
      ]
     },
     "metadata": {
      "needs_background": "light"
     },
     "output_type": "display_data"
    }
   ],
   "source": [
    "fig, ax = plt.subplots(figsize=(8, 8))\n",
    "\n",
    "counts = df.label.value_counts(normalize=True) * 100\n",
    "\n",
    "sns.barplot(x=counts.index, y=counts, ax=ax)\n",
    "\n",
    "ax.set_xticklabels(['Negative', 'Neutral', 'Positive'])\n",
    "ax.set_ylabel(\"Percentage\")\n",
    "\n",
    "plt.show()"
   ]
  },
  {
   "cell_type": "code",
   "execution_count": 13,
   "metadata": {},
   "outputs": [
    {
     "name": "stdout",
     "output_type": "stream",
     "text": [
      "['This', 'is', 'an', 'example', 'sentence', '!', 'However', ',', 'it', 'is', \"n't\", 'a', 'very', 'informative', 'one']\n"
     ]
    }
   ],
   "source": [
    "from nltk.tokenize import word_tokenize, RegexpTokenizer\n",
    "\n",
    "example = \"This is an example sentence! However, it isn't a very informative one\"\n",
    "\n",
    "print(word_tokenize(example, language='english'))"
   ]
  },
  {
   "cell_type": "code",
   "execution_count": 14,
   "metadata": {},
   "outputs": [
    {
     "data": {
      "text/plain": [
       "['This',\n",
       " 'is',\n",
       " 'an',\n",
       " 'example',\n",
       " 'sentence',\n",
       " 'However',\n",
       " 'it',\n",
       " 'isn',\n",
       " 't',\n",
       " 'a',\n",
       " 'very',\n",
       " 'informative',\n",
       " 'one']"
      ]
     },
     "execution_count": 14,
     "metadata": {},
     "output_type": "execute_result"
    }
   ],
   "source": [
    "tokenizer = RegexpTokenizer(r'\\w+')\n",
    "tokenizer.tokenize(example)"
   ]
  },
  {
   "cell_type": "code",
   "execution_count": 15,
   "metadata": {},
   "outputs": [
    {
     "name": "stdout",
     "output_type": "stream",
     "text": [
      "['i', 'me', 'my', 'myself', 'we', 'our', 'ours', 'ourselves', 'you', \"you're\", \"you've\", \"you'll\", \"you'd\", 'your', 'yours', 'yourself', 'yourselves', 'he', 'him', 'his']\n"
     ]
    }
   ],
   "source": [
    "from nltk.corpus import stopwords\n",
    "\n",
    "stop_words = stopwords.words('english')\n",
    "print(stop_words[:20])"
   ]
  },
  {
   "cell_type": "code",
   "execution_count": 16,
   "metadata": {},
   "outputs": [],
   "source": [
    "def process_text(headlines):\n",
    "    tokens = []\n",
    "    for line in headlines:\n",
    "        toks = tokenizer.tokenize(line)\n",
    "        toks = [t.lower() for t in toks if t.lower() not in stop_words]\n",
    "        tokens.extend(toks)\n",
    "    \n",
    "    return tokens"
   ]
  },
  {
   "cell_type": "code",
   "execution_count": 17,
   "metadata": {},
   "outputs": [
    {
     "data": {
      "text/plain": [
       "[('trump', 72),\n",
       " ('tax', 22),\n",
       " ('says', 17),\n",
       " ('barr', 15),\n",
       " ('sanders', 15),\n",
       " ('would', 13),\n",
       " ('medicare', 13),\n",
       " ('like', 13),\n",
       " ('2020', 12),\n",
       " ('warren', 11),\n",
       " ('bill', 10),\n",
       " ('house', 10),\n",
       " ('new', 10),\n",
       " ('approval', 9),\n",
       " ('people', 8),\n",
       " ('returns', 8),\n",
       " ('president', 8),\n",
       " ('u', 7),\n",
       " ('care', 7),\n",
       " ('security', 7)]"
      ]
     },
     "execution_count": 17,
     "metadata": {},
     "output_type": "execute_result"
    }
   ],
   "source": [
    "pos_lines = list(df[df.label == 1].headline)\n",
    "\n",
    "pos_tokens = process_text(pos_lines)\n",
    "pos_freq = nltk.FreqDist(pos_tokens)\n",
    "\n",
    "pos_freq.most_common(20)"
   ]
  },
  {
   "cell_type": "markdown",
   "metadata": {},
   "source": [
    "After removing stopwords and tokenizing the headlines, we create a word frequency distribution"
   ]
  },
  {
   "cell_type": "code",
   "execution_count": 18,
   "metadata": {},
   "outputs": [
    {
     "data": {
      "image/png": "[encoded data removed]",
      "text/plain": [
       "<Figure size 720x360 with 1 Axes>"
      ]
     },
     "metadata": {
      "needs_background": "light"
     },
     "output_type": "display_data"
    }
   ],
   "source": [
    "y_val = [x[1] for x in pos_freq.most_common()]\n",
    "\n",
    "fig = plt.figure(figsize=(10,5))\n",
    "plt.plot(y_val)\n",
    "\n",
    "plt.xlabel(\"Words\")\n",
    "plt.ylabel(\"Frequency\")\n",
    "plt.title(\"Word Frequency Distribution (Positive)\")\n",
    "plt.show()"
   ]
  },
  {
   "cell_type": "markdown",
   "metadata": {},
   "source": [
    "We then plot it as log log to see its relation to zipfs law"
   ]
  },
  {
   "cell_type": "code",
   "execution_count": 19,
   "metadata": {},
   "outputs": [
    {
     "data": {
      "image/png": "[encoded data removed]",
      "text/plain": [
       "<Figure size 720x360 with 1 Axes>"
      ]
     },
     "metadata": {
      "needs_background": "light"
     },
     "output_type": "display_data"
    }
   ],
   "source": [
    "y_final = []\n",
    "for i, k, z, t in zip(y_val[0::4], y_val[1::4], y_val[2::4], y_val[3::4]):\n",
    "    y_final.append(math.log(i + k + z + t))\n",
    "\n",
    "x_val = [math.log(i + 1) for i in range(len(y_final))]\n",
    "\n",
    "fig = plt.figure(figsize=(10,5))\n",
    "\n",
    "plt.xlabel(\"Words (Log)\")\n",
    "plt.ylabel(\"Frequency (Log)\")\n",
    "plt.title(\"Word Frequency Distribution (Positive)\")\n",
    "plt.plot(x_val, y_final)\n",
    "plt.show()"
   ]
  },
  {
   "cell_type": "code",
   "execution_count": 20,
   "metadata": {},
   "outputs": [
    {
     "data": {
      "text/plain": [
       "[('trump', 106),\n",
       " ('assange', 37),\n",
       " ('barr', 25),\n",
       " ('julian', 22),\n",
       " ('death', 21),\n",
       " ('arrested', 21),\n",
       " ('bill', 20),\n",
       " ('democrats', 18),\n",
       " ('white', 16),\n",
       " ('says', 16),\n",
       " ('house', 15),\n",
       " ('wikileaks', 15),\n",
       " ('omar', 15),\n",
       " ('us', 15),\n",
       " ('texas', 14),\n",
       " ('u', 14),\n",
       " ('crisis', 13),\n",
       " ('obama', 13),\n",
       " ('ilhan', 13),\n",
       " ('new', 13)]"
      ]
     },
     "execution_count": 20,
     "metadata": {},
     "output_type": "execute_result"
    }
   ],
   "source": [
    "neg_lines = list(df2[df2.label == -1].headline)\n",
    "\n",
    "neg_tokens = process_text(neg_lines)\n",
    "neg_freq = nltk.FreqDist(neg_tokens)\n",
    "\n",
    "neg_freq.most_common(20)"
   ]
  },
  {
   "cell_type": "code",
   "execution_count": 21,
   "metadata": {},
   "outputs": [
    {
     "data": {
      "image/png": "[encoded data removed]",
      "text/plain": [
       "<Figure size 720x360 with 1 Axes>"
      ]
     },
     "metadata": {
      "needs_background": "light"
     },
     "output_type": "display_data"
    }
   ],
   "source": [
    "y_val = [x[1] for x in neg_freq.most_common()]\n",
    "\n",
    "fig = plt.figure(figsize=(10,5))\n",
    "plt.plot(y_val)\n",
    "\n",
    "plt.xlabel(\"Words\")\n",
    "plt.ylabel(\"Frequency\")\n",
    "plt.title(\"Word Frequency Distribution (Negative)\")\n",
    "plt.show()"
   ]
  },
  {
   "cell_type": "code",
   "execution_count": 22,
   "metadata": {},
   "outputs": [
    {
     "data": {
      "image/png": "[encoded data removed]",
      "text/plain": [
       "<Figure size 720x360 with 1 Axes>"
      ]
     },
     "metadata": {
      "needs_background": "light"
     },
     "output_type": "display_data"
    }
   ],
   "source": [
    "y_final = []\n",
    "for i, k, z in zip(y_val[0::3], y_val[1::3], y_val[2::3]):\n",
    "    if i + k + z == 0:\n",
    "        break\n",
    "    y_final.append(math.log(i + k + z))\n",
    "\n",
    "x_val = [math.log(i+1) for i in range(len(y_final))]\n",
    "\n",
    "fig = plt.figure(figsize=(10,5))\n",
    "\n",
    "plt.xlabel(\"Words (Log)\")\n",
    "plt.ylabel(\"Frequency (Log)\")\n",
    "plt.title(\"Word Frequency Distribution (Negative)\")\n",
    "plt.plot(x_val, y_final)\n",
    "plt.show()"
   ]
  },
  {
   "cell_type": "markdown",
   "metadata": {},
   "source": [
    "The following code does the exact same thing as above but with comments from a particular post instead of the whole subreddit"
   ]
  },
  {
   "cell_type": "code",
   "execution_count": 12,
   "metadata": {},
   "outputs": [],
   "source": [
    "submission = reddit.submission(id ='7xmtjj')"
   ]
  },
  {
   "cell_type": "code",
   "execution_count": 24,
   "metadata": {},
   "outputs": [
    {
     "name": "stdout",
     "output_type": "stream",
     "text": [
      "I think the thing that really got me was the one video where the SWAT comes into the classroom and all the students have their hands up. For a second you can see someone with their hands up shaking uncontrollably and I can almost understand how scared they were in that moment. Absolutely horrifying.\n",
      "The screams in that video floating around are chilling. I hope there's adequate psychological services available for the survivors.\n",
      "Parkland, FL was just named 15th in the top 100 safest cities to live in the U.S.\n",
      "\n",
      "https://wsvn.com/news/local/two-broward-cities-ranked-among-nations-100-safest-communities/\n",
      "The news media should voluntarily abstain from interviewing students if they cannot do a better job than this. The \"How do you feel about being trapped inside your school while someone is shooting...\" questions are ridiculous.\n",
      "this is crazy just to think that people no different than me went to school and just got killed fucking horrible wtf has this world come to\n",
      "[(NSFL) Students stuck in a classroom hearing gunfire.](https://www.liveleak.com/view?i=9ff_1518644376)\n",
      "We are at the point were they stop feeling like tragedies and more like statistics \n",
      "Any info on where people nearby can go to donate blood?\n",
      "I was watching videos of the families embracing once they were reunited but can't help but think about those who won't be able to do that. 😥 \n",
      "CNN is reporting that the shooter spent time in a mental institution, but still passed a background check.\n",
      "I honestly think the footage these kids are posting is what’s going to change the tide of these events. Filming war changed our perspective on war, and kids filming the real and honest terror of other kids- maybe that will help change our current situation, and really bring to the forefront why things need to change.\n",
      "\n",
      "(Posting this as a stand-alone comment, from a thread that was criticizing the teens for being on their phones, to get other people’s perspective)\n",
      "I'm an Australian gun owner, and in these threads I always see a painful amount of misinformation about Australian gun laws so I'd like to set out facts.\n",
      "\n",
      "Guns are not banned, they need registration and you need to provide proof of legitimate use.\n",
      "\n",
      "Valid use includes sports shooting and hunting. You can prove you are a sports shooter by shooting quarterly at a gun club, and a hunter by joining a hunting club, or having permission to shoot on or owning rural land.\n",
      "\n",
      "Owning a weapon for protection is not a valid use.\n",
      "\n",
      "Semi-automatics are allowed with proof a legitimate need such as a serious vermin problem. However these are harder to get then bolt-actions.\n",
      "\n",
      "Handguns are heavily restricted and required to be stored at gun clubs. Long-arms require storage in a gun safe. \n",
      "\n",
      "To have a gun license you are required to do a gun safety course.\n",
      "\n",
      "Edit: I'm not suggesting this is the path America needs to take. Just trying to stop misinformation. \n",
      "If Sandy Hook and Vegas didn’t  spur change then I don’t know what will \n",
      "We should take this time to speak to the professionalism displayed on the scene today.\n",
      "\n",
      "This is every student, teacher, police officer, and medical professional's worst nightmare. Incidents like this are traumatic from start to finish, and the wounds can remain fresh for years afterwards. Through proper planning and prevention tactics, however, a greater tragedy was quite possibly avoided.\n",
      "\n",
      "The most consistent thing there is to see throughout this event is the professionalism displayed by both the police officers on scene and the medical staff taking care of the victims.\n",
      "Lol this Fox News woman just said someone at the scene had a cross of ashes on her forehead because of this.. \n",
      "\n",
      "I’m not religious but even I know that’s a thing for Lent or Ash Wednesday... she probably didn’t just go out and do it on her own for a sign of whatever because of this tragedy. \n",
      "His social media and web searches will lead more to a clearer picture of his motive in the days to come which might end up only being retribution for some sort of vendetta against the school and his classmates. \n",
      "Coincidence that this took place on Valentine's Day? A lot of lonely people in their feelings on this day.\n",
      "I am honestly so happy he is detained... finally one of these scumbags can be brought to justice instead of taking the easy way out...\n",
      "\n",
      "\n",
      "Dissappointed with CBS coverage. Displayed gunman with intimidating picture, \"SCHOOL SHOOTING\" in what is meant to be gritty font, gunman's name in same font. This idolization and drama must end.\n",
      "What disgusts me isn't just the fact that a school shooting occurred that left over 10 dead.\n",
      "\n",
      "It isn't just how cable news just demonstrated zero tact.\n",
      "\n",
      "It isn't the fact that people on Twitter are either trying to play detective or are already calling this a hoax.\n",
      "\n",
      "But the fact that I am so used to these shootings that I did not feel the required disgust when learning of such a situation.\n",
      "\n",
      "Hell, I can already imagine what the next four weeks will be like: Politicans will offer their traditional Thoughts and Prayers, debate will rage over either gun control or mental illness, and then we'll all forget about this in no time. I want to be sick to my stomach, but I've become so accustomed to these shootings that it's absolutely pointless to care when something like this will happen within the next four months.\n",
      "I think it’s important to watch the videos that surface because it makes these events that much more real from an outsider’s perspective. With how often this happens in our country, it’s easy to become desensitized and watching some of these videos absolutely wrecks me, but reminds me that something has to change.\n",
      "I don’t know the solution, but we clearly have a problem. I’m also so desensitized to the headlines now when they pop up on my phone, and that’s very unsettling.\n",
      "\n",
      "\n",
      "Edit: I'm getting a lot of replies, some good and some nonsensical, so I'll try to weigh in since so many are asking.\n",
      "\n",
      "1) You can't ban guns. Stop saying ban guns, we know this won't work. America is not Australia, we are not an island, there are over three hundred million people here. Remember prohibition? How's that drug war working out for us? People will get their hands on guns if they want them. As for common sense gun reform, I think it's a step in the right direction, but we need our politicians to stop the partisan pissing contest over this and actually start having the conversation. \n",
      "\n",
      "2) I'm a psychologist, and it stuns me how everyone instantly becomes one after a mass shooting. There isn't much of a connection at all between people with mental health problems and mass shootings. I'm hearing preliminary reports that the person arrested for this one is \"mentally disturbed\" but we're far from determining that he was suffering from mental illness. This is a common trope that people default to, and it's rarely helpful. If anything, it helps spread the false notion that mentally ill people are violent, which is not true in most cases. Sure, you'll have outliers here and there, but for the most part mentally ill people are no more violent than you or I. NBC has a decent and fairly recent article on this: [Link](https://www.nbcnews.com/news/us-news/connecting-mental-illness-gun-violence-misses-point-experts-say-n821696)\n",
      "\n",
      "We need change but I don't think anybody truly knows what it's supposed to look like yet. Productive conversations are where we start though. \n",
      "Florida AG, Pam Bondi, was just on the air and mentioned that funeral costs would be covered for all 17 victims.\n",
      "\n",
      "Kind as that is at this awful time, I find myself wondering how the State determines which victims of tragic deaths it pays the funeral costs for.\n",
      "In September of 2017, someone commented on Ben Bennight’s Youtube channel under the same name as the shooter saying he would become a pro school shooter. Ben reported this to FBI 5 months ago. [Link](https://www.cnn.com/2018/02/15/us/nikolas-cruz-fbi-warned/index.html) \n",
      "That look the Governor was giving the Sheriff when he came out and said he thought people being treated for mental illness shouldn''t have access to guns was amazing.  \n",
      "I'm old enough to remember when Columbine was a huge deal and one of the most talks about news story of the year, now mass shooting will be forgotten in a week. This shouldn't be normal, yet is becoming the norm\n",
      "We didn’t try any solutions and none of them worked. \n",
      "It is useful to note that the guns used in mass shootings have one thing in common: they are a cross-section of what firearms are popular at the time in America.\n",
      "\n",
      "The Columbine shooters used a Tec-9 and a Hi-Point, two of the most popular firearms in the 90s.\n",
      "\n",
      "The Cleveland Elementary school shooter used an imported Chinese AKM clone, a type of rifle that was very cheap and popular in the 80s.\n",
      "\n",
      "The University of Texas tower shooter used a Remington 700, the most popular bolt action rifle in America, and a M1 Carbine, which was a cheap military surplus rifle in the 60s.\n",
      "\n",
      "The Virginia Tech shooter used a Glock, the most popular handgun in America.\n",
      "\n",
      "The Aurora shooter used the most popular handgun (Glock), rifle (AR-15), and shotgun (Remington 870) in America.\n",
      "\n",
      "In the last 10 years, mass shooters have tended to use AR-15s.  This isn't because the AR-15 is some special rifle with unique capabilities.  Semi-automatic magazine fed rifles have been around for over 100 years.  The AR-15 itself is 50 years old, and is simply the most popular rifle in America.  Its use in mass shootings is because of its popularity, not because of any unusual lethality.\n",
      "I was picking my 5 year old up from school when this news broke on NPR.  The thought of taking her to school and never seeing her again really hit me hard, and I had to pull over for a bit to compose myself.  We seem to be desensitized to these types of events, and that cannot be acceptable.\n",
      "So, all the warning signs were there, violent, messages all over social media, didn't get along with others, FBI knew about him, previously caught with bullets in his bag at school, parents probably knew he was fucked up...and nothing was ever done. This seems to be the case for nearly every shooting.\n",
      "While we are here we might as well post a mega thread for the next school shooting since we NEVER fucking learn. \n",
      "So the videos showing the incident keep getting removed even though the rules say:\n",
      "\n",
      "\"To clarify, you can still post images and videos of the incident, just no closeups of someone's face as they die.\"\n",
      "\n",
      "What's up with that? \n",
      "I’m seeing 17 killed, and posts about 5 kids missing/unaccounted for. How many of these deceased victims are un identified? \n",
      "Let me tell you I work in social services and we NEED to pay our mental health professionals way more. This shit is outrageous. \n",
      "A valentines day many families will tragically remember for the rest of their life.\n",
      "\n",
      "\n",
      "Condolences to all who have lost loved ones, and best wishes for speedy recovery for those injured.\n",
      "\n",
      "It's terrifying to see all of the instagram and twitter videos of children in the school, hearing the gunshots and only being able to pray that you are able to get through something completely out of your control.\n",
      "The local news gives a lot of other information on  Nikolas Cruz. Very informative if it's all true. http://www.sun-sentinel.com/local/broward/parkland/florida-school-shooting/fl-school-shooting-cruz-20180214-story.html\n",
      "Reading an article. A fifteen year old girl got shot and survived by crawling beneath a dead student’s body. That’s fucking horrible. \n",
      "News is going HAM on the number of magazines he has....\n",
      "Does anyone know where I can donate blood tomorrow? I heard on the radio that they need my same type of blood.\n",
      "Florida has a death penalty still, right?\n",
      "Our media needs to run the videos taken during the shooting non-stop IMO.\n",
      "\n",
      "I want everyone in America to listen to those fucking rifle shots ripping through walls and a door while kids scream in terror.\n",
      "\n",
      "Maybe if more people actually understand what these situations are actually like, they will fucking demand something be done.\n",
      "\n",
      "I say show the gore and the horror and insanity non-stop. THAT’S the reality of the situation.\n",
      "\n",
      "Fuck thoughts and prayers. Fucking get real.\n",
      "\n",
      "PS: The news and media also need to stop saying “the shooter” about these people and start saying “the murderer.”\n",
      "\n",
      "I think “the shooter” has a connotation of skill and intrigue that these people really don’t deserve.\n",
      "\n",
      "PPS: to everyone replying “nothing can be done,” of course something can be done. There’s a reason we are essentially the only country with this problem. You not liking what needs to be done does not mean nothing can be done. And yes, I’m talking about heavily regulating firearms and ammunition. Deal with it.\n",
      "Unreal to think people the same age as me are gone for no reason. That could have been me or any of my friends....\n",
      "So he was allowed to buy guns while being treated for mental health issues. Well that's just fucking brilliant. \n",
      "This was already decided in Dec 2012 after Newtown. If 20 dead 6 and 7 year olds  didn't spur anyone into action, then American lawmakers are not going to do anything. \n",
      "\n",
      "This is the 17th mass shooting in 2018. This will not be the last. \n",
      "[This](https://www.wptv.com/homepage-showcase/pbso-assisting-bso-in-lantana-believed-related-to-broward-school-shooting)  is currently on-going in Lantana. Supposedly bomb squad is investigating a home. \n",
      "As soon I saw the news headlines stating  _Multiple casualties in Florida high school shooting,_ I immediately said to myself \"Oh, fuck, not this again.\" Then I saw the total number of deaths and, while I was in disbelief, I was rather thinking of the fact that this is allowed to happen so easily.\n",
      "\n",
      "It has come to a point where people, not just American, but of different nationalities feel nothing but just disbelief. We want this stop someday, but I'm afraid that will only happen when something really extreme happened, which by American standards, is unlikely.\n",
      "I've been impressed with most of the news shows this morning, they've repeatedly stated they're refusing to use the shooter's name anymore.  It's been reported, it doesn't need to be repeated.  \n",
      "With a tragedy like this, people tend to zero in on either gun control or mental health. I think these are both things that need to be improved. I also think we're missing the bigger picture.\n",
      "\n",
      "What all of these shooters have in common is that they're ready to throw their life away. They feel that they have nothing to lose.\n",
      "\n",
      "We need to ask ourselves why our public school system breeds that kind of resentment for life. I feel like this country neatly sweeps discussion about bullying, suicides, and a generally underfunded and inefficient school system under the rug, and then wonders where we went wrong.  \n",
      "\n",
      "The public school system leaves you with little choice of what, when, and how to study. It leaves you with little recourse against abuse by your fellow students, and even less recourse against abuse by the faculty. We are putting children through a system that makes many of them feel powerless and hopeless for 12 years, and I think it's time to talk about that.\n",
      "I don't want to argue with anyone I just wanted to say that I'm really really upset. I saw the video with the kid's hand's shaking and I can't stop crying. I can't sleep. I wish this would stop happening to our kids. \n",
      "it's interesting that they have custody of the shooter. i know FL has the death penalty but what is the law like specifically? can the killer attempt to plead insanity to get life in prison to avoid a death sentence? those can go on for years\n",
      "I wonder if that kid who knew the shooter is going to face charges after admitting on live TV that he knew the shooter had weapons and was  talking about shooting up a school.  \n",
      "Every. Single. Time. They say \"not gun control, mental health, that's the problem.\"\n",
      "\n",
      "Well, fine, motherfuckers, then do something about mental health. But not only do those same people NOT do something to ease the mental health problems in America, they go after [some of the main government-sponsored treatments for mental health](https://www.politico.com/story/2017/03/obamacare-repeal-mental-health-protections-235825) AND *overturn* [bans on the mentally ill owning weapons](https://www.npr.org/2017/02/02/513126985/house-votes-to-overturn-obama-rule-restricting-gun-sales-to-mentally-ill).\n",
      "\n",
      "Fucking assholes.\n",
      "[These Are The Victims Of The Parkland School Shooting](https://www.buzzfeed.com/krystieyandoli/parkland-victims?utm_term=.ib8aga3axE#.fygLGL9L52)\n",
      "[deleted]\n",
      "That guy is likely counting on death row. I hope he suffers for the rest of his meaningless life.\n",
      "What I don't get is why the US have so many mentally ill kids wanting to shoot up schools. Yes, the US have a lax gun culture that allows them to enact their fantasies. But the real question is - why are there so many willing to do it?  The rate of all school shootings in the US is a twice per week thing now. It's absurd. \n",
      "\n",
      "I'd wager not all kids in Europe are socially well-adjusted and happy at school and I also don't think that it's just a lack of available guns that is preventing these kinds of things happening over here. What is it with loner white kids in the US and school shootings then? \n",
      "I live a few miles from here but this has got a lot of people a bit shook up since it's so close to home. It's somehow different when seeing something like this happen far away versus basically right there. I don't think anything is going to change though, which is sad.\n",
      "The good thing is he was taken in alive. \n",
      "It always feels so surreal until it happens right near you.\n",
      "This shit just leaves me feeling so helpless. All those kids, dead. I won't even begin to talk about my personal feelings regarding the issue because it's pretty clear that, as a society, we're all unwilling to sit down and compromise over the issue of gun deaths in the US.\n",
      "\n",
      "So tomorrow I hang my head in sadness for today, and wait for the next one to come along..\n",
      "I see mental health as a go to in these types of situations. While that's important consider that basically every school in the world has a kid who's a loner, is being bullied, is an outcast, has a hard home life. But only in the US do they have such easy access to guns.  That's not an anti gun statement, its just a fact. In Canada, UK, Australia, this guy never would've been able to get his hands on an AR-15. I think that's the core issue people have trouble coming to terms with.\n",
      "What really upsets me is how many people perceive and/or portray such events: For some it's really just about good vs bad:\n",
      "\n",
      "The school full of good kids against one inhuman monster that came out of nowhere.\n",
      "\n",
      "So they call for more control, better police response, tighter restrictions, you name it, completely ignoring the fact that a KID who grew up in THEIR VERY COUNTRY was somehow left to rot so badly that 18 human lives had to pay for it (And yes, I'm counting the one that will rot away his remaining days in an abhorrent prison system as well).\n",
      "\n",
      "Sure, it's one strategy to cope with the problem, but if it were to go in this direction long enough it would achieve nothing but a sort of militarized and tightly controlled \"make it or die trying\" society, where the people who are able to keep up outwardly appearances and order are left alone, and those who don't (and because of personal issues or lack of education start to get down a path of crime) simply get discarded.\n",
      "\n",
      "There's a basic question underneath here that we have to ask ourselves: Do we want to live in a society where human lives are treated as either black or white (no meaning in the racial sense intended), or do we want to try to help everyone in our society to make the best of their lives, regardless of their difficulties or past mistakes in life? Or hell, at least help them enough so that they won't harm anyone else.\n",
      "\n",
      "**TLDR: America, get your justice system and attitude towards mental health in order.**\n",
      "To those talking about improving mental health treatment etc. By all means do so - but you don’t always get signs in advance that someone is going to do something like this. You have to address gun availability as well.\n",
      "\n",
      "There are mentally ill people everywhere in the world who attack others but there is a world of difference in how fast and lethal that attack is, dependent on the tools used. A gun kills an order of magnitude more quickly and effectively than a knife. Not to mention killing with a knife is a messy, up close and personal affair that takes more mental fortitude than the clean ‘point and shoot from a distance’ of a gun.\n",
      "\n",
      "You think there aren’t bitter loner kids in schools in Australia or the UK exactly like this kid? Of course there are. They might even fantasise about shooting up a school. The difference is they are not able to get their hands on a gun. That is why events like this simply do not happen in such countries.\n",
      "\"Americans make up about 4.4 percent of the global population but own 42 percent of the world’s guns. From 1966 to 2012, 31% of the gunmen in mass shootings worldwide were American.\n",
      "\n",
      "Adjusted for population, only Yemen has a higher rate of mass shootings among countries with more than 10 million people. . .\n",
      "\n",
      "Yemen has the world’s second-highest rate of gun ownership after the United States.\"\n",
      "\n",
      "https://www.commondreams.org/views/2017/11/09/texas-church-massacre-and-illusion-armed-salvation?utm_term=A%20Texas%20Church%20Massacre%\n",
      "If I recall correctly the shooter sought mental health services a year before the shooting. I'm curious what that was all about and why he wasn't flagged at that point. \n",
      "I don't know if this has been covered somewhere else before or not. But can someone explain to me why the FBI was unable to locate the shooter after he posted a youtube comment saying he wanted to be a professional school shooter?\n",
      "\n",
      "I mean, it seems like it would be easy to locate him when you consider that people on the internet get doxxed on a regular basis. \n",
      "Honestly it is so fucking **WRONG** the mentality surrounding these events has gone from shocking to expected. \n",
      "Something needs to change. This is so pointless and avoidable. \n",
      "I just hope there can be rational conversation in government about this focused on solving the problem rather than winning votes.\n",
      "I wonder what it’s like to be a kid in the, “mass shooting” generation? Hundreds, maybe thousands of kids effected directly per school shooting, and they aren’t even old enough to vote- to have a say in what happened to them while adults criticize how they handle everything from the sidelines. While adults argue about gun rights, and regulation, and a room full of huddled teens whimpers, and shakes as police clear the room. I can’t even blame this generation for being so disenfranchised.\n",
      "I am absolutely disgusted by people who want to play devil's advocate and explain why we should feel sympathy for the shooter. Yes, it's a sad things that a human being would choose to do this, and I'm sure this shooter has his own story, but he made his choice to kill those kids. Everyday thousands of people who are abused by their parents, bullied or ostracized at school, or suffer from mental health issues deal with their problems, and don't make the same selfish, cowardly decision this person made. \n",
      "\n",
      "Cruz reportedly performed the attack, and snuck away from the scene by blending in with fleeing students. This isn't some raving lunatic pushing a grocery cart full of cans down the street. He is a monster who set out to murder children for his own, selfish, disgusting and narcissistic reasons. \n",
      "So in an event like this, how long will the school not have classes? I know if I saw my crush, lab partner, friend and what have you lying lifeless in the hallway it would be traumatizing to have to come back. Or are all ~3000 students relocated to a diff school?\n",
      "\n",
      "I apologize if this is in poor taste.\n",
      "It’s sad that there are more deaths in this shooting than Columbine and no one seems to care. I don’t think people have really stopped what they’re doing because of a mass shooting since Newtown. Myself included. \n",
      "Guns can be bought and sold all over the world, legally or illegally. Such is the claim of those in favor of not imposing any firearm restrictions. You can illegally get a gun anywhere in the world regardless of gun laws. I ask you, then, why do these shootings only happen in America? What's so special about us?\n",
      "Just really heart breaking. Rest In Peace to all who have been taken way too early today.\n",
      "[No way to prevent this, says only nation where this regularly happens ](https://www.theonion.com/no-way-to-prevent-this-says-only-nation-where-this-r-1823016659)\n",
      "Is it now safe to say ‘who fucking cares’ when a mass shooting happens in murica because no one will do anything and nothing will ever change and there have been bigger worse ones?\n",
      "[deleted]\n",
      "I live in Canada and handle guns at work all the time.  Outside of work I would have no idea where to get a gun.  This doesn't happen in other countries sort yourselves out.  Stop saying your country was founded on guns it was founded on ideals of equality and freedom.\n",
      "\n",
      "Maybe value things like education, public service or healthcare above bearing arms as the ideal...\n",
      "Did anyone here read where the shooter took an Uber to the school? How did the uber not see the shooter with the guns, ammo, vest.. etc. \n",
      "There’s a consistent pattern with kids that bring guns to school. My opinion why his happens has to do with the ineffective measures taken towards bullying. Back in the day you could kick a bully’s ass that wouldn’t leave you alone, nowadays the system protects the bullies and shames the victim for allowing themselves to be bullied or daring to fight back. Not saying it’s the right approach but I can see where it would eventually make someone snap and shoot everyone.\n",
      "The Onion just copy-paste their old article now. The wisdom is as applicable today as it was any day: [‘No Way To Prevent This,’ Says Only Nation Where This Regularly Happens](https://www.theonion.com/no-way-to-prevent-this-says-only-nation-where-this-r-1823016659)\n",
      "Can you imagine being a lawyer and having to defend this *thing*.\n",
      "It's never going to end is it?  \n",
      "I was listening to the CNN broadcast and am somewhat relieved that other people also heard the exchange with the mother saying she's going to pick up her daughter AFTER the interview and were appalled. I was praying the reporter would cut it off, like \"lady, please go to your kid\" \n",
      "I was coming home from an overnight trip with my husband today & while we stopped for lunch I went to Google \"flowers\". \n",
      "\n",
      "After typing \"flo\", up came the suggested \"Florida shooting\". Orlando was too long ago (in our country at least) to be popping up, so I knew something had happened. Again. \n",
      "\n",
      "I cannot put into words how much my heart breaks knowing that while I was enjoying a Valentines Day lunch with my husband, teenagers were getting mowed down by a classmate. And that our government will not do one goddamned thing to stop this from happening over & over & over again.\n",
      "Holy cow, that girl who saved herself by hiding under a dead body--that's a lot of guts and guile for a 15-year-old. \n",
      "Are there any realistic ideas of how gun control can be properly implemented to stop this from happening? Looking in from the UK it's clear the easy access to so many guns is the root cause but it seems you guys are past the point of no return.\n",
      "[deleted]\n",
      "See you guys in a few months for the next thread.\n",
      "Columbine was bad. \n",
      "Sandy Hook was worse.\n",
      "America has turned a blind eye.\n",
      "\n",
      "If you can let all these kids die, while you as a senator have the power to help but choose to go for 'thoughts and prayers' you're a fucking pig with no soul. \n",
      "\n",
      "I've spent too long being too quiet and too polite. Fuck the NRA, Fuck the GOP, Fuck the lobbyist money, and fuck all you Americans (powerful or not) who pretend like gun violence isn't an issue. \n",
      "\n",
      "These are fucking *kids* man\n",
      "Give extra love to your valentine tonight. The most precious thing we have is each other. Love to you all.\n",
      "America is a broken country.\n",
      "Can we at least agree that maybe we should let the CDC study this now? look man, I dont know what the answer is (yes I am that onion article) I dont know what will work and make everyone happy. But what I do no is there are alot of researchers far more competent than me who have dedicated their life to studying public health and I think they deserve a chance to look at the issue scientifically. I hope thats not a controversial statement. \n",
      "\n",
      "edit: so some people are saying that the CDC actually did a study after sandy hook, but the articles Im getting that quote that study dont link or cite it. And when searching the CDC database myself, I only find the two/three recent articles below which are more or less descriptions of trends. Does anyone have the actual CDC report in question?\n",
      "https://www.cdc.gov/Mmwr/preview/mmwrhtml/mm5209a1.htm \n",
      "\n",
      "https://www.cdc.gov/mmwr/preview/mmwrhtml/mm6018a1.htm \n",
      "\n",
      "https://www.cdc.gov/mmwr/preview/mmwrhtml/mm6230a1.htm\n",
      "\n",
      "edit again: here is that study https://www.nap.edu/read/18319/chapter/1\n",
      "\n",
      "edit again again: here is another study brought to my attention, done in tandem by the state of DE and the CDC on identifying risk factors for gun violence. Much like before, it lists limitations and the need for further study. http://dhss.delaware.gov/dhss/dms/files/cdcgunviolencereport10315.pdf\n",
      "So you’re not allowed to discuss gun control after a mass shooting because it’s “too soon” and you have daily mass shootings. Therefore you are *never* allowed to discuss solving the most horrific problem in any developed country.\n",
      "If the shooter is in custody, then we may learn what drives him and others like him to commit this sort of violence.\n",
      "\n",
      "Edit: Looks like i opened a can of worms. Here's my take. He was a victim of some sort of schoolyard harassment. What else could drive someone to deliver mass violence like this. Wether he is a softcock or not is yet to be known. But he must've been at rock bottom.\n",
      "Mental health. It all boils down to mental health. School shootings, opiate epidemic, obesity, everything. All of our problems come down to metal health. If we had a better mental healthcare system, if depression and other disorders weren't so stigmatized, if people knew they could easily get help dealing with the shit in their head, we could solve a lot of problems. If mental health was a priority, people would have healthy ways to deal with the thoughts & emotions that are hurting them.\n",
      "\n",
      "The pendulum has swung too far in the opposite direction (like usual in this country). We institutionalized EVERYONE up until the 70's. You got slightly out of line, we locked you up and neglected you until you died. The public were \"safe\" but those in these institutions were living horrible tragic lives. It was so wrong, on so many levels. You know what's better than institutionalizing people? You know what's cheaper? You know what we should do? Swing the pendulum to the other extreme.\n",
      "\n",
      "Let them live among us but hide the mental health from the public eye as best you can, stigmatize it, medicate into compliance, deal with public outbursts using law enforcement, hope for the best because it's got to be better than locking them all up right? We are living in this world now. We are at this end of the spectrum now.\n",
      "\n",
      "We need to find a middle ground. Fund infrastructure ranging from your friendly neighborhood therapist (just someone to talk to) clear up to well funded, cutting edge institutions. Get mental health out of the shadows and into the open where we can talk about it and understand that we are all broken, life isn't perfect, and at times you will have negative thoughts/feelings. Let's talk about it together and collectively work this shit out. \n",
      "This shit doesn't happen in most other developed countries \n",
      "I live in Scotland and we had serious gun reform after a school shooting in the 90s, but I know America is a totally different animal and gun reform just isn’t likely or possible or even necessarily helpful for this particular problem. I’d ask then if it isn’t to do with availability of guns, what is it in the countries psyche that has this happen so much more frequently over other countries that have wide weapon availability but it doesn’t happen? I’ve only ever visited briefly and don’t really understand the realities of living there.\n",
      "\n",
      "EDIT- to make this clear, again, I’m *not suggesting gun reform as a solution or even suggesting that gun availability is the problem*. I’m asking why people think there might be a higher rate of mass shootings in the US, compared to say switzerland which I understand has pretty liberal gun ownership.\n",
      "Okay. As a gun owner, who has owned and built AR's. You want control? Here is how. Without banning any types of weapons, mags, ammo or taking them away from anyone.\n",
      "\n",
      "1. Require all purchases of semi automatic weapons to go through an NFA style background check. Which confirms federally that a person is a-ok, not threatening people.  \n",
      "2. Require everything not being used to be locked up, until it is needed. Would stop gun thefts.\n",
      "3. Do a mandatory interview with the police, so they confirm you are mentally sane. \n",
      "4. Domestic violence? Threats? Dishonorably discharged? No gun for you. And yes, the military need to fix its shit when it comes to this stuff. After what happened in Texas. \n",
      "\n",
      "There. I probably preserved everyone's rights and stopped many more mass killers, by even suggesting these steps. \n",
      "\n",
      "**Yeah, yeah, everyone is disagreeing with me. There is NO clean solution, no matter which way you want to cut it** \n",
      "[removed]\n",
      "So the armed security watching the single entrance worked well. I wonder if the right's solution will include more or less guns...?\n",
      "Better gun regulations WOULD stop gun violence like this. Remember that shooting in Scotland in 1996? Great Britain passed a load of Acts greatly limiting what guns people could own, and increasing the regulations of who could own a gun. Not one shooting since. America should take note. All this American patriotism means that the second amendment will continue to let gun violence thrive. Downvote me if you want to. I don't care. Your second amendment, passed in 1791, is letting innocent people die at the hands of psychos.\n",
      "So this is what highschool can be like (nsfl) (probably the most insane video I've seen in my life, made today) https://streamable.com/pr5tq \n",
      "What a time we live in when a school has a SOP for shootings. \n",
      "This just fucking sucks.\n",
      "This is so fucked. The guy messaged a bondsmans channel on YouTube saying that he was going to become a *professional school shooter*. The bondsman reported it to both YouTube and the FBI.\n",
      "\n",
      "I just finished watching the guys video and his voice is cracking. He's clearly very bothered by what happened, and being dragged into this.\n",
      "\n",
      "Video in question is on BenTheBondsmans channel, under the title of *The FBI came to visit me today about Nikolas Cruz*\n",
      "I understand the FBI and school had indications that there was a possible threat from this student.  So what kind of communication was there between the authorities and his parents... was there any?  What responsibility should the parents have, especially if there had been concern conveyed to the parents from authorities?\n",
      "https://www.youtube.com/watch?v=rQztofmbneY\n",
      "\n",
      "Police \n",
      "Radio from the incident \n",
      "[His arsenal of guns. ](https://heavyeditorial.files.wordpress.com/2018/02/2017-07-07-12-46-16-1553787925145526332_5701637861.jpg) I don't understand how this kid had access to this many guns.\n",
      "I really hate the moronic argument of, \"Gun laws won't help anything, the ones who want to get the guns will get the guns so why even bother.\"\n",
      "\n",
      "It has been proved, countless times in other countries (including here in the UK) that prohibiting most guns has vastly reduced any form of gun crime or gun related incident.\n",
      "\n",
      "It has been over 8,000 days since there was a school shooting in the UK. There have been 18 school shooting in America THIS YEAR. And it's only mid February.\n",
      "\n",
      "Here in the the UK, as far as I'm aware, the guns prohibited are machine guns, semi-automatic and pump-action rifles, handguns and any firearm that has a barrel less than 30 centimeters in length. So pretty much everything that could cause a mass catastrophe or is easy to conceal. Guns that pretty much no normal civilian needs to own.\n",
      "\n",
      "The only firearms that can be owned legally are shotguns, black powder weapons, manually-loaded cartridge pistols and manually-loaded center-fire rifles, all termed \"Section 1\" firearms. And to even begin to get one of these you have to have a very good reason to have one and go through all the checks.\n",
      "\n",
      "I have only ever seen a gun at shooting ranges when on holiday. Or maybe at security at airports. I don't know a single person involved in my life that has a gun. And not a single person I know would even want one or feel they would ever need one.\n",
      "\n",
      "I can quite simply go anywhere here without having to worry about anything gun related. It doesn't even cross my mind. I don't have to worry about family members getting shot going to school, or the cinema, or any other number of every day places it happens in America.\n",
      "\n",
      "To simply say it won't work so why bother is just idiotic. It will work. It might not be instant. It might take a while for it to properly take effect in such a large country, with so many guns out there. But eventually, it would make a difference. Of course it would.\n",
      "\n",
      "Just make a start, prohibit the guns that are needed to be prohibited. Take away the bulk and then weed out the guns that are kept by people. It might take years, but shootings will reduce, guns will slowly disappear and maybe, just maybe you can all live in a country where you're not afraid to send your children to school without getting shot.\n",
      "\n",
      "\n",
      "\n",
      "Everyone saying there should always be armed police officers in schools: where did you grow up?\n",
      "\n",
      "I went to school in Texas growing up and from elementary school all the way up to high school, there was *always* at least one police officer who worked full time at the school, had his own office there, carried a weapon, and doubled as a school councilor. \n",
      "Why did he do it?  I want to know the motive.  What was this guy’s major malfunction? \n",
      "I hope everyone has their thoughts and prayers ready.\n",
      "Trying really hard to find a \"right time\" to talk about gun control in between all these mass shootings...\n",
      "Literally every other country has acted upon gun control when something like this happens - the US have had what, 17 of these this year alone? Yet still refuse to act. Truly baffling.  \n",
      "\n",
      "To look in from the outside (I'm from the UK), and see a tragedy like this and the one in Vegas amongst others promptly brushed under the carpet with \"thoughts and prayers\" is frankly quite disgusting. The people in power in the US are crooks, criminals and awash with corporate greed. It's so daft.  \n",
      "[Politfiacts posted this article last night.](http://www.politifact.com/truth-o-meter/article/2018/feb/14/what-we-know-about-mass-shootings/) It has some pretty interesting statistics and facts about mass shootings and guns. I just think it's important that we all inform ourselves of various facts about guns and mass shootings. Something clearly needs to be done and changed. What that something is can take various forms, but we all have to have open, honest, and open-minded discourse when tackling these issues.\n",
      "\n",
      "Edit: Downvotes? Really? What about my comment made you decide to downvote? Was it the facts given in the article? Or was it me suggesting that we actually work together on both sides to come to a solution? I am in favor of heavier regulations, by the way. I am in favor of the mentally unstable being restricted from owning weapons. I believe all of this violence is senseless and can be stopped. But go ahead and downvote I guess. Let's continue to ignore facts and just blame each other.\n",
      "\n",
      "Edit 2: It looks like the downvotes have stopped. I suppose I could have worded my edit to be less divisive, but I was genuinely curious to know why I was being downvoted. I was hoping those people would come forward and have discussion. So far, none of them have come to create discourse. There was one who downvoted because I complained, which is fair, but not the people I was looking to converse with.\n",
      "POTUS will address the Nation at 11am on the Parkland School Shooting. Flags have been ordered to fly at Half-mast \n",
      "FYI, this is the 18th school shooting this year.\n",
      "\n",
      "It's February 14th.  That's 3 school shootings a week. \n",
      "[deleted]\n",
      "This country is so fucked up.\n",
      "If things didn't change after Sandy Hook then things won't change after Florida. It sucks and it shouldn't be this way but it is.\n",
      "[deleted]\n",
      "[deleted]\n",
      "I'm so tired of people posting \"pray for parkland\" like it means anything. Praying allows this to blow over and happen again. \"Change for Parkland\" or Orlando, Las Vegas, Columbine, Aurora, Sandy Hook, and many others should be used instead. At least there is something to get behind and maybe even pressure the government to change. Praying hasn't helped anybody, ever. Period. \n",
      "Is this even news? its basically a daily occurrence at this point. America has a problem but for some reason they don't admit it nor do literally **anything** about it. Its just pathetic at this point. \n",
      "I wish we would stop pretending that availability of guns and the lax attitudes we have around them don't make mass murders more common.\n",
      "\n",
      "Every country on the planet has a segment of their population willing to commit atrocities. We're not unique. We simply make it easier for them to do so.\n",
      "\n",
      "Let's own up to the fact that we've decided as a country that innocent children being murdered is an acceptable price to pay to have guns.\n",
      "It's messed up that I'm reading this thread and I feel like I've been reading these same comments for years. Nothing new since the last mass shooting and no ideas for solutions that I haven't seen before.  Hell, I've even seen this comment before in some way.\n",
      "After Sandy Hook I realised that this is life as an American, the norm, depressing.\n",
      "We are our own worst enemies.\n",
      "I feel for all that lost loved ones. If there is a God we are gonna be in trouble for our incompetence.\n",
      "I'm just glad the shooter wasn't able to take the cowards way out.\n",
      "The Broward County Sheriff’s Office tells CNN they received a notification that possible shots were fired at North Broward Preparatory School. Police are responding.  The school is located at Coconut Creek, Florida.\n",
      "\n",
      "Update: Police issued all clear at North Broward Preparatory School in Coconut Creek. Shots do not appear to have been fired any the perimeter is breaking down. Units remaining to investigate\n",
      "That poor mother on CNN. At some point we have to do something. \n",
      "At least make licenses a requirement for gun ownership.   You need a license to drive a car for goodness sake, why not a license to own a gun?  Driving licenses make sense.  Cars can be dangerous.  Why shouldn't' you need to take a test to own a gun?  Combining that with background checks would be great as well.  \n",
      "\n",
      "I know you're never going to ban gun ownership.  I find it very strange that you STILL have it ingrained in your psyche that you actually have a right to own guns.  Your constitution is not that precious and special that you can't amend it to reflect the fact the children are dying on practically a daily basis.  \n",
      ">We were told last year that he wasn’t allowed on campus with a backpack on him,” math teacher Jim Gard told the Herald, noting that the suspect had been in his class last year. “There were problems with him last year threatening students, and I guess he was asked to leave campus\n",
      "\n",
      ">The teenager had been expelled from the school for unknown 'disciplinary reasons'. Authorities have already started dissecting his social media accounts and reported that some of things he had been posting was 'very disturbing'.\n",
      "\n",
      ">He’s also following resistance groups, like Syrian Resistance groups and fighter groups out of Iraq and, we should also note that a couple days ago, as far as a week ago, that he was involved in a Youtube chat room conversation about bombs or building bombs,\n",
      ">\"Stop trying to politicize this tragedy!\"\n",
      "\n",
      ">\"It's a mental health issue, not a gun issue.\"\n",
      "\n",
      ">\"If we ban guns, they'll just find another way to kill people.\"\n",
      "\n",
      ">\"Well, why don't just go ahead and ban all trucks/knives/etc. too while we're at it!?!\"\n",
      "\n",
      "And all the usual excuses and misdirections and strawmen come flying out, as if on cue.\n",
      "And now we can listen to two weeks' worth of \"we can't let this happen again,\" and \"we need stronger gun laws,\" only for absolutely nothing to happen...\n",
      "I refuse to read any information on the shooter. It's irrelevant and they should not get any attention. Maybe if the media didn't spend the next couple days pouring over every detail of the shooters life many of these sick people wouldn't get so excited about doing it. \n",
      "Holy fuck this place is toxic.\n",
      "It's ridiculous listening to news and people on the internet argue about what is a better way to curb gun violence. We should be employing every option we have. If there are 10 possible solutions we should be employing all 10 solutions, not just choosing one over the other for political or personal reasons. In any other situation where human life is on the line we employ every option.  \n",
      "\n",
      "[deleted]\n",
      "Wait, so you can buy an AR-15 when you’re 18... but a hand gun at 21?!!\n",
      "So what do we have to do to stop this from happening again? Our elected officials need to get it this asap.  Enough \n",
      "www.theonion.com/no-way-to-prevent-this-says-only-nation-where-this-r-1823016659/amp\n",
      "\n",
      "This is like the 10th time this article has been run \n",
      "I don't particularly have a position either way on the politics surrounding this but it's incredible how the \"you're more likely to die falling down the stairs/hit by lightning than die in a terrorist attack\" disappear when it's a non-politically motivated shooting.\n",
      "I'm thinking that sales of AR 15's are going to be really good tomorrow, they will probably sell out.\n",
      "I want to know how the kid got in to the school at all.  My wife used to be a substitute teacher and it was always hard for her to get in to the schools since she didn't officially work there.  She always had to be buzzed in or something.  \n",
      "\n",
      "How the fuck do they let a known crazy person back in?  \n",
      "[deleted]\n",
      "With the amount of mass surveillance in the country, it's alarming that this still happens. This guy was very active online and had multiple comments which can be conceived as premeditated. Unbelievable. \n",
      "\n",
      "https://www.cnn.com/2018/02/14/us/nikolas-cruz-florida-shooting-suspect/index.html\n",
      "Can somebody please explain me 1 thing here. I do not want to seem rude, nor disrespectful to the American crowd, but for the people who are pro-guns, what's your reason for wanting to keep the guns?\n",
      "\n",
      "There is always a comment-fight on people who want ti get those guns banned and the ones who want to keep them. Most arguments of pro-gun commenters are (in my opinion) not really valid excuses -\n",
      "\n",
      "1. **\"I want to keep a gun to keep myself safe \"**: I have heard this argument a lot and I never honestly have read an article about a man defending himself against a potentional thread (not counting law enforcement) by using his gun. I do not know how the law is structured there for quote-unquote self defense, but I think you will charged for it even tho it is considered self defense, especially if it results in your attacker's death.\n",
      "So far I have seen more articles of crimes committed by 'said-gun'.\n",
      "\n",
      "2. This is more for when some UK and US users got into a debate - **\"if you had guns, you wouldnt had acid attacks, nail bombs, vans driving over people....\"**: This is honestly the most stupid reason I have seen mentioned by far. First of all, attack like theae can happen **anywhere**. Nailbombs usually explode when hidden somewhere or put in a suitcase. A gun won't do crap against it. Acid attacks also happen out of the blue and you probably are already blinded before you even are able to realize what happened to you. Lastly, shooting a moving vehicle isn't as easy as people think. I cant remember in which country a truck plowed through a number of festival-go'ers but even the police had trouble to shoot the man out of the cabin.\n",
      "\n",
      "3. **\"Criminals still would have guns\"**: this may be true, but it isn't and obscene amount. The amount of illegal gun-criminality, even tho it is present, is not thay huge.\n",
      "\n",
      "4. **\"Just add more security/give guns to teachers\"**: This does not do anything to address the problem, you just put salt on the wound and create a state of fear.\n",
      "\n",
      "Again, no disrespect to anyone and I am not saying that ALL guns need to be banned, but what would be a different reason to keep them? Pardon me for any grammar mistakes. English is not my native language.\n",
      "Yet again a horrible incident has happened and people will continue to sit on their hands and claim nothing can be done.  Apparently the tree of gun ownership has to be watered with the blood of school children once every few months.\n",
      "\n",
      "edit: In before my inbox blows up by people telling me not to politicize a tragedy.  Oh sorry, forgot its never an appropriate time to talk about these things.\n",
      "Honestly why does America not have a ban on anything bigger than a handgun/shotgun. America is not having an internal war so they're literally no reason to have something as big as an AR. Why doesn't America have ANY sort of regulation for owning a gun after Sandy Hook/ Columbine/ Vegas.\n",
      "‘No Way To Prevent This,’ Says Only Nation Where This Regularly Happens\n",
      "How many people have made threats on YouTube comments or other places and haven't gone in to do anything. Isn't this selective?\n",
      "What the actual fuck just turned into the news to get update. ABC decided it was a good idea to gather a few of the victims to ask them how they felt. What do you want them to say that you are not expecting already?! \n",
      "I am glad to see the never again & march for our lives (#neveragain & #MarchForOurLives) movement growing and gaining momentum. Never doubt the power of student activism as it is pretty much the sole reason of many, many changes in the world. \n",
      "\n",
      "To steal a quote famously attributed to Margaret Mead: Never Doubt That a Small Group of Thoughtful, Committed Citizens Can Change the World; Indeed, It’s the Only Thing That Ever Has\n",
      "\n",
      "Unfortunately I cant contribute more to this cause as I live in Europe but I can wish you luck. \n",
      "\n",
      "Really, good luck! \n",
      "Did he pull the fire alarm or did it go off on it's own?  I'm getting mixed info on this.  Was there a drill on this day beforehand?  Was the alarm set off more than once?\n",
      "We'll keep telling ourselves that this is the happier reality here. We're so confident that things would only be worse if we bothered to change something.\n",
      "I live 5 miles away from MSD. I also applied as a HS teacher there about a month go. Jesus.\n",
      "[BREAKING: Leader of white nationalist group has confirmed suspect in Florida school shooting was member of his organization.](https://twitter.com/AP/status/964195101621870594)\n",
      "according to sources,  the shooter used 4chan's r9k and pol board, posted radicalized neo-Nazi youtube comments, and has a history of verbally and physically attacking his classmates.\n",
      "\n",
      "Edit: for any gaslighting Trumpistas who wish to deny it, look at his instagram. First picture is him MAGAing it up.\n",
      "[deleted]\n"
     ]
    },
    {
     "ename": "AttributeError",
     "evalue": "'MoreComments' object has no attribute 'body'",
     "output_type": "error",
     "traceback": [
      "\u001b[0;31m---------------------------------------------------------------------------\u001b[0m",
      "\u001b[0;31mAttributeError\u001b[0m                            Traceback (most recent call last)",
      "\u001b[0;32m<ipython-input-24-fab1cec62d36>\u001b[0m in \u001b[0;36m<module>\u001b[0;34m\u001b[0m\n\u001b[1;32m      1\u001b[0m \u001b[0;32mfor\u001b[0m \u001b[0mtop_level_comment\u001b[0m \u001b[0;32min\u001b[0m \u001b[0msubmission\u001b[0m\u001b[0;34m.\u001b[0m\u001b[0mcomments\u001b[0m\u001b[0;34m:\u001b[0m\u001b[0;34m\u001b[0m\u001b[0;34m\u001b[0m\u001b[0m\n\u001b[0;32m----> 2\u001b[0;31m     \u001b[0mprint\u001b[0m\u001b[0;34m(\u001b[0m\u001b[0mtop_level_comment\u001b[0m\u001b[0;34m.\u001b[0m\u001b[0mbody\u001b[0m\u001b[0;34m)\u001b[0m\u001b[0;34m\u001b[0m\u001b[0;34m\u001b[0m\u001b[0m\n\u001b[0m",
      "\u001b[0;31mAttributeError\u001b[0m: 'MoreComments' object has no attribute 'body'"
     ]
    }
   ],
   "source": [
    "for top_level_comment in submission.comments:\n",
    "    print(top_level_comment.body)"
   ]
  },
  {
   "cell_type": "code",
   "execution_count": 25,
   "metadata": {},
   "outputs": [],
   "source": [
    "comments = set()"
   ]
  },
  {
   "cell_type": "code",
   "execution_count": 26,
   "metadata": {},
   "outputs": [
    {
     "name": "stdout",
     "output_type": "stream",
     "text": [
      "1370\n"
     ]
    }
   ],
   "source": [
    "submission.comments.replace_more(limit=10)\n",
    "for comment in submission.comments.list():\n",
    "    comments.add(comment.body)\n",
    "    display.clear_output()\n",
    "    print(len(comments))"
   ]
  },
  {
   "cell_type": "code",
   "execution_count": 27,
   "metadata": {},
   "outputs": [
    {
     "name": "stdout",
     "output_type": "stream",
     "text": [
      "[{'comment': 'I know none of the founding fathers wanted this.  They were afraid the government '\n",
      "             \"would try to seize weapons because they'd seen it before, and they were also \"\n",
      "             \"suspicious of violent attacks since they didn't have a standing army.  The people \"\n",
      "             'were to protect themselves from Indians and anyone else they perceived to harm '\n",
      "             \"them.  I state repeatedly I have no issue with guns for self defense, they're cool \"\n",
      "             'tools.  But honestly, lets get some basic regulation done.',\n",
      "  'compound': -0.8591,\n",
      "  'neg': 0.196,\n",
      "  'neu': 0.701,\n",
      "  'pos': 0.103},\n",
      " {'comment': 'Nope. Reps got shot up at a baseball practice and no gun legislation came of it. ',\n",
      "  'compound': -0.5574,\n",
      "  'neg': 0.261,\n",
      "  'neu': 0.739,\n",
      "  'pos': 0.0},\n",
      " {'comment': 'Only if you consider NRA lobbying as a\"gun control\" of the government.',\n",
      "  'compound': -0.0772,\n",
      "  'neg': 0.106,\n",
      "  'neu': 0.894,\n",
      "  'pos': 0.0}]\n"
     ]
    }
   ],
   "source": [
    "sia = SIA()\n",
    "results = []\n",
    "\n",
    "for line in comments:\n",
    "    pol_score = sia.polarity_scores(line)\n",
    "    pol_score['comment'] = line\n",
    "    results.append(pol_score)\n",
    "\n",
    "pprint(results[:3], width=100)"
   ]
  },
  {
   "cell_type": "code",
   "execution_count": 28,
   "metadata": {},
   "outputs": [
    {
     "data": {
      "text/html": [
       "<div>\n",
       "<style scoped>\n",
       "    .dataframe tbody tr th:only-of-type {\n",
       "        vertical-align: middle;\n",
       "    }\n",
       "\n",
       "    .dataframe tbody tr th {\n",
       "        vertical-align: top;\n",
       "    }\n",
       "\n",
       "    .dataframe thead th {\n",
       "        text-align: right;\n",
       "    }\n",
       "</style>\n",
       "<table border=\"1\" class=\"dataframe\">\n",
       "  <thead>\n",
       "    <tr style=\"text-align: right;\">\n",
       "      <th></th>\n",
       "      <th>comment</th>\n",
       "      <th>compound</th>\n",
       "      <th>neg</th>\n",
       "      <th>neu</th>\n",
       "      <th>pos</th>\n",
       "    </tr>\n",
       "  </thead>\n",
       "  <tbody>\n",
       "    <tr>\n",
       "      <th>0</th>\n",
       "      <td>I know none of the founding fathers wanted thi...</td>\n",
       "      <td>-0.8591</td>\n",
       "      <td>0.196</td>\n",
       "      <td>0.701</td>\n",
       "      <td>0.103</td>\n",
       "    </tr>\n",
       "    <tr>\n",
       "      <th>1</th>\n",
       "      <td>Nope. Reps got shot up at a baseball practice ...</td>\n",
       "      <td>-0.5574</td>\n",
       "      <td>0.261</td>\n",
       "      <td>0.739</td>\n",
       "      <td>0.000</td>\n",
       "    </tr>\n",
       "    <tr>\n",
       "      <th>2</th>\n",
       "      <td>Only if you consider NRA lobbying as a\"gun con...</td>\n",
       "      <td>-0.0772</td>\n",
       "      <td>0.106</td>\n",
       "      <td>0.894</td>\n",
       "      <td>0.000</td>\n",
       "    </tr>\n",
       "    <tr>\n",
       "      <th>3</th>\n",
       "      <td>Do you know what the 2nd Amendment is?</td>\n",
       "      <td>0.0000</td>\n",
       "      <td>0.000</td>\n",
       "      <td>1.000</td>\n",
       "      <td>0.000</td>\n",
       "    </tr>\n",
       "    <tr>\n",
       "      <th>4</th>\n",
       "      <td>This really really sucks!</td>\n",
       "      <td>-0.5209</td>\n",
       "      <td>0.529</td>\n",
       "      <td>0.471</td>\n",
       "      <td>0.000</td>\n",
       "    </tr>\n",
       "  </tbody>\n",
       "</table>\n",
       "</div>"
      ],
      "text/plain": [
       "                                             comment  compound    neg    neu  \\\n",
       "0  I know none of the founding fathers wanted thi...   -0.8591  0.196  0.701   \n",
       "1  Nope. Reps got shot up at a baseball practice ...   -0.5574  0.261  0.739   \n",
       "2  Only if you consider NRA lobbying as a\"gun con...   -0.0772  0.106  0.894   \n",
       "3            Do you know what the 2nd Amendment is?     0.0000  0.000  1.000   \n",
       "4                          This really really sucks!   -0.5209  0.529  0.471   \n",
       "\n",
       "     pos  \n",
       "0  0.103  \n",
       "1  0.000  \n",
       "2  0.000  \n",
       "3  0.000  \n",
       "4  0.000  "
      ]
     },
     "execution_count": 28,
     "metadata": {},
     "output_type": "execute_result"
    }
   ],
   "source": [
    "df = pd.DataFrame.from_records(results)\n",
    "df.head()"
   ]
  },
  {
   "cell_type": "code",
   "execution_count": 29,
   "metadata": {},
   "outputs": [
    {
     "data": {
      "text/html": [
       "<div>\n",
       "<style scoped>\n",
       "    .dataframe tbody tr th:only-of-type {\n",
       "        vertical-align: middle;\n",
       "    }\n",
       "\n",
       "    .dataframe tbody tr th {\n",
       "        vertical-align: top;\n",
       "    }\n",
       "\n",
       "    .dataframe thead th {\n",
       "        text-align: right;\n",
       "    }\n",
       "</style>\n",
       "<table border=\"1\" class=\"dataframe\">\n",
       "  <thead>\n",
       "    <tr style=\"text-align: right;\">\n",
       "      <th></th>\n",
       "      <th>comment</th>\n",
       "      <th>compound</th>\n",
       "      <th>neg</th>\n",
       "      <th>neu</th>\n",
       "      <th>pos</th>\n",
       "      <th>label</th>\n",
       "    </tr>\n",
       "  </thead>\n",
       "  <tbody>\n",
       "    <tr>\n",
       "      <th>0</th>\n",
       "      <td>I know none of the founding fathers wanted thi...</td>\n",
       "      <td>-0.8591</td>\n",
       "      <td>0.196</td>\n",
       "      <td>0.701</td>\n",
       "      <td>0.103</td>\n",
       "      <td>-1</td>\n",
       "    </tr>\n",
       "    <tr>\n",
       "      <th>1</th>\n",
       "      <td>Nope. Reps got shot up at a baseball practice ...</td>\n",
       "      <td>-0.5574</td>\n",
       "      <td>0.261</td>\n",
       "      <td>0.739</td>\n",
       "      <td>0.000</td>\n",
       "      <td>-1</td>\n",
       "    </tr>\n",
       "    <tr>\n",
       "      <th>2</th>\n",
       "      <td>Only if you consider NRA lobbying as a\"gun con...</td>\n",
       "      <td>-0.0772</td>\n",
       "      <td>0.106</td>\n",
       "      <td>0.894</td>\n",
       "      <td>0.000</td>\n",
       "      <td>0</td>\n",
       "    </tr>\n",
       "    <tr>\n",
       "      <th>3</th>\n",
       "      <td>Do you know what the 2nd Amendment is?</td>\n",
       "      <td>0.0000</td>\n",
       "      <td>0.000</td>\n",
       "      <td>1.000</td>\n",
       "      <td>0.000</td>\n",
       "      <td>0</td>\n",
       "    </tr>\n",
       "    <tr>\n",
       "      <th>4</th>\n",
       "      <td>This really really sucks!</td>\n",
       "      <td>-0.5209</td>\n",
       "      <td>0.529</td>\n",
       "      <td>0.471</td>\n",
       "      <td>0.000</td>\n",
       "      <td>-1</td>\n",
       "    </tr>\n",
       "  </tbody>\n",
       "</table>\n",
       "</div>"
      ],
      "text/plain": [
       "                                             comment  compound    neg    neu  \\\n",
       "0  I know none of the founding fathers wanted thi...   -0.8591  0.196  0.701   \n",
       "1  Nope. Reps got shot up at a baseball practice ...   -0.5574  0.261  0.739   \n",
       "2  Only if you consider NRA lobbying as a\"gun con...   -0.0772  0.106  0.894   \n",
       "3            Do you know what the 2nd Amendment is?     0.0000  0.000  1.000   \n",
       "4                          This really really sucks!   -0.5209  0.529  0.471   \n",
       "\n",
       "     pos  label  \n",
       "0  0.103     -1  \n",
       "1  0.000     -1  \n",
       "2  0.000      0  \n",
       "3  0.000      0  \n",
       "4  0.000     -1  "
      ]
     },
     "execution_count": 29,
     "metadata": {},
     "output_type": "execute_result"
    }
   ],
   "source": [
    "df['label'] = 0\n",
    "df.loc[df['compound'] > 0.2, 'label'] = 1\n",
    "df.loc[df['compound'] < -0.2, 'label'] = -1\n",
    "df.head()"
   ]
  },
  {
   "cell_type": "code",
   "execution_count": 30,
   "metadata": {},
   "outputs": [],
   "source": [
    "df2 = df[['comment', 'label']]\n",
    "df2.to_csv('reddit_comments_labels.csv', mode='a', encoding='utf-8', index=False)"
   ]
  },
  {
   "cell_type": "code",
   "execution_count": 31,
   "metadata": {},
   "outputs": [
    {
     "name": "stdout",
     "output_type": "stream",
     "text": [
      "Positive comments:\n",
      "\n",
      "['Apart from the gun debate, the US needs to solve a lot of other contributing factors. \\n'\n",
      " '\\n'\n",
      " '* Offer better and more available mental health therapy. \\n'\n",
      " '\\n'\n",
      " '* Reduce inequality so more people can live a happy life instead of working their asses of for little return. \\n'\n",
      " '\\n'\n",
      " '* Improve the prison system. Less people in prison leads to more money for mental health therapy or education and more people that will be able to earn money which makes them happy and generates '\n",
      " 'tax money for even more education. Its like a happiness cycle vs a death spieal. \\n'\n",
      " '\\n'\n",
      " 'In a nutshell: less angry people will result in less people shooting others. ',\n",
      " 'I work at a large university, and our university police offers active shooter awareness classes to anyone who wants it.  The police will even come to a department to have the classes.  Would it be '\n",
      " 'beneficial to have mandatory active shooter awareness classes at every high school the first week of school each school year?  I was amazed at all I learned from the officer teaching our class.  '\n",
      " 'Yes, sometimes no amount of preparation can prevent loss of life, but there are ways for students to make themselves and their classrooms more difficult targets for roaming gunmen.  ',\n",
      " '>no one seems to care\\n\\nhyperbole much',\n",
      " 'I was coming home from an overnight trip with my husband today & while we stopped for lunch I went to Google \"flowers\". \\n'\n",
      " '\\n'\n",
      " 'After typing \"flo\", up came the suggested \"Florida shooting\". Orlando was too long ago (in our country at least) to be popping up, so I knew something had happened. Again. \\n'\n",
      " '\\n'\n",
      " 'I cannot put into words how much my heart breaks knowing that while I was enjoying a Valentines Day lunch with my husband, teenagers were getting mowed down by a classmate. And that our government '\n",
      " 'will not do one goddamned thing to stop this from happening over & over & over again.',\n",
      " 'My heart can’t upvote this, but it’s 100% true.']\n",
      "\n",
      "Negative comments:\n",
      "\n",
      "[\"I know none of the founding fathers wanted this.  They were afraid the government would try to seize weapons because they'd seen it before, and they were also suspicious of violent attacks since \"\n",
      " \"they didn't have a standing army.  The people were to protect themselves from Indians and anyone else they perceived to harm them.  I state repeatedly I have no issue with guns for self defense, \"\n",
      " \"they're cool tools.  But honestly, lets get some basic regulation done.\",\n",
      " 'Nope. Reps got shot up at a baseball practice and no gun legislation came of it. ',\n",
      " 'This really really sucks!',\n",
      " 'This is what the US government tried to do after 9/11.  The problem is the list becomes so long that the question is how do you find which ones on the list will become an issue.',\n",
      " 'To quote James Holmes, \"the message is that there is no message\".']\n"
     ]
    }
   ],
   "source": [
    "print(\"Positive comments:\\n\")\n",
    "pprint(list(df[df['label'] == 1].comment)[:5], width=200)\n",
    "\n",
    "print(\"\\nNegative comments:\\n\")\n",
    "pprint(list(df[df['label'] == -1].comment)[:5], width=200)"
   ]
  },
  {
   "cell_type": "code",
   "execution_count": 32,
   "metadata": {},
   "outputs": [
    {
     "name": "stdout",
     "output_type": "stream",
     "text": [
      "-1    701\n",
      " 1    348\n",
      " 0    321\n",
      "Name: label, dtype: int64\n",
      "-1    51.167883\n",
      " 1    25.401460\n",
      " 0    23.430657\n",
      "Name: label, dtype: float64\n"
     ]
    }
   ],
   "source": [
    "print(df.label.value_counts())\n",
    "\n",
    "print(df.label.value_counts(normalize=True) * 100)"
   ]
  },
  {
   "cell_type": "code",
   "execution_count": 33,
   "metadata": {},
   "outputs": [
    {
     "data": {
      "image/png": "[encoded data removed]",
      "text/plain": [
       "<Figure size 576x576 with 1 Axes>"
      ]
     },
     "metadata": {
      "needs_background": "light"
     },
     "output_type": "display_data"
    }
   ],
   "source": [
    "fig, ax = plt.subplots(figsize=(8, 8))\n",
    "\n",
    "counts = df.label.value_counts(normalize=True) * 100\n",
    "\n",
    "sns.barplot(x=counts.index, y=counts, ax=ax)\n",
    "\n",
    "ax.set_xticklabels(['Negative', 'Neutral', 'Positive'])\n",
    "ax.set_ylabel(\"Percentage\")\n",
    "\n",
    "plt.show()"
   ]
  },
  {
   "cell_type": "code",
   "execution_count": 34,
   "metadata": {},
   "outputs": [
    {
     "name": "stdout",
     "output_type": "stream",
     "text": [
      "['This', 'is', 'an', 'example', 'sentence', '!', 'However', ',', 'it', 'is', \"n't\", 'a', 'very', 'informative', 'one']\n"
     ]
    }
   ],
   "source": [
    "from nltk.tokenize import word_tokenize, RegexpTokenizer\n",
    "\n",
    "example = \"This is an example sentence! However, it isn't a very informative one\"\n",
    "\n",
    "print(word_tokenize(example, language='english'))"
   ]
  },
  {
   "cell_type": "code",
   "execution_count": 35,
   "metadata": {},
   "outputs": [
    {
     "data": {
      "text/plain": [
       "['This',\n",
       " 'is',\n",
       " 'an',\n",
       " 'example',\n",
       " 'sentence',\n",
       " 'However',\n",
       " 'it',\n",
       " 'isn',\n",
       " 't',\n",
       " 'a',\n",
       " 'very',\n",
       " 'informative',\n",
       " 'one']"
      ]
     },
     "execution_count": 35,
     "metadata": {},
     "output_type": "execute_result"
    }
   ],
   "source": [
    "tokenizer = RegexpTokenizer(r'\\w+')\n",
    "tokenizer.tokenize(example)"
   ]
  },
  {
   "cell_type": "code",
   "execution_count": 36,
   "metadata": {},
   "outputs": [
    {
     "name": "stdout",
     "output_type": "stream",
     "text": [
      "['i', 'me', 'my', 'myself', 'we', 'our', 'ours', 'ourselves', 'you', \"you're\", \"you've\", \"you'll\", \"you'd\", 'your', 'yours', 'yourself', 'yourselves', 'he', 'him', 'his']\n"
     ]
    }
   ],
   "source": [
    "from nltk.corpus import stopwords\n",
    "\n",
    "stop_words = stopwords.words('english')\n",
    "print(stop_words[:20])"
   ]
  },
  {
   "cell_type": "code",
   "execution_count": 37,
   "metadata": {},
   "outputs": [],
   "source": [
    "def process_text(comments):\n",
    "    tokens = []\n",
    "    for line in comments:\n",
    "        toks = tokenizer.tokenize(line)\n",
    "        toks = [t.lower() for t in toks if t.lower() not in stop_words]\n",
    "        tokens.extend(toks)\n",
    "    \n",
    "    return tokens"
   ]
  },
  {
   "cell_type": "code",
   "execution_count": 38,
   "metadata": {},
   "outputs": [
    {
     "data": {
      "text/plain": [
       "[('like', 99),\n",
       " ('people', 95),\n",
       " ('guns', 76),\n",
       " ('school', 71),\n",
       " ('gun', 66),\n",
       " ('would', 57),\n",
       " ('one', 50),\n",
       " ('shooting', 48),\n",
       " ('us', 46),\n",
       " ('need', 44),\n",
       " ('get', 40),\n",
       " ('know', 39),\n",
       " ('mass', 39),\n",
       " ('police', 37),\n",
       " ('way', 37),\n",
       " ('shootings', 36),\n",
       " ('well', 36),\n",
       " ('mental', 34),\n",
       " ('country', 34),\n",
       " ('every', 32)]"
      ]
     },
     "execution_count": 38,
     "metadata": {},
     "output_type": "execute_result"
    }
   ],
   "source": [
    "pos_lines = list(df[df.label == 1].comment)\n",
    "\n",
    "pos_tokens = process_text(pos_lines)\n",
    "pos_freq = nltk.FreqDist(pos_tokens)\n",
    "\n",
    "pos_freq.most_common(20)"
   ]
  },
  {
   "cell_type": "code",
   "execution_count": 39,
   "metadata": {},
   "outputs": [
    {
     "data": {
      "image/png": "[encoded data removed]",
      "text/plain": [
       "<Figure size 720x360 with 1 Axes>"
      ]
     },
     "metadata": {
      "needs_background": "light"
     },
     "output_type": "display_data"
    }
   ],
   "source": [
    "y_val = [x[1] for x in pos_freq.most_common()]\n",
    "\n",
    "fig = plt.figure(figsize=(10,5))\n",
    "plt.plot(y_val)\n",
    "\n",
    "plt.xlabel(\"Words\")\n",
    "plt.ylabel(\"Frequency\")\n",
    "plt.title(\"Word Frequency Distribution (Positive)\")\n",
    "plt.show()"
   ]
  },
  {
   "cell_type": "code",
   "execution_count": 40,
   "metadata": {},
   "outputs": [
    {
     "data": {
      "image/png": "[encoded data removed]",
      "text/plain": [
       "<Figure size 720x360 with 1 Axes>"
      ]
     },
     "metadata": {
      "needs_background": "light"
     },
     "output_type": "display_data"
    }
   ],
   "source": [
    "y_final = []\n",
    "for i, k, z, t in zip(y_val[0::4], y_val[1::4], y_val[2::4], y_val[3::4]):\n",
    "    y_final.append(math.log(i + k + z + t))\n",
    "\n",
    "x_val = [math.log(i + 1) for i in range(len(y_final))]\n",
    "\n",
    "fig = plt.figure(figsize=(10,5))\n",
    "\n",
    "plt.xlabel(\"Words (Log)\")\n",
    "plt.ylabel(\"Frequency (Log)\")\n",
    "plt.title(\"Word Frequency Distribution (Positive)\")\n",
    "plt.plot(x_val, y_final)\n",
    "plt.show()"
   ]
  },
  {
   "cell_type": "code",
   "execution_count": 41,
   "metadata": {},
   "outputs": [
    {
     "data": {
      "text/plain": [
       "[('gun', 415),\n",
       " ('people', 327),\n",
       " ('guns', 245),\n",
       " ('school', 234),\n",
       " ('one', 160),\n",
       " ('would', 133),\n",
       " ('shooting', 131),\n",
       " ('like', 130),\n",
       " ('mental', 119),\n",
       " ('get', 118),\n",
       " ('shootings', 117),\n",
       " ('even', 111),\n",
       " ('think', 110),\n",
       " ('mass', 109),\n",
       " ('need', 103),\n",
       " ('us', 100),\n",
       " ('time', 87),\n",
       " ('health', 86),\n",
       " ('laws', 83),\n",
       " ('country', 81)]"
      ]
     },
     "execution_count": 41,
     "metadata": {},
     "output_type": "execute_result"
    }
   ],
   "source": [
    "neg_lines = list(df2[df2.label == -1].comment)\n",
    "\n",
    "neg_tokens = process_text(neg_lines)\n",
    "neg_freq = nltk.FreqDist(neg_tokens)\n",
    "\n",
    "neg_freq.most_common(20)"
   ]
  },
  {
   "cell_type": "code",
   "execution_count": 42,
   "metadata": {},
   "outputs": [
    {
     "data": {
      "image/png": "[encoded data removed]",
      "text/plain": [
       "<Figure size 720x360 with 1 Axes>"
      ]
     },
     "metadata": {
      "needs_background": "light"
     },
     "output_type": "display_data"
    }
   ],
   "source": [
    "y_val = [x[1] for x in neg_freq.most_common()]\n",
    "\n",
    "fig = plt.figure(figsize=(10,5))\n",
    "plt.plot(y_val)\n",
    "\n",
    "plt.xlabel(\"Words\")\n",
    "plt.ylabel(\"Frequency\")\n",
    "plt.title(\"Word Frequency Distribution (Negative)\")\n",
    "plt.show()"
   ]
  },
  {
   "cell_type": "code",
   "execution_count": 43,
   "metadata": {},
   "outputs": [
    {
     "data": {
      "image/png": "[encoded data removed]",
      "text/plain": [
       "<Figure size 720x360 with 1 Axes>"
      ]
     },
     "metadata": {
      "needs_background": "light"
     },
     "output_type": "display_data"
    }
   ],
   "source": [
    "y_final = []\n",
    "for i, k, z in zip(y_val[0::3], y_val[1::3], y_val[2::3]):\n",
    "    if i + k + z == 0:\n",
    "        break\n",
    "    y_final.append(math.log(i + k + z))\n",
    "\n",
    "x_val = [math.log(i+1) for i in range(len(y_final))]\n",
    "\n",
    "fig = plt.figure(figsize=(10,5))\n",
    "\n",
    "plt.xlabel(\"Words (Log)\")\n",
    "plt.ylabel(\"Frequency (Log)\")\n",
    "plt.title(\"Word Frequency Distribution (Negative)\")\n",
    "plt.plot(x_val, y_final)\n",
    "plt.show()"
   ]
  },
  {
   "cell_type": "code",
   "execution_count": null,
   "metadata": {},
   "outputs": [],
   "source": []
  },
  {
   "cell_type": "code",
   "execution_count": null,
   "metadata": {},
   "outputs": [],
   "source": []
  },
  {
   "cell_type": "code",
   "execution_count": null,
   "metadata": {},
   "outputs": [],
   "source": []
  }
 ],
 "metadata": {
  "kernelspec": {
   "display_name": "Python 3",
   "language": "python",
   "name": "python3"
  },
  "language_info": {
   "codemirror_mode": {
    "name": "ipython",
    "version": 3
   },
   "file_extension": ".py",
   "mimetype": "text/x-python",
   "name": "python",
   "nbconvert_exporter": "python",
   "pygments_lexer": "ipython3",
   "version": "3.6.8"
  }
 },
 "nbformat": 4,
 "nbformat_minor": 2
}
