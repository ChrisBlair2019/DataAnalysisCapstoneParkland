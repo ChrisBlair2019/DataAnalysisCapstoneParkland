{
 "cells": [
  {
   "cell_type": "code",
   "execution_count": 1,
   "metadata": {
    "collapsed": true
   },
   "outputs": [
    {
     "name": "stderr",
     "output_type": "stream",
     "text": [
      "C:\\Users\\Chris\\AppData\\Local\\Programs\\Python\\Python37\\lib\\site-packages\\smart_open\\ssh.py:34: UserWarning: paramiko missing, opening SSH/SCP/SFTP paths will be disabled.  `pip install paramiko` to suppress\n  warnings.warn('paramiko missing, opening SSH/SCP/SFTP paths will be disabled.  `pip install paramiko` to suppress')\n"
     ]
    },
    {
     "name": "stderr",
     "output_type": "stream",
     "text": [
      "[nltk_data] Downloading package stopwords to\n[nltk_data]     C:\\Users\\Chris\\AppData\\Roaming\\nltk_data...\n[nltk_data]   Package stopwords is already up-to-date!\n"
     ]
    },
    {
     "data": {
      "text/plain": [
       "True"
      ]
     },
     "execution_count": 1,
     "metadata": {},
     "output_type": "execute_result"
    }
   ],
   "source": [
    "import indicoio, json, re\n",
    "from urlextract import URLExtract\n",
    "import numpy as np\n",
    "import matplotlib.pyplot as plt\n",
    "import datetime\n",
    "from empath import Empath\n",
    "from vaderSentiment.vaderSentiment import SentimentIntensityAnalyzer\n",
    "import nltk\n",
    "from nltk.tokenize import RegexpTokenizer\n",
    "from nltk.corpus import stopwords\n",
    "from nltk.stem.porter import PorterStemmer\n",
    "from gensim.models.coherencemodel import CoherenceModel\n",
    "import plotly.plotly.plotly\n",
    "from plotly.offline import init_notebook_mode\n",
    "import plotly.graph_objs as go\n",
    "analyser = SentimentIntensityAnalyzer()\n",
    "lexicon = Empath()\n",
    "nltk.download('stopwords')\n",
    "\n",
    "\n"
   ]
  },
  {
   "cell_type": "code",
   "execution_count": 2,
   "metadata": {},
   "outputs": [],
   "source": [
    "with open('result.json', 'r') as myfile:\n",
    "    data2 = json.loads(myfile.read())\n",
    "    \n",
    "extractor = URLExtract()\n",
    "\n",
    "timestamp = []\n",
    "sentiment = []\n",
    "political = []\n",
    "\n",
    "num = 0\n",
    "for x in data2['comments']:\n",
    "    num += 1\n",
    "    \n",
    "    # TEXT CLEANING\n",
    "    input_str = data2['comments'][x]['body'].lower() # all letters become lowercase \n",
    "    \n",
    "    url = extractor.find_urls(input_str)          # extracts and removes url\n",
    "    if(len(url) != 0):\n",
    "        input_str = input_str.replace(url[0],'')\n",
    "\n",
    "    input_str = re.sub(r'\\d+', '', input_str)     # removes numbers\n",
    "    input_str = input_str.strip()                 # removes whitespace\n",
    "    input_str = re.sub(r'[^\\w\\s]', '', input_str)   # removes punctuation\n",
    "    \n",
    "    \n",
    "    \n",
    "    # STORING THE TIMESTAMP, SENTIMENT, POLITICAL DATA IN SEPARATE LISTS\n",
    "    if( 'timestamp' in data2['comments'][x] and input_str):\n",
    "        timestamp.append(data2['comments'][x]['timestamp'])\n",
    "        #sentiment.append(indicoio.sentiment(input_str))\n",
    "        #political.append(indicoio.political(input_str))\n",
    "        \n",
    "    data2['comments'][x]['body'] = input_str\n",
    "    \n"
   ]
  },
  {
   "cell_type": "code",
   "execution_count": 3,
   "metadata": {},
   "outputs": [
    {
     "name": "stdout",
     "output_type": "stream",
     "text": [
      "15561\n"
     ]
    }
   ],
   "source": [
    "#SUBSETING COMMENTS \n",
    "subsetList = set()\n",
    "for x in data2[\"comments\"]:\n",
    "    if (\"mental\") in data2[\"comments\"][x][\"body\"]:\n",
    "        subsetList.add(x)\n",
    "    if (\"health\") in data2[\"comments\"][x][\"body\"]:\n",
    "        subsetList.add(x)\n",
    "    if (\"shoot\") in data2[\"comments\"][x][\"body\"]:\n",
    "        subsetList.add(x)\n",
    "    if (\"amend\") in data2[\"comments\"][x][\"body\"]:\n",
    "        subsetList.add(x)\n",
    "    if (\"nra\") in data2[\"comments\"][x][\"body\"]:\n",
    "        subsetList.add(x)\n",
    "    if (\"problem\") in data2[\"comments\"][x][\"body\"]:\n",
    "        subsetList.add(x)\n",
    "    if (\"illness\") in data2[\"comments\"][x][\"body\"]:\n",
    "        subsetList.add(x)\n",
    "    if (\"issue\") in data2[\"comments\"][x][\"body\"]:\n",
    "        subsetList.add(x)\n",
    "    if (\"firearm\") in data2[\"comments\"][x][\"body\"]:\n",
    "        subsetList.add(x)\n",
    "    if (\"mass\") in data2[\"comments\"][x][\"body\"]:\n",
    "        subsetList.add(x)\n",
    "    if (\"shooting\") in data2[\"comments\"][x][\"body\"]:\n",
    "        subsetList.add(x)\n",
    "    if (\"countries\") in data2[\"comments\"][x][\"body\"]:\n",
    "        subsetList.add(x)\n",
    "    if (\"law\") in data2[\"comments\"][x][\"body\"]:\n",
    "        subsetList.add(x)\n",
    "print(len(subsetList))"
   ]
  },
  {
   "cell_type": "code",
   "execution_count": 4,
   "metadata": {},
   "outputs": [
    {
     "name": "stdout",
     "output_type": "stream",
     "text": [
      "5908\n9616\n37\n"
     ]
    }
   ],
   "source": [
    "DListPolAff = list()\n",
    "DListSentiment = list()\n",
    "RListPolAff = list()\n",
    "RListPolSentiment = list()\n",
    "Rcomments = list()\n",
    "Dcomments = list()\n",
    "DCount = 0\n",
    "RCount = 0\n",
    "ErrorCount = 0\n",
    "for x in subsetList:\n",
    "    try:\n",
    "        if data2[\"comments\"][x][\"pol_aff\"][\"Conservative\"] > data2[\"comments\"][x][\"pol_aff\"][\"Liberal\"]:\n",
    "            RListPolAff.append(data2[\"comments\"][x][\"pol_aff\"][\"Conservative\"])\n",
    "            ds = analyser.polarity_scores(data2[\"comments\"][x][\"body\"])\n",
    "            RListPolSentiment.append(ds[\"compound\"])\n",
    "            Rcomments.append(data2[\"comments\"][x][\"body\"])\n",
    "            RCount = RCount + 1\n",
    "        else:\n",
    "            DListPolAff.append(data2[\"comments\"][x][\"pol_aff\"][\"Liberal\"])\n",
    "            ds = analyser.polarity_scores(data2[\"comments\"][x][\"body\"])\n",
    "            DListSentiment.append(ds[\"compound\"])\n",
    "            Dcomments.append(data2[\"comments\"][x][\"body\"])\n",
    "            DCount = DCount + 1\n",
    "    except:\n",
    "        ErrorCount = ErrorCount + 1\n",
    "    \n",
    "print(DCount)\n",
    "print(RCount)\n",
    "print(ErrorCount)"
   ]
  },
  {
   "cell_type": "code",
   "execution_count": 31,
   "metadata": {},
   "outputs": [
    {
     "name": "stdout",
     "output_type": "stream",
     "text": [
      "This is the format of your plot grid:\n[ (1,1) x1,y1 ]\n[ (2,1) x2,y2 ]\n\n"
     ]
    },
    {
     "data": {
      "text/plain": [
       "'temp-plot.html'"
      ]
     },
     "execution_count": 31,
     "metadata": {},
     "output_type": "execute_result"
    }
   ],
   "source": [
    "Republican = go.Scatter(\n",
    "    x = RListPolAff[1:500],\n",
    "    mode = 'markers',\n",
    ")\n",
    "\n",
    "Democrat = go.Scatter(\n",
    "    x = DListPolAff[1:500],\n",
    "    mode = 'markers',\n",
    ")\n",
    "\n",
    "fig = plotly.tools.make_subplots(rows=2, cols=1)\n",
    "\n",
    "fig.append_trace(Republican, 1, 1)\n",
    "fig.append_trace(Democrat, 2, 1)\n",
    "\n",
    "plotly.offline.plot({\n",
    "    \"data\": fig,\n",
    "    \"layout\": go.Layout(title=\"Republican Users Sentiment versus Democrat Users Sentiment\",\n",
    "                        xaxis=dict(\n",
    "        title='Republican Political Sentiment of the Comment',\n",
    "        titlefont=dict(\n",
    "            family='Courier New, monospace',\n",
    "            size=18,\n",
    "            color='#7f7f7f'\n",
    "        )\n",
    "    ),\n",
    "    yaxis=dict(\n",
    "        title='Democrat Political Sentiment of the Comment',\n",
    "        titlefont=dict(\n",
    "            family='Courier New, monospace',\n",
    "            size=18,\n",
    "            color='#7f7f7f'\n",
    "        )\n",
    "    )\n",
    "                        )\n",
    "}, auto_open=True)"
   ]
  },
  {
   "cell_type": "code",
   "execution_count": 6,
   "metadata": {},
   "outputs": [
    {
     "name": "stdout",
     "output_type": "stream",
     "text": [
      "0.3116864065995788\n"
     ]
    }
   ],
   "source": [
    "# Calculate cluster coherence in order to show \n",
    "# significance of certain subgroups\n",
    "\n",
    "#K-means clustering adapted from same plotly \n",
    "\n",
    "from sklearn import metrics\n",
    "from sklearn.metrics import pairwise_distances\n",
    "\n",
    "from sklearn.cluster import KMeans\n",
    "from pandas import DataFrame\n",
    "from sklearn import metrics\n",
    "from sklearn.datasets import load_digits\n",
    "from sklearn.decomposition import PCA\n",
    "from sklearn.preprocessing import scale\n",
    "import matplotlib.pyplot as plt\n",
    "import gc\n",
    "\n",
    "\n",
    "\n",
    "\"\"\"\n",
    "print(PositiveSentimentR)\n",
    "print(NegativeSentimentR)\n",
    "print(NeutralSentimentR)\n",
    "print(PositiveSentimentD)\n",
    "print(NegativeSentimentD)\n",
    "print(NeutralSentimentD)\n",
    "print(BiasOver05R)\n",
    "print(BiasOver05D)\n",
    "\"\"\"\n",
    "\n",
    "subsetList = 0\n",
    "\n",
    "data2 = 0\n",
    "\n",
    "np.random.seed(seed=1000)\n",
    "\n",
    "choiceRand = np.random.rand(1500)\n",
    "\n",
    "subset1 = []\n",
    "\n",
    "subset2 = []\n",
    "\n",
    "for a in range(RListPolSentiment):\n",
    "    if RListPolSentiment[a] > 0.05 or RListPolSentiment[a] < -0.05:\n",
    "        subset1.append(a)\n",
    "        \n",
    "for b in range(DListSentiment):\n",
    "    if DListSentiment[b] > 0.05 or DListSentiment[b] < -0.05:\n",
    "        subset2.append(b)\n",
    "    \n",
    "\n",
    "\n",
    "randIndicesR = np.random.choice(subset1, 1500)\n",
    "RListPolSentimentRandomized = RListPolSentiment[randIndicesR]\n",
    "RCommentsRandomized = Rcomments[randIndicesR]\n",
    "\n",
    "randIndicesD = np.random.choice(subset2, 1500)\n",
    "DListPolSentimentRandomized = DListSentiment[randIndicesD]\n",
    "DCommentsRandomized = Dcomments[randIndicesD]\n",
    "\n",
    "Data = {\"RSent\" : Rsent,\n",
    "        \"DSent\": DSent,\n",
    "        \"RPolAff\": np.random.choice(RListPolAff[randIndicesR], 1500),\n",
    "        \"DPolAff\": np.random.choice(DListPolAff[randIndicesD], 1500)}\n",
    "  \n",
    "\n",
    "df = DataFrame(Data, columns=['RSent', 'DSent', \"RPolAff\", \"DPolAff\"])\n",
    "\n",
    "reduced_data = PCA(n_components=2).fit_transform(df)\n",
    "kmeans = KMeans(init='k-means++',  n_init=10)\n",
    "kmeans.fit(reduced_data)\n",
    "\n",
    "print(metrics.silhouette_score(df, kmeans.labels_, metric='euclidean'))\n"
   ]
  },
  {
   "cell_type": "code",
   "execution_count": null,
   "metadata": {},
   "outputs": [],
   "source": []
  },
  {
   "cell_type": "code",
   "execution_count": 20,
   "metadata": {},
   "outputs": [
    {
     "data": {
      "text/plain": [
       "'temp-plot.html'"
      ]
     },
     "execution_count": 20,
     "metadata": {},
     "output_type": "execute_result"
    }
   ],
   "source": [
    "# K-means clustering, adapted from tutorial from https://plot.ly/scikit-learn/plot-kmeans-digits/\n",
    "from sklearn.cluster import KMeans\n",
    "from pandas import DataFrame\n",
    "from sklearn import metrics\n",
    "from sklearn.datasets import load_digits\n",
    "from sklearn.decomposition import PCA\n",
    "from sklearn.preprocessing import scale\n",
    "import matplotlib.pyplot as plt\n",
    "import gc\n",
    "\n",
    "subsetList = 0\n",
    "\n",
    "data2 = 0\n",
    "\n",
    "np.random.seed(seed=1000)\n",
    "\n",
    "choiceRand = np.random.rand(1500)\n",
    "\n",
    "subset1 = []\n",
    "\n",
    "subset2 = []\n",
    "\n",
    "for a in range(len(RListPolSentiment)):\n",
    "    if RListPolSentiment[a] > 0.05 or RListPolSentiment[a] < -0.05:\n",
    "        subset1.append(a)\n",
    "        \n",
    "for b in range(len(DListSentiment)):\n",
    "    if DListSentiment[b] > 0.05 or DListSentiment[b] < -0.05:\n",
    "        subset2.append(b)\n",
    "    \n",
    "\n",
    "\n",
    "randIndicesR = np.random.choice(subset1, 1500)\n",
    "RListPolSentimentRandomized = [RListPolSentiment[i] for i in randIndicesR]\n",
    "RCommentsRandomized = [Rcomments[i] for i in randIndicesR]\n",
    "\n",
    "randIndicesD = np.random.choice(subset2, 1500)\n",
    "DListPolSentimentRandomized = [DListSentiment[i] for i in randIndicesD]\n",
    "DCommentsRandomized = [DListSentiment[i] for i in randIndicesD]\n",
    "\n",
    "Data = {\"RSent\" : RListPolSentimentRandomized,\n",
    "        \"DSent\": DListPolSentimentRandomized,\n",
    "        \"RPolAff\": np.random.choice([RListPolAff[i] for i in randIndicesR], 1500),\n",
    "        \"DPolAff\": np.random.choice([DListPolAff[i] for i in randIndicesD], 1500)}\n",
    "\n",
    "df = DataFrame(Data, columns=['RSent','DSent', \"RPolAff\", \"DPolAff\"])\n",
    "\n",
    "def matplotlib_to_plotly(cmap, pl_entries):\n",
    "    h = 1.0/(pl_entries-1)\n",
    "    pl_colorscale = []\n",
    "    \n",
    "    for k in range(pl_entries):\n",
    "        C = list(map(np.uint8, np.array(cmap(k*h)[:3])*255))\n",
    "        pl_colorscale.append([k*h, 'rgb'+str((C[0], C[1], C[2]))])\n",
    "        \n",
    "    return pl_colorscale\n",
    "\n",
    "\n",
    "reduced_data = PCA(n_components=2).fit_transform(df)\n",
    "kmeans = KMeans(init='k-means++', n_clusters=4,  n_init=10)\n",
    "kmeans.fit(reduced_data)\n",
    "\n",
    "# Step size of the mesh. Decrease to increase the quality of the VQ.\n",
    "h = .02     # point in the mesh [x_min, x_max]x[y_min, y_max].\n",
    "gc.collect()\n",
    "# Plot the decision boundary. For that, we will assign a color to each\n",
    "x_min, x_max = reduced_data[:, 0].min() - 1, reduced_data[:, 0].max() + 1\n",
    "y_min, y_max = reduced_data[:, 1].min() - 1, reduced_data[:, 1].max() + 1\n",
    "xx, yy = np.meshgrid(np.arange(x_min, x_max, h), np.arange(y_min, y_max, h))\n",
    "\n",
    "# Obtain labels for each point in mesh. Use last trained model.\n",
    "Z = kmeans.predict(np.c_[xx.ravel(), yy.ravel()])\n",
    "\n",
    "# Put the result into a color plot\n",
    "Z = Z.reshape(xx.shape)\n",
    "\n",
    "back = go.Heatmap(x=xx[0][:len(Z)],\n",
    "                  y=xx[0][:len(Z)],\n",
    "                  z=Z,\n",
    "                  showscale=False,\n",
    "                  colorscale=matplotlib_to_plotly(plt.cm.Paired, len(Z)))\n",
    "\n",
    "markers = go.Scatter(x=reduced_data[:, 0], \n",
    "                     y=reduced_data[:, 1],\n",
    "                     showlegend=False,\n",
    "                     mode='markers', \n",
    "                     marker=dict(\n",
    "                             size=3, color='black'))\n",
    "\n",
    "# Plot the centroids as a white \n",
    "centroids = kmeans.cluster_centers_\n",
    "center = go.Scatter(x=centroids[:, 0],\n",
    "                    y=centroids[:, 1],\n",
    "                    showlegend=False,\n",
    "                    mode='markers', \n",
    "                    marker=dict(\n",
    "                            size=10, color='white'))\n",
    "data=[back, markers, center]\n",
    "\n",
    "layout = go.Layout(title ='K-means clustering with Sentiment (PCA-reduced data)<br>'\n",
    "                           'On Subsetted dataset relating to Mental Health',\n",
    "                   xaxis=dict(ticks='', showticklabels=False,\n",
    "                              zeroline=False, title='2-D Sentiment (-1 to 1)'),\n",
    "                   yaxis=dict(ticks='', showticklabels=False,\n",
    "                              zeroline=False))\n",
    "fig = go.Figure(data=data, layout=layout)\n",
    "\n",
    "plotly.offline.plot(fig, auto_open=True)\n"
   ]
  },
  {
   "cell_type": "code",
   "execution_count": 29,
   "metadata": {
    "collapsed": false
   },
   "outputs": [
    {
     "name": "stdout",
     "output_type": "stream",
     "text": [
      "2\n"
     ]
    },
    {
     "name": "stdout",
     "output_type": "stream",
     "text": [
      "3\n"
     ]
    },
    {
     "name": "stdout",
     "output_type": "stream",
     "text": [
      "4\n"
     ]
    },
    {
     "name": "stdout",
     "output_type": "stream",
     "text": [
      "5\n"
     ]
    },
    {
     "name": "stdout",
     "output_type": "stream",
     "text": [
      "6\n"
     ]
    },
    {
     "name": "stdout",
     "output_type": "stream",
     "text": [
      "7\n"
     ]
    },
    {
     "name": "stdout",
     "output_type": "stream",
     "text": [
      "8\n"
     ]
    },
    {
     "name": "stdout",
     "output_type": "stream",
     "text": [
      "9\n"
     ]
    },
    {
     "name": "stdout",
     "output_type": "stream",
     "text": [
      "10\n"
     ]
    },
    {
     "name": "stdout",
     "output_type": "stream",
     "text": [
      "11\n"
     ]
    },
    {
     "name": "stdout",
     "output_type": "stream",
     "text": [
      "12\n"
     ]
    },
    {
     "data": {
      "text/plain": [
       "'temp-plot.html'"
      ]
     },
     "execution_count": 29,
     "metadata": {},
     "output_type": "execute_result"
    }
   ],
   "source": [
    "# Adapted from https://plot.ly/scikit-learn/plot-kmeans-silhouette-analysis/\n",
    "\n",
    "import matplotlib.pyplot as plt\n",
    "import matplotlib.cm as cm\n",
    "from sklearn.metrics import silhouette_samples, silhouette_score\n",
    "\n",
    "n_cluster = [2, 3, 4, 5, 6, 7, 8, 9, 10, 11, 12]\n",
    "\n",
    "silhouette_avg = []\n",
    "\n",
    "for n_clusters in n_cluster:\n",
    "    # Initialize the clusterer with n_clusters value and a random generator\n",
    "    # seed of 10 for reproducibility.\n",
    "    reduced_data = PCA(n_components=2).fit_transform(df)\n",
    "    kmeans = KMeans(init='k-means++', n_clusters=n_clusters,  n_init=10)\n",
    "    kmeans.fit(reduced_data)\n",
    "    cluster_labels = kmeans.fit_predict(reduced_data)\n",
    "\n",
    "    # The silhouette_score gives the average value for all the samples.\n",
    "    # This gives a perspective into the density and separation of the formed\n",
    "    # clusters\n",
    "    silhouette_avg.append(silhouette_score(reduced_data, cluster_labels))\n",
    "    print(n_clusters)\n",
    "    \n",
    "    \n",
    "figure = go.Scatter(\n",
    "    x = n_cluster,\n",
    "    y = silhouette_avg,\n",
    "    mode = 'lines+markers')\n",
    "\n",
    "plotly.offline.plot({\n",
    "    \"data\": [figure],\n",
    "    \"layout\": go.Layout(title=\"Number of Clusters vs. Silhouette Avg\",\n",
    "                        xaxis=dict(\n",
    "        title='Number of Clusters',\n",
    "        titlefont=dict(\n",
    "            family='Courier New, monospace',\n",
    "            size=18,\n",
    "            color='#7f7f7f'\n",
    "        )\n",
    "    ),\n",
    "    yaxis=dict(\n",
    "        title='Silhouette Score',\n",
    "        titlefont=dict(\n",
    "            family='Courier New, monospace',\n",
    "            size=18,\n",
    "            color='#7f7f7f'\n",
    "        )\n",
    "    )\n",
    "                        )\n",
    "}, auto_open=True)"
   ]
  },
  {
   "cell_type": "code",
   "execution_count": 51,
   "metadata": {},
   "outputs": [
    {
     "name": "stdout",
     "output_type": "stream",
     "text": [
      "[0 1 2 3]\nRepub\n"
     ]
    },
    {
     "name": "stdout",
     "output_type": "stream",
     "text": [
      "Democrat\n"
     ]
    }
   ],
   "source": [
    "print(np.unique(kmeans.labels_))\n",
    "\n",
    "lab = kmeans.predict(reduced_data)\n",
    "\n",
    "#print(lab)\n",
    "\n",
    "cm1R = []\n",
    "\n",
    "cm2R = []\n",
    "\n",
    "cm3R = []\n",
    "\n",
    "cm4R = []\n",
    "\n",
    "# Republican Comments \n",
    "\n",
    "print(\"Repub\")\n",
    "\n",
    "for a in range(len(randIndicesR)):\n",
    "    dec = kmeans.predict(np.array((RListPolSentiment[randIndicesR[a]], \n",
    "                 RListPolAff[randIndicesR[a]])).reshape((1, -1)))\n",
    "    if dec == 0:\n",
    "        cm1R.append(Rcomments[a])\n",
    "    elif dec == 1:\n",
    "        cm2R.append(Rcomments[a])\n",
    "    elif dec == 2:\n",
    "        cm3R.append(Rcomments[a])\n",
    "    elif dec == 3:\n",
    "        cm4R.append(Rcomments[a])\n",
    "\n",
    "# print(kmeans.predict(np.array((RListPolSentiment[randIndicesR[cm1R]], \n",
    "#                  RListPolAff[randIndicesR[cm1R]])).reshape((1, -1))))\n",
    "# print(kmeans.predict\n",
    "#       (np.array((RListPolSentiment[randIndicesR[cm2R]], \n",
    "#                  RListPolAff[randIndicesR[cm2R]])).reshape((1, -1))))\n",
    "# print(kmeans.predict\n",
    "#       (np.array((RListPolSentiment[randIndicesR[cm3R]], \n",
    "#                  RListPolAff[randIndicesR[cm3R]])).reshape((1, -1))))\n",
    "# print(kmeans.predict\n",
    "#       (np.array((RListPolSentiment[randIndicesR[cm4R]], \n",
    "#                  RListPolAff[randIndicesR[cm4R]])).reshape((1, -1))))\n",
    "\n",
    "# Democrat Comments \n",
    "\n",
    "print(\"Democrat\")\n",
    "\n",
    "cm1D = []\n",
    "\n",
    "cm2D = []\n",
    "\n",
    "cm3D = []\n",
    "\n",
    "cm4D = []\n",
    "\n",
    "for b in range(len(randIndicesD)):\n",
    "    dec = kmeans.predict(np.array((DListSentiment[randIndicesD[b]], \n",
    "                 DListPolAff[randIndicesD[b]])).reshape((1, -1)))\n",
    "    if dec == 0:\n",
    "        cm1D.append(Dcomments[b])\n",
    "    elif dec == 1:\n",
    "        cm2D.append(Dcomments[b])\n",
    "    elif dec == 2:\n",
    "        cm3D.append(Dcomments[b])\n",
    "    elif dec == 3:\n",
    "        cm4D.append(Dcomments[b])\n",
    "# print(kmeans.predict\n",
    "#       (np.array((DListSentiment[randIndicesD[cm1D]], \n",
    "#                  DListPolAff[randIndicesD[cm1D]])).reshape((1, -1))))\n",
    "# print(kmeans.predict\n",
    "#       (np.array((DListSentiment[randIndicesD[cm2D]], \n",
    "#                  DListPolAff[randIndicesD[cm2D]])).reshape((1, -1))))\n",
    "# print(kmeans.predict\n",
    "#       (np.array((DListSentiment[randIndicesD[cm3D]], \n",
    "#                  DListPolAff[randIndicesD[cm3D]])).reshape((1, -1))))\n",
    "# print(kmeans.predict\n",
    "#       (np.array((DListSentiment[randIndicesD[cm4D]], \n",
    "#                  DListPolAff[randIndicesD[cm4D]])).reshape((1, -1))))"
   ]
  },
  {
   "cell_type": "code",
   "execution_count": 75,
   "metadata": {},
   "outputs": [
    {
     "name": "stdout",
     "output_type": "stream",
     "text": [
      "Comments Republican\nim not a gunnut and only own one firearm for home defense and leisure shooting at the range   i think our u s a laws are reasonable perhaps gun show loopholes take it too far as i believe registering firearms along with a background check is very reasonable   enforcement and responsiveness to reports of potentially dangerous people is the the biggest problem i believe what if any are further steps that you feel should be taken towards common sense reform\n\nim perfectly fine with civilians owning military hardware  the cost of ownership and maintenance alone would put it out of reach for pretty much everyone likely to commit crimes let someone buy a tomahawk if it makes them feel cool  how are they gonna use it you think the faa will let them launch it and fly it around the missile alone goes for about  m and would probably be higher to private citizens since they wont be setting up a bulk purchase or contract with raytheon  this doesnt cover fuel the ship required to launch one or the costs associated with that etc tons of people own tanks with functional main guns and coaxial guns  whens the last time you heard of any of those people committing a crime with it there are people that own fully functional harrier fighter jets  whens the last time one of them strafed a schoolyardlegal gun owners are not the ones committing crimes  you are attacking the issue from the wrong angle\n\nme too  upped my membership to endowment life member  nra comes up with some new level every other year or so\n\nyes the blood of children who were attacked by a deranged psychopath is on my hands because i enjoy shooting clay targets at my local shooting range  you really hit home with that one ill be tormented for months or years now  do you actually think you can legislate guns out of existence do you think making something illegal makes it not exist anymore guns are a mechanical device that can be made by anyone anywhere with some metal pipe household chemicals and a connection to the internet  same as bombs and other homemade explosives  you can print a functional pistol right now made of plastic  get real\n\nComments Democrat\nbecause if you are treated legally as an adult you should be entitled to all the rights and responsibilities of adulthood  im all for changing the age to buy firearms so long as every other aspect of becoming an adult goes up too  alcohol firearms voting entering into legally binding contracts being held fully responsible for your crimes etc  should all be the same age  we need to stop this bullshit of well we are going to expect you to act like an adult and then treat you like a child\n\nthats literally what a singleissue voter is\n\nbecause there is no real mental health services for this guy  clearly there were signs but nothing to help him and help prevent this tragedy   if one of these calls could have allowed for a trip to a doctor or even a facility   he may not have chosen to murder children\n\ni bet that kind of legislation would get passed much faster if the children of republican and democratic politicians or nralobbyists were victims of these atrocious attacks but since its just common americans dying they dont give a shit just like with universal healthcare or the opioid crisis  as long as they personally arent affected theyre more than happy to look the other way and take money from lobbyists\n"
     ]
    }
   ],
   "source": [
    "print(\"Comments Republican\")\n",
    "print(cm1R[1])\n",
    "print()\n",
    "print(cm2R[4])\n",
    "print()\n",
    "print(cm3R[11]) #5, 6, 10 \n",
    "print()\n",
    "print(cm4R[8])\n",
    "print()\n",
    "print(\"Comments Democrat\")\n",
    "print(cm1D[1])\n",
    "print()\n",
    "print(cm2D[1])\n",
    "print()\n",
    "print(cm3D[3])\n",
    "print()\n",
    "print(cm4D[4])\n"
   ]
  },
  {
   "cell_type": "code",
   "execution_count": null,
   "metadata": {},
   "outputs": [],
   "source": []
  }
 ],
 "metadata": {
  "kernelspec": {
   "display_name": "Python 2",
   "language": "python",
   "name": "python2"
  },
  "language_info": {
   "codemirror_mode": {
    "name": "ipython",
    "version": 2
   },
   "file_extension": ".py",
   "mimetype": "text/x-python",
   "name": "python",
   "nbconvert_exporter": "python",
   "pygments_lexer": "ipython2",
   "version": "2.7.6"
  }
 },
 "nbformat": 4,
 "nbformat_minor": 0
}
