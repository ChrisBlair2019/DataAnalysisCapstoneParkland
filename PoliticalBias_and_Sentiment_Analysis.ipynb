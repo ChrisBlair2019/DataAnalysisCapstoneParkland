{
 "cells": [
  {
   "cell_type": "code",
   "execution_count": 142,
   "metadata": {},
   "outputs": [],
   "source": [
    "import indicoio, json, re\n",
    "from urlextract import URLExtract\n",
    "import numpy as np\n",
    "import matplotlib.pyplot as plt\n",
    "import datetime\n",
    "\n",
    "\n"
   ]
  },
  {
   "cell_type": "code",
   "execution_count": 152,
   "metadata": {},
   "outputs": [],
   "source": [
    "#maxxed out these api keys:\n",
    "#indicoio.config.api_key = 'dd2ccc617162179d9b29a3148b0377de'\n",
    "#indicoio.config.api_key = 'd48be9a31ea9c241d883569acf6fd456'\n",
    "\n",
    "\n",
    "#remaining api keys\n",
    "indicoio.config.api_key = '797527d8dbe8cbb44e9a4019cd690afd'\n",
    "#indicoio.config.api_key = 'a67ce4f377c965110a656e8587488294'\n",
    "#indicoio.config.api_key = 'b52cc5abaeea7b5ce60bf776d667128c'\n",
    "\n",
    "\n",
    "\n",
    "\n",
    "\n",
    "\n",
    "\n"
   ]
  },
  {
   "cell_type": "code",
   "execution_count": 153,
   "metadata": {},
   "outputs": [],
   "source": [
    "with open('parkland_ext.json', 'r') as myfile:\n",
    "    data = json.loads(myfile.read())\n",
    "\n"
   ]
  },
  {
   "cell_type": "code",
   "execution_count": 154,
   "metadata": {},
   "outputs": [
    {
     "name": "stdout",
     "output_type": "stream",
     "text": [
      "Number of comments in our dataset\n",
      "50500\n"
     ]
    }
   ],
   "source": [
    "count = 0\n",
    "for x in data['comments']:\n",
    "    count += 1\n",
    "\n",
    "print(\"Number of comments in our dataset\")\n",
    "print(count)\n",
    "    "
   ]
  },
  {
   "cell_type": "code",
   "execution_count": 155,
   "metadata": {},
   "outputs": [],
   "source": [
    "\n",
    "    \n",
    "extractor = URLExtract()\n",
    "\n",
    "timestamp = []\n",
    "body_text = []\n",
    "\n",
    "\n",
    "num = 0\n",
    "for x in data['comments']:\n",
    "    num += 1\n",
    "    \n",
    "    # TEXT CLEANING\n",
    "    input_str = data['comments'][x]['body'].lower() # all letters become lowercase   \n",
    "    url = extractor.find_urls(input_str)          # extracts and removes url\n",
    "    if(len(url) != 0):\n",
    "        input_str = input_str.replace(url[0],'')\n",
    "\n",
    "    input_str = re.sub(r'\\d+', '', input_str)     # removes numbers\n",
    "    input_str = input_str.strip()                 # removes whitespace\n",
    "    input_str = input_str.replace('\\n','')        # removes '/n'\n",
    "    \n",
    "    # parsing subreddits mentioned in the body text\n",
    "    input_str = input_str.replace('_',' ')        # removes '_'\n",
    "    input_str = input_str.replace('/',' ')        # removes '/'\n",
    "    input_str = input_str.replace('*','')         # removes '*'\n",
    "    input_str = input_str.replace('#',' ')        # removes '#'\n",
    "    input_str = input_str.replace('.',' ')        # removes '.'\n",
    "\n",
    "\n",
    "    input_str = re.sub(r'[^\\w\\s]','',input_str)   # removes leftover punctuation\n",
    "    \n",
    "\n",
    "    \n",
    "    if( 'timestamp' in data['comments'][x] and input_str):\n",
    "        body_text.append(input_str)\n",
    "        timestamp.append(data['comments'][x]['timestamp'])\n",
    "\n",
    "        \n",
    "    data['comments'][x]['body'] = input_str\n",
    "\n",
    "\n"
   ]
  },
  {
   "cell_type": "code",
   "execution_count": 156,
   "metadata": {},
   "outputs": [
    {
     "data": {
      "text/plain": [
       "50331"
      ]
     },
     "execution_count": 156,
     "metadata": {},
     "output_type": "execute_result"
    }
   ],
   "source": [
    "len(body_text)\n"
   ]
  },
  {
   "cell_type": "code",
   "execution_count": 157,
   "metadata": {},
   "outputs": [],
   "source": [
    "# Parsed the TIMESTAMP to create a list of DATATIME objects\n",
    "\n",
    "from datetime import datetime\n",
    "\n",
    "\n",
    "time = []\n",
    "\n",
    "for x in timestamp:\n",
    "    parsed_date = datetime.utcfromtimestamp(int(x))\n",
    "    year = parsed_date.year\n",
    "    month = parsed_date.month\n",
    "    day = parsed_date.day\n",
    "    hour = parsed_date.hour\n",
    "    minute = parsed_date.minute\n",
    "    customdate = datetime(year, month, day, hour, minute)\n",
    "    time.append(customdate)\n",
    "    \n",
    "    \n"
   ]
  },
  {
   "cell_type": "code",
   "execution_count": 158,
   "metadata": {},
   "outputs": [
    {
     "name": "stdout",
     "output_type": "stream",
     "text": [
      "50331\n"
     ]
    }
   ],
   "source": [
    "print(len(time))"
   ]
  },
  {
   "cell_type": "code",
   "execution_count": 159,
   "metadata": {},
   "outputs": [],
   "source": [
    "political1 = indicoio.political(body_text[0:10000])\n",
    "political2 = indicoio.political(body_text[10000:20000])\n",
    "political3 = indicoio.political(body_text[20000:30000])\n",
    "political4 = indicoio.political(body_text[30000:40000])\n",
    "political5 = indicoio.political(body_text[40000:50000])\n",
    "political6 = indicoio.political(body_text[50000:50331])\n",
    "\n",
    "                                \n",
    "                                \n",
    "political = political1 + political2 + political3 + political4 + political5 + political6"
   ]
  },
  {
   "cell_type": "code",
   "execution_count": 160,
   "metadata": {},
   "outputs": [],
   "source": [
    "sentiment1 = indicoio.sentiment(body_text[0:10000])\n",
    "sentiment2 = indicoio.sentiment(body_text[10000:20000])\n",
    "sentiment3 = indicoio.sentiment(body_text[20000:30000])\n",
    "sentiment4 = indicoio.sentiment(body_text[30000:40000])\n",
    "sentiment5 = indicoio.sentiment(body_text[40000:50000])\n",
    "sentiment6 = indicoio.sentiment(body_text[50000:50331])\n",
    "\n",
    "                                \n",
    "                                \n",
    "sentiment = sentiment1 + sentiment2 + sentiment3 + sentiment4 + sentiment5 + sentiment6"
   ]
  },
  {
   "cell_type": "code",
   "execution_count": 161,
   "metadata": {},
   "outputs": [
    {
     "data": {
      "text/plain": [
       "50331"
      ]
     },
     "execution_count": 161,
     "metadata": {},
     "output_type": "execute_result"
    }
   ],
   "source": [
    "len(sentiment)\n"
   ]
  },
  {
   "cell_type": "code",
   "execution_count": 212,
   "metadata": {},
   "outputs": [
    {
     "name": "stdout",
     "output_type": "stream",
     "text": [
      "15472\n",
      "10752\n",
      "66920\n",
      "2512\n",
      "23914\n"
     ]
    }
   ],
   "source": [
    "len(political)\n",
    "\n",
    "libertarian = []\n",
    "liberal = []\n",
    "conservative = []\n",
    "green = []\n",
    "\n",
    "\n",
    "time_libertarian = []\n",
    "time_liberal = []\n",
    "time_conservative = []\n",
    "time_green = []\n",
    "\n",
    "sentiment_libertarian = []\n",
    "sentiment_liberal = []\n",
    "sentiment_conservative = []\n",
    "sentiment_green = []\n",
    "\n",
    "\n",
    "\n",
    "\n",
    "output = []\n",
    "check = 0\n",
    "\n",
    "num = 0\n",
    "\n",
    "\n",
    "final_time = []\n",
    "final_sentiment = []\n",
    "\n",
    "for x in range(len(political)):\n",
    "    for y in range(len(political[x])):\n",
    "        \n",
    "        if(political[x]['Libertarian'] > 0.50):\n",
    "            libertarian.append(political[x]['Libertarian'])\n",
    "            time_libertarian.append(time[x])\n",
    "            sentiment_libertarian.append(sentiment[x])\n",
    "            check = 1\n",
    "        elif(political[x]['Liberal'] > 0.50):\n",
    "            liberal.append(political[x]['Liberal'])\n",
    "            time_liberal.append(time[x])\n",
    "            sentiment_liberal.append(sentiment[x])\n",
    "            check = 1\n",
    "        elif(political[x]['Conservative'] > 0.50):\n",
    "            conservative.append(political[x]['Conservative'])\n",
    "            time_conservative.append(time[x])\n",
    "            sentiment_conservative.append(sentiment[x])\n",
    "            check = 1\n",
    "        elif(political[x]['Green'] > 0.50):\n",
    "            green.append(political[x]['Green'])\n",
    "            time_green.append(time[x])\n",
    "            sentiment_green.append(sentiment[x])\n",
    "            check = 1\n",
    "        \n",
    "            \n",
    "    \n",
    "    if(check == 1):\n",
    "        final_time.append(time[x])\n",
    "        final_sentiment.append(sentiment[x])\n",
    "        check = 0\n",
    "    \n",
    "        num = num + 1\n",
    "\n",
    "\n",
    "\n",
    "\n",
    "print(len(conservative))\n",
    "print(len(liberal))\n",
    "print(len(libertarian))\n",
    "print(len(green))\n",
    "\n",
    "\n",
    "\n",
    "\n",
    "\n",
    "print(num)\n"
   ]
  },
  {
   "cell_type": "code",
   "execution_count": 188,
   "metadata": {},
   "outputs": [
    {
     "data": {
      "image/png": "[encoded data removed]",
      "text/plain": [
       "<Figure size 432x288 with 1 Axes>"
      ]
     },
     "metadata": {
      "needs_background": "light"
     },
     "output_type": "display_data"
    }
   ],
   "source": [
    "plt.scatter(sentiment_liberal, liberal)\n",
    "plt.title('Liberal vs Sentiment')\n",
    "plt.xlabel('Sentiment')\n",
    "plt.ylabel('Liberal')\n",
    "plt.show()\n",
    "\n",
    "\n"
   ]
  },
  {
   "cell_type": "code",
   "execution_count": 189,
   "metadata": {},
   "outputs": [
    {
     "data": {
      "image/png": "[encoded data removed]",
      "text/plain": [
       "<Figure size 432x288 with 1 Axes>"
      ]
     },
     "metadata": {
      "needs_background": "light"
     },
     "output_type": "display_data"
    }
   ],
   "source": [
    "plt.scatter(sentiment_conservative, conservative)\n",
    "plt.title('Conservative vs Sentiment')\n",
    "plt.xlabel('Sentiment')\n",
    "plt.ylabel('Conservative')\n",
    "plt.show()\n"
   ]
  },
  {
   "cell_type": "code",
   "execution_count": 190,
   "metadata": {},
   "outputs": [
    {
     "data": {
      "image/png": "[encoded data removed]",
      "text/plain": [
       "<Figure size 432x288 with 1 Axes>"
      ]
     },
     "metadata": {
      "needs_background": "light"
     },
     "output_type": "display_data"
    }
   ],
   "source": [
    "plt.scatter(sentiment_libertarian, libertarian)\n",
    "plt.title('Liberatarian vs Sentiment')\n",
    "plt.xlabel('Sentiment')\n",
    "plt.ylabel('Liberatarian')\n",
    "plt.show()\n"
   ]
  },
  {
   "cell_type": "code",
   "execution_count": 191,
   "metadata": {},
   "outputs": [
    {
     "data": {
      "image/png": "[encoded data removed]",
      "text/plain": [
       "<Figure size 432x288 with 1 Axes>"
      ]
     },
     "metadata": {
      "needs_background": "light"
     },
     "output_type": "display_data"
    }
   ],
   "source": [
    "plt.scatter(sentiment_green, green)\n",
    "plt.title('Green vs Sentiment')\n",
    "plt.xlabel('Sentiment')\n",
    "plt.ylabel('Green')\n",
    "plt.show()\n"
   ]
  },
  {
   "cell_type": "code",
   "execution_count": 211,
   "metadata": {},
   "outputs": [
    {
     "name": "stderr",
     "output_type": "stream",
     "text": [
      "/Library/Frameworks/Python.framework/Versions/3.7/lib/python3.7/site-packages/pandas/plotting/_converter.py:129: FutureWarning:\n",
      "\n",
      "Using an implicitly registered datetime converter for a matplotlib plotting method. The converter was registered by pandas on import. Future versions of pandas will require you to explicitly register matplotlib converters.\n",
      "\n",
      "To register the converters:\n",
      "\t>>> from pandas.plotting import register_matplotlib_converters\n",
      "\t>>> register_matplotlib_converters()\n",
      "\n"
     ]
    },
    {
     "data": {
      "image/png": "[encoded data removed]",
      "text/plain": [
       "<Figure size 432x288 with 1 Axes>"
      ]
     },
     "metadata": {
      "needs_background": "light"
     },
     "output_type": "display_data"
    }
   ],
   "source": [
    "plt.scatter(time, sentiment)\n",
    "plt.title('Sentiment vs Time')\n",
    "plt.xlabel('Time')\n",
    "plt.ylabel('Sentiment')\n",
    "plt.show()"
   ]
  },
  {
   "cell_type": "code",
   "execution_count": 193,
   "metadata": {},
   "outputs": [
    {
     "data": {
      "image/png": "[encoded data removed]",
      "text/plain": [
       "<Figure size 432x288 with 1 Axes>"
      ]
     },
     "metadata": {
      "needs_background": "light"
     },
     "output_type": "display_data"
    }
   ],
   "source": [
    "plt.scatter(time_liberal, liberal)\n",
    "plt.title('Liberal vs Time')\n",
    "plt.xlabel('Time')\n",
    "plt.ylabel('Liberal')\n",
    "plt.show()"
   ]
  },
  {
   "cell_type": "code",
   "execution_count": 194,
   "metadata": {},
   "outputs": [
    {
     "data": {
      "image/png": "[encoded data removed]",
      "text/plain": [
       "<Figure size 432x288 with 1 Axes>"
      ]
     },
     "metadata": {
      "needs_background": "light"
     },
     "output_type": "display_data"
    }
   ],
   "source": [
    "plt.scatter(time_green, green)\n",
    "plt.title('Green vs Time')\n",
    "plt.xlabel('Time')\n",
    "plt.ylabel('Green')\n",
    "plt.show()"
   ]
  },
  {
   "cell_type": "code",
   "execution_count": 195,
   "metadata": {},
   "outputs": [
    {
     "data": {
      "image/png": "[encoded data removed]",
      "text/plain": [
       "<Figure size 432x288 with 1 Axes>"
      ]
     },
     "metadata": {
      "needs_background": "light"
     },
     "output_type": "display_data"
    }
   ],
   "source": [
    "plt.scatter(time_conservative, conservative)\n",
    "plt.title('Conservative vs Time')\n",
    "plt.xlabel('Time')\n",
    "plt.ylabel('Conservative')\n",
    "plt.show()"
   ]
  },
  {
   "cell_type": "code",
   "execution_count": 196,
   "metadata": {},
   "outputs": [
    {
     "data": {
      "image/png": "[encoded data removed]",
      "text/plain": [
       "<Figure size 432x288 with 1 Axes>"
      ]
     },
     "metadata": {
      "needs_background": "light"
     },
     "output_type": "display_data"
    }
   ],
   "source": [
    "plt.scatter(time_libertarian, libertarian)\n",
    "plt.title('Libertarian vs Time')\n",
    "plt.xlabel('Time')\n",
    "plt.ylabel('Libertarian')\n",
    "\n",
    "plt.show()"
   ]
  },
  {
   "cell_type": "code",
   "execution_count": 80,
   "metadata": {},
   "outputs": [],
   "source": [
    "x = {'Sentiment':sentiment,'Time':time}\n",
    "\n",
    "import pandas as pd\n",
    "df = pd.DataFrame(x)\n",
    "\n"
   ]
  },
  {
   "cell_type": "code",
   "execution_count": 198,
   "metadata": {},
   "outputs": [],
   "source": [
    "import plotly.plotly as py\n",
    "import plotly.graph_objs as go\n",
    "\n",
    "import plotly \n",
    "plotly.tools.set_credentials_file(username='numank', api_key='E5NjgyAxT2azZXX97hnk')"
   ]
  },
  {
   "cell_type": "code",
   "execution_count": 208,
   "metadata": {},
   "outputs": [
    {
     "name": "stdout",
     "output_type": "stream",
     "text": [
      "High five! You successfully sent some data to your account on plotly. View your plot in your browser at https://plot.ly/~numank/0 or inside your plot.ly account where it is named 'basic-scatter'\n"
     ]
    },
    {
     "name": "stderr",
     "output_type": "stream",
     "text": [
      "/Library/Frameworks/Python.framework/Versions/3.7/lib/python3.7/site-packages/plotly/api/v1/clientresp.py:40: UserWarning:\n",
      "\n",
      "Estimated Draw Time Slow\n",
      "\n"
     ]
    },
    {
     "data": {
      "text/html": [
       "<iframe id=\"igraph\" scrolling=\"no\" style=\"border:none;\" seamless=\"seamless\" src=\"https://plot.ly/~numank/0.embed\" height=\"525px\" width=\"100%\"></iframe>"
      ],
      "text/plain": [
       "<plotly.tools.PlotlyDisplay object>"
      ]
     },
     "execution_count": 208,
     "metadata": {},
     "output_type": "execute_result"
    }
   ],
   "source": [
    "# Sentiment VS Time\n",
    "\n",
    "traceSentimentTime = go.Scatter(\n",
    "    x = time,\n",
    "    y = sentiment,\n",
    "    mode = 'markers'\n",
    ")\n",
    "\n",
    "sentimentVStime = [traceSentimentTime]\n",
    "py.iplot(sentimentVStime, filename='basic-scatter')\n"
   ]
  },
  {
   "cell_type": "code",
   "execution_count": 207,
   "metadata": {},
   "outputs": [
    {
     "name": "stdout",
     "output_type": "stream",
     "text": [
      "High five! You successfully sent some data to your account on plotly. View your plot in your browser at https://plot.ly/~numank/0 or inside your plot.ly account where it is named 'basic-scatter'\n"
     ]
    },
    {
     "data": {
      "text/html": [
       "<iframe id=\"igraph\" scrolling=\"no\" style=\"border:none;\" seamless=\"seamless\" src=\"https://plot.ly/~numank/0.embed\" height=\"525px\" width=\"100%\"></iframe>"
      ],
      "text/plain": [
       "<plotly.tools.PlotlyDisplay object>"
      ]
     },
     "execution_count": 207,
     "metadata": {},
     "output_type": "execute_result"
    }
   ],
   "source": [
    "# Conservative VS Time\n",
    "\n",
    "traceConservativeTime = go.Scatter(\n",
    "    x = time_conservative,\n",
    "    y = conservative,\n",
    "    mode = 'markers'\n",
    ")\n",
    "\n",
    "conservativeVStime = [traceConservativeTime]\n",
    "py.iplot(conservativeVStime, filename='basic-scatter')\n"
   ]
  },
  {
   "cell_type": "code",
   "execution_count": 206,
   "metadata": {},
   "outputs": [
    {
     "name": "stdout",
     "output_type": "stream",
     "text": [
      "High five! You successfully sent some data to your account on plotly. View your plot in your browser at https://plot.ly/~numank/0 or inside your plot.ly account where it is named 'basic-scatter'\n"
     ]
    },
    {
     "data": {
      "text/html": [
       "<iframe id=\"igraph\" scrolling=\"no\" style=\"border:none;\" seamless=\"seamless\" src=\"https://plot.ly/~numank/0.embed\" height=\"525px\" width=\"100%\"></iframe>"
      ],
      "text/plain": [
       "<plotly.tools.PlotlyDisplay object>"
      ]
     },
     "execution_count": 206,
     "metadata": {},
     "output_type": "execute_result"
    }
   ],
   "source": [
    "# Green VS Time\n",
    "\n",
    "traceGreenTime = go.Scatter(\n",
    "    x = time_green,\n",
    "    y = green,\n",
    "    mode = 'markers'\n",
    ")\n",
    "\n",
    "greenVStime = [traceGreenTime]\n",
    "py.iplot(greenVStime, filename='basic-scatter')\n"
   ]
  },
  {
   "cell_type": "code",
   "execution_count": 205,
   "metadata": {},
   "outputs": [
    {
     "name": "stdout",
     "output_type": "stream",
     "text": [
      "High five! You successfully sent some data to your account on plotly. View your plot in your browser at https://plot.ly/~numank/0 or inside your plot.ly account where it is named 'basic-scatter'\n"
     ]
    },
    {
     "data": {
      "text/html": [
       "<iframe id=\"igraph\" scrolling=\"no\" style=\"border:none;\" seamless=\"seamless\" src=\"https://plot.ly/~numank/0.embed\" height=\"525px\" width=\"100%\"></iframe>"
      ],
      "text/plain": [
       "<plotly.tools.PlotlyDisplay object>"
      ]
     },
     "execution_count": 205,
     "metadata": {},
     "output_type": "execute_result"
    }
   ],
   "source": [
    "# Liberal VS Time\n",
    "\n",
    "traceLiberalTime = go.Scatter(\n",
    "    x = time_liberal,\n",
    "    y = liberal,\n",
    "    mode = 'markers'\n",
    ")\n",
    "\n",
    "liberalVStime = [traceLiberalTime]\n",
    "py.iplot(liberalVStime, filename='basic-scatter')\n"
   ]
  },
  {
   "cell_type": "code",
   "execution_count": 204,
   "metadata": {},
   "outputs": [
    {
     "name": "stdout",
     "output_type": "stream",
     "text": [
      "High five! You successfully sent some data to your account on plotly. View your plot in your browser at https://plot.ly/~numank/0 or inside your plot.ly account where it is named 'basic-scatter'\n"
     ]
    },
    {
     "data": {
      "text/html": [
       "<iframe id=\"igraph\" scrolling=\"no\" style=\"border:none;\" seamless=\"seamless\" src=\"https://plot.ly/~numank/0.embed\" height=\"525px\" width=\"100%\"></iframe>"
      ],
      "text/plain": [
       "<plotly.tools.PlotlyDisplay object>"
      ]
     },
     "execution_count": 204,
     "metadata": {},
     "output_type": "execute_result"
    }
   ],
   "source": [
    "# Libertarian VS Time\n",
    "\n",
    "traceLibertarianTime = go.Scatter(\n",
    "    x = time_libertarian,\n",
    "    y = libertarian,\n",
    "    mode = 'markers'\n",
    ")\n",
    "\n",
    "libertarianVSsentiment = [traceLibertarianTime]\n",
    "py.iplot(libertarianVSsentiment, filename='basic-scatter')\n"
   ]
  },
  {
   "cell_type": "code",
   "execution_count": 199,
   "metadata": {},
   "outputs": [
    {
     "name": "stderr",
     "output_type": "stream",
     "text": [
      "/Library/Frameworks/Python.framework/Versions/3.7/lib/python3.7/site-packages/plotly/plotly/plotly.py:248: UserWarning:\n",
      "\n",
      "Woah there! Look at all those points! Due to browser limitations, the Plotly SVG drawing functions have a hard time graphing more than 500k data points for line charts, or 40k points for other types of charts. Here are some suggestions:\n",
      "(1) Use the `plotly.graph_objs.Scattergl` trace object to generate a WebGl graph.\n",
      "(2) Trying using the image API to return an image instead of a graph URL\n",
      "(3) Use matplotlib\n",
      "(4) See if you can create your visualization with fewer data points\n",
      "\n",
      "If the visualization you're using aggregates points (e.g., box plot, histogram, etc.) you can disregard this warning.\n",
      "\n"
     ]
    },
    {
     "name": "stdout",
     "output_type": "stream",
     "text": [
      "High five! You successfully sent some data to your account on plotly. View your plot in your browser at https://plot.ly/~numank/0 or inside your plot.ly account where it is named 'basic-scatter'\n"
     ]
    },
    {
     "name": "stderr",
     "output_type": "stream",
     "text": [
      "/Library/Frameworks/Python.framework/Versions/3.7/lib/python3.7/site-packages/plotly/api/v1/clientresp.py:40: UserWarning:\n",
      "\n",
      "Estimated Draw Time Too Long\n",
      "\n",
      "/Library/Frameworks/Python.framework/Versions/3.7/lib/python3.7/site-packages/IPython/core/display.py:689: UserWarning:\n",
      "\n",
      "Consider using IPython.display.IFrame instead\n",
      "\n"
     ]
    },
    {
     "data": {
      "text/html": [
       "<iframe id=\"igraph\" scrolling=\"no\" style=\"border:none;\" seamless=\"seamless\" src=\"https://plot.ly/~numank/0.embed\" height=\"525px\" width=\"100%\"></iframe>"
      ],
      "text/plain": [
       "<plotly.tools.PlotlyDisplay object>"
      ]
     },
     "execution_count": 199,
     "metadata": {},
     "output_type": "execute_result"
    }
   ],
   "source": [
    "# Liberatarian VS Sentiment\n",
    "\n",
    "traceLibertarianTime = go.Scatter(\n",
    "    x = sentiment_libertarian,\n",
    "    y = libertarian,\n",
    "    mode = 'markers'\n",
    ")\n",
    "\n",
    "libertarianVSsentiment = [traceLibertarianTime]\n",
    "\n",
    "# Plot and embed in ipython notebook!\n",
    "py.iplot(libertarianVSsentiment, filename='basic-scatter')"
   ]
  },
  {
   "cell_type": "code",
   "execution_count": 203,
   "metadata": {},
   "outputs": [
    {
     "name": "stdout",
     "output_type": "stream",
     "text": [
      "High five! You successfully sent some data to your account on plotly. View your plot in your browser at https://plot.ly/~numank/0 or inside your plot.ly account where it is named 'basic-scatter'\n"
     ]
    },
    {
     "data": {
      "text/html": [
       "<iframe id=\"igraph\" scrolling=\"no\" style=\"border:none;\" seamless=\"seamless\" src=\"https://plot.ly/~numank/0.embed\" height=\"525px\" width=\"100%\"></iframe>"
      ],
      "text/plain": [
       "<plotly.tools.PlotlyDisplay object>"
      ]
     },
     "execution_count": 203,
     "metadata": {},
     "output_type": "execute_result"
    }
   ],
   "source": [
    "# Conservative VS Sentiment\n",
    "\n",
    "traceSentimentConservative = go.Scatter(\n",
    "    x = sentiment_conservative,\n",
    "    y = conservative,\n",
    "    mode = 'markers'\n",
    ")\n",
    "\n",
    "conservativeVSsentiment = [traceSentimentConservative]\n",
    "\n",
    "# Plot and embed in ipython notebook!\n",
    "py.iplot(conservativeVSsentiment, filename='basic-scatter')"
   ]
  },
  {
   "cell_type": "code",
   "execution_count": 201,
   "metadata": {},
   "outputs": [
    {
     "name": "stdout",
     "output_type": "stream",
     "text": [
      "High five! You successfully sent some data to your account on plotly. View your plot in your browser at https://plot.ly/~numank/0 or inside your plot.ly account where it is named 'basic-scatter'\n"
     ]
    },
    {
     "data": {
      "text/html": [
       "<iframe id=\"igraph\" scrolling=\"no\" style=\"border:none;\" seamless=\"seamless\" src=\"https://plot.ly/~numank/0.embed\" height=\"525px\" width=\"100%\"></iframe>"
      ],
      "text/plain": [
       "<plotly.tools.PlotlyDisplay object>"
      ]
     },
     "execution_count": 201,
     "metadata": {},
     "output_type": "execute_result"
    }
   ],
   "source": [
    "# Liberal VS Sentiment\n",
    "\n",
    "traceSentimentLiberal = go.Scatter(\n",
    "    x = sentiment_liberal,\n",
    "    y = liberal,\n",
    "    mode = 'markers'\n",
    ")\n",
    "\n",
    "liberalVSsentiment = [traceSentimentLiberal]\n",
    "\n",
    "# Plot and embed in ipython notebook!\n",
    "py.iplot(liberalVSsentiment, filename='basic-scatter')"
   ]
  },
  {
   "cell_type": "code",
   "execution_count": 202,
   "metadata": {},
   "outputs": [
    {
     "name": "stdout",
     "output_type": "stream",
     "text": [
      "High five! You successfully sent some data to your account on plotly. View your plot in your browser at https://plot.ly/~numank/0 or inside your plot.ly account where it is named 'basic-scatter'\n"
     ]
    },
    {
     "data": {
      "text/html": [
       "<iframe id=\"igraph\" scrolling=\"no\" style=\"border:none;\" seamless=\"seamless\" src=\"https://plot.ly/~numank/0.embed\" height=\"525px\" width=\"100%\"></iframe>"
      ],
      "text/plain": [
       "<plotly.tools.PlotlyDisplay object>"
      ]
     },
     "execution_count": 202,
     "metadata": {},
     "output_type": "execute_result"
    }
   ],
   "source": [
    "# Green VS Sentiment\n",
    "\n",
    "traceSentimentGreen = go.Scatter(\n",
    "    x = sentiment_green,\n",
    "    y = green,\n",
    "    mode = 'markers'\n",
    ")\n",
    "\n",
    "greenVSsentiment = [traceSentimentGreen]\n",
    "\n",
    "# Plot and embed in ipython notebook!\n",
    "py.iplot(greenVSsentiment, filename='basic-scatter')"
   ]
  },
  {
   "cell_type": "code",
   "execution_count": null,
   "metadata": {},
   "outputs": [],
   "source": [
    "libertarian = []\n",
    "liberal = []\n",
    "conservative = []\n",
    "green = []\n",
    "\n",
    "\n",
    "for x in final_political:\n",
    "    libertarian.append(x['Libertarian'])\n",
    "    liberal.append(x['Liberal'])\n",
    "    conservative.append(x['Conservative'])\n",
    "    green.append(x['Green'])"
   ]
  }
 ],
 "metadata": {
  "kernelspec": {
   "display_name": "Python 3",
   "language": "python",
   "name": "python3"
  },
  "language_info": {
   "codemirror_mode": {
    "name": "ipython",
    "version": 3
   },
   "file_extension": ".py",
   "mimetype": "text/x-python",
   "name": "python",
   "nbconvert_exporter": "python",
   "pygments_lexer": "ipython3",
   "version": "3.7.1"
  }
 },
 "nbformat": 4,
 "nbformat_minor": 2
}
