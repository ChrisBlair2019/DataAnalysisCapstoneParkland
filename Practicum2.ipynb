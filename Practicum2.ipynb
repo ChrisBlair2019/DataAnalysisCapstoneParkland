{
 "cells": [
  {
   "cell_type": "markdown",
   "metadata": {},
   "source": [
    "Team PNCA's Practicum 2"
   ]
  },
  {
   "cell_type": "markdown",
   "metadata": {},
   "source": [
    "Bright's Progress"
   ]
  },
  {
   "cell_type": "code",
   "execution_count": null,
   "metadata": {},
   "outputs": [],
   "source": []
  },
  {
   "cell_type": "markdown",
   "metadata": {},
   "source": [
    "Chris's Progress"
   ]
  },
  {
   "cell_type": "markdown",
   "metadata": {},
   "source": [
    "# Chris Section: Topic Modeling, Data Subsetting, and Sentiment Analysis"
   ]
  },
  {
   "cell_type": "code",
   "execution_count": 23,
   "metadata": {},
   "outputs": [
    {
     "data": {
      "text/plain": [
       "'0.398*\"mental\" + 0.290*\"law\" + 0.268*\"shoot\" + 0.231*\"health\" + -0.203*\"use\" + -0.200*\"us\" + 0.188*\"mass\" + -0.177*\"get\" + -0.177*\"dont\" + 0.159*\"im\" + 0.149*\"issu\" + 0.144*\"ill\" + -0.110*\"rifl\" + 0.107*\"problem\" + -0.106*\"kill\"'"
      ]
     },
     "execution_count": 23,
     "metadata": {},
     "output_type": "execute_result"
    }
   ],
   "source": [
    "\n",
    "# Chris's Section\n",
    "\n",
    "# Topic Modeling and Dataset Subsetting \n",
    "\n",
    "# Import Statements \n",
    "\n",
    "import json\n",
    "from vaderSentiment.vaderSentiment import SentimentIntensityAnalyzer\n",
    "import plotly.plotly.plotly\n",
    "import plotly.graph_objs as go\n",
    "from gensim.models import LsiModel\n",
    "import numpy as np\n",
    "analyser = SentimentIntensityAnalyzer()\n",
    "\n",
    "#End Import Statements \n",
    "\n",
    "# Parse the file into a dictionary\n",
    "with open('result.json', 'r') as myfile:\n",
    "    data = json.loads(myfile.read())\n",
    "    \n",
    "    \n",
    "# Load the Latent Semantic Analysis from the precalculated model\n",
    "lsamodel = LsiModel.load(\"mode11\")\n",
    "\n",
    "# Print topics that are related to the Research Question on \n",
    "# Different Groups Perception of Mental Health \n",
    "lsamodel.print_topic(topicno=14, topn=15)"
   ]
  },
  {
   "cell_type": "code",
   "execution_count": 24,
   "metadata": {},
   "outputs": [
    {
     "name": "stdout",
     "output_type": "stream",
     "text": [
      "15561\n"
     ]
    }
   ],
   "source": [
    "# In this section we will take the words that are indicative of the topic\n",
    "# of mental health in order to subset the data set based on the LSA model \n",
    "\n",
    "subsetList = set()\n",
    "for x in data[\"comments\"]:\n",
    "    if (\"mental\") in data[\"comments\"][x][\"body\"]:\n",
    "        subsetList.add(x)\n",
    "    if (\"health\") in data[\"comments\"][x][\"body\"]:\n",
    "        subsetList.add(x)\n",
    "    if (\"shoot\") in data[\"comments\"][x][\"body\"]:\n",
    "        subsetList.add(x)\n",
    "    if (\"amend\") in data[\"comments\"][x][\"body\"]:\n",
    "        subsetList.add(x)\n",
    "    if (\"nra\") in data[\"comments\"][x][\"body\"]:\n",
    "        subsetList.add(x)\n",
    "    if (\"problem\") in data[\"comments\"][x][\"body\"]:\n",
    "        subsetList.add(x)\n",
    "    if (\"illness\") in data[\"comments\"][x][\"body\"]:\n",
    "        subsetList.add(x)\n",
    "    if (\"issue\") in data[\"comments\"][x][\"body\"]:\n",
    "        subsetList.add(x)\n",
    "    if (\"firearm\") in data[\"comments\"][x][\"body\"]:\n",
    "        subsetList.add(x)\n",
    "    if (\"mass\") in data[\"comments\"][x][\"body\"]:\n",
    "        subsetList.add(x)\n",
    "    if (\"shooting\") in data[\"comments\"][x][\"body\"]:\n",
    "        subsetList.add(x)\n",
    "    if (\"countries\") in data[\"comments\"][x][\"body\"]:\n",
    "        subsetList.add(x)\n",
    "    if (\"law\") in data[\"comments\"][x][\"body\"]:\n",
    "        subsetList.add(x)\n",
    "print(len(subsetList))"
   ]
  },
  {
   "cell_type": "markdown",
   "metadata": {},
   "source": [
    "Numan's Progress"
   ]
  },
  {
   "cell_type": "code",
   "execution_count": 25,
   "metadata": {},
   "outputs": [
    {
     "name": "stdout",
     "output_type": "stream",
     "text": [
      "301\n685\n95\n242\n504\n52\n1081\n798\n"
     ]
    }
   ],
   "source": [
    "# In this section we will prepare the data by calculating the sentiment scores\n",
    "# Using VADER and took the compound sentiment for each as well as classified \n",
    "# the political affiliation for each of the particular comments. \n",
    "\n",
    "DListPolAff = list()\n",
    "DListSentiment = list()\n",
    "RListPolAff = list()\n",
    "RListPolSentiment = list()\n",
    "DCount = 0\n",
    "RCount = 0\n",
    "ErrorCount = 0\n",
    "for x in subsetList:\n",
    "    try:\n",
    "        if data[\"comments\"][x][\"pol_aff\"][\"Conservative\"] > data[\"comments\"][x][\"pol_aff\"][\"Liberal\"]:\n",
    "            RListPolAff.append(data[\"comments\"][x][\"pol_aff\"][\"Conservative\"])\n",
    "            ds = analyser.polarity_scores(data[\"comments\"][x][\"body\"])\n",
    "            RListPolSentiment.append(ds[\"compound\"])\n",
    "            RCount = RCount + 1\n",
    "        else:\n",
    "            DListPolAff.append(data[\"comments\"][x][\"pol_aff\"][\"Liberal\"])\n",
    "            ds = analyser.polarity_scores(data[\"comments\"][x][\"body\"])\n",
    "            DListSentiment.append(ds[\"compound\"])\n",
    "            DCount = DCount + 1\n",
    "    except:\n",
    "        ErrorCount = ErrorCount + 1\n",
    "\n",
    "# In this section we will classify in a binary manner based on the VADER \n",
    "# compound score whether or not the comment is classified as Positive, \n",
    "# Negative, or Neutral, as well as, separate users by high bias comments \n",
    "# in order to figure out whether high bias users have a specific party\n",
    "# baseline argument that can show the sentiment \n",
    "\n",
    "PositiveSentimentR = 0\n",
    "NegativeSentimentR = 0 \n",
    "NeutralSentimentR = 0\n",
    "PositiveSentimentD = 0\n",
    "NegativeSentimentD = 0 \n",
    "NeutralSentimentD = 0\n",
    "BiasOver05R = 0\n",
    "BiasOver05D = 0\n",
    "for x in range(DCount):\n",
    "    if DListPolAff[x] > 0.5:\n",
    "        BiasOver05D = BiasOver05D + 1\n",
    "        if DListSentiment[x] <= -0.05:\n",
    "            NegativeSentimentD = NegativeSentimentD + 1\n",
    "        elif DListSentiment[x] >= 0.05:\n",
    "            PositiveSentimentD = PositiveSentimentD + 1\n",
    "        else:\n",
    "            NeutralSentimentD = NeutralSentimentD + 1\n",
    "    \n",
    "for x in range(RCount):\n",
    "    if RListPolAff[x] > 0.5:\n",
    "        BiasOver05R = BiasOver05R + 1\n",
    "        if RListPolSentiment[x] <= -0.05:\n",
    "            NegativeSentimentR = NegativeSentimentR + 1\n",
    "        elif RListPolSentiment[x] >= 0.05:\n",
    "            PositiveSentimentR = PositiveSentimentR + 1\n",
    "        else:\n",
    "            NeutralSentimentR = NeutralSentimentR + 1\n",
    "            \n",
    "print(PositiveSentimentR)\n",
    "print(NegativeSentimentR)\n",
    "print(NeutralSentimentR)\n",
    "print(PositiveSentimentD)\n",
    "print(NegativeSentimentD)\n",
    "print(NeutralSentimentD)\n",
    "print(BiasOver05R)\n",
    "print(BiasOver05D)\n"
   ]
  },
  {
   "cell_type": "markdown",
   "metadata": {},
   "source": [
    "Sourav's Progress"
   ]
  },
  {
   "cell_type": "code",
   "execution_count": 26,
   "metadata": {},
   "outputs": [
    {
     "data": {
      "text/plain": [
       "'file://C:\\\\Users\\\\Chris\\\\Google Drive\\\\VT Sen 18-19\\\\Data Analysis Cap\\\\DataAnalysisCapstone\\\\temp-plot.html'"
      ]
     },
     "execution_count": 26,
     "metadata": {},
     "output_type": "execute_result"
    }
   ],
   "source": [
    "# Finally, we will use plotly in order to plot this using a stacked bar plot\n",
    "# that colors whether or not it is a Republican or Democrat vs. the axes which\n",
    "# consist of 3 stacked bars of the Positive, Neutral, and Negative Sentiment\n",
    "\n",
    "PositiveSentimentR = 301\n",
    "NegativeSentimentR = 685\n",
    "NeutralSentimentR = 95\n",
    "PositiveSentimentD = 242\n",
    "NegativeSentimentD = 504 \n",
    "NeutralSentimentD = 52\n",
    "BiasOver05R = 1081\n",
    "BiasOver05D = 798\n",
    "\n",
    "trace1 = go.Bar(\n",
    "    x=['Positive Sentiment', 'Negative Sentiment', 'Neutral Sentiment'],\n",
    "    y=[PositiveSentimentD, NegativeSentimentD, NeutralSentimentD],\n",
    "    name='Bias over 0.5 Democrat'\n",
    ")\n",
    "\n",
    "trace2 = go.Bar(\n",
    "    x=['Positive Sentiment', 'Negative Sentiment', 'Neutral Sentiment'],\n",
    "    y=[PositiveSentimentR, NegativeSentimentR, NeutralSentimentR],\n",
    "    name='Bias over 0.5 Republican'\n",
    ")\n",
    "\n",
    "plotly.tools.set_credentials_file(username='ChrisBlair', api_key='JOZjDtn3zLgjEQDB0ybW')\n",
    "\n",
    "data = [trace1, trace2]\n",
    "layout = go.Layout(title=\"Political Alignment High Bias Sentiment Mapping\",\n",
    "                        xaxis=dict(\n",
    "        title='Sentiment Mapping',\n",
    "        titlefont=dict(\n",
    "            family='Courier New, monospace',\n",
    "            size=18,\n",
    "            color='#7f7f7f'\n",
    "        )\n",
    "    ),\n",
    "    yaxis=dict(\n",
    "        title='Amount of Users',\n",
    "        titlefont=dict(\n",
    "            family='Courier New, monospace',\n",
    "            size=18,\n",
    "            color='#7f7f7f'\n",
    "        )\n",
    "    ), barmode='stack'\n",
    ")\n",
    "\n",
    "fig = go.Figure(data=data, layout=layout)\n",
    "plotly.offline.plot(fig, auto_open=True)"
   ]
  },
  {
   "cell_type": "code",
   "execution_count": null,
   "metadata": {},
   "outputs": [],
   "source": []
  }
 ],
 "metadata": {
  "kernelspec": {
   "display_name": "Python 3",
   "language": "python",
   "name": "python3"
  },
  "language_info": {
   "codemirror_mode": {
    "name": "ipython",
    "version": 3
   },
   "file_extension": ".py",
   "mimetype": "text/x-python",
   "name": "python",
   "nbconvert_exporter": "python",
   "pygments_lexer": "ipython3",
   "version": "3.7.1"
  }
 },
 "nbformat": 4,
 "nbformat_minor": 2
}
