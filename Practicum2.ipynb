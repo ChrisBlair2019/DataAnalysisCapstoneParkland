{
 "cells": [
  {
   "cell_type": "markdown",
   "metadata": {},
   "source": [
    "Team PNCA's Practicum 2"
   ]
  },
  {
   "cell_type": "markdown",
   "metadata": {},
   "source": [
<<<<<<< HEAD
    "Bright's Progress"
=======
    "# Bright: Data Cleaning and Topic Modelling with LDA"
   ]
  },
  {
   "cell_type": "markdown",
   "metadata": {},
   "source": [
    "***Standard Text Cleaning***\n",
    "- lower case\n",
    "- remove numbers, punctuations, new line and tab characters\n",
    "- remove stop words\n",
    "- lemmatization and stemmization"
   ]
  },
  {
   "cell_type": "code",
   "execution_count": 1,
   "metadata": {},
   "outputs": [],
   "source": [
    "import gensim\n",
    "import json\n",
    "import operator\n",
    "import collections\n",
    "import pickle\n",
    "\n",
    "def sort_dict(dictionary, by_value=False, reverse=False):\n",
    "    index = 1 if by_value else 0\n",
    "    sorted_list = sorted(dictionary.items(), key=lambda kv: kv[index], reverse=reverse)\n",
    "    sorted_dict = collections.OrderedDict(sorted_list)\n",
    "    return sorted_dict\n",
    "\n",
    "import string\n",
    "import nltk\n",
    "import re\n",
    "from nltk.tokenize import word_tokenize\n",
    "from nltk.corpus import stopwords\n",
    "from nltk.stem import WordNetLemmatizer\n",
    "from nltk.stem import PorterStemmer\n",
    "from urlextract import URLExtract\n",
    "stemmer = PorterStemmer()\n",
    "lemmatizer = WordNetLemmatizer()\n",
    "extractor = URLExtract()\n",
    "\n",
    "def clean_text(text, lemmatize=False, stem=False):\n",
    "    # lower case\n",
    "    text = text.lower()\n",
    "\n",
    "    # removes URLs\n",
    "    urls = set(extractor.find_urls(text))\n",
    "    text = ' '.join([t for t in text.split(' ') if t not in urls])\n",
    "\n",
    "    # remove numbers\n",
    "    text = re.sub(r'\\d+', '', text)\n",
    "\n",
    "    # remove punctuations\n",
    "    for p in \"=$“”%.,!?:;\\\"'_-~|&[]#*()’<>/\\\\\":\n",
    "        text = text.replace(p,' ')\n",
    "\n",
    "    # remove '\\n', '\\t'\n",
    "    text = text.replace('\\n', '')\n",
    "    text = text.replace('\\t', '')\n",
    "    text = ' '.join(text.split())\n",
    "    text_tokens = word_tokenize(text)\n",
    "    stop_words = set(stopwords.words('english'))\n",
    "\n",
    "    tokens = [i for i in text_tokens if i not in stop_words]\n",
    "\n",
    "    # lemmatize tokens\n",
    "    if lemmatize:\n",
    "        tokens = [lemmatizer.lemmatize(i) for i in tokens]\n",
    "\n",
    "    # stemming tokens\n",
    "    if stem:\n",
    "        tokens = [stemmer.stem(i) for i in tokens]\n",
    "\n",
    "    tokens = [i for i in tokens if i not in stop_words]\n",
    "    return text, tokens"
   ]
  },
  {
   "cell_type": "markdown",
   "metadata": {},
   "source": [
    "***Parkland-specific Stopwords***\n",
    "- Create a list of stopwords specifically for the Parkland shooting posts"
   ]
  },
  {
   "cell_type": "code",
   "execution_count": 2,
   "metadata": {},
   "outputs": [],
   "source": [
    "def pland_clean(tokens):\n",
    "    custom = [\"www\", \"http\", \"le\", \"https\", \"com\", \"said\", \"would\", \"people\", \"u\", \"like\", \"r\"]\n",
    "    custom += [\"thing\", \"think\", \"one\", \"know\", \"say\", \"well\", \"deleted\", \"really\", \"reddit\"]\n",
    "    custom += [\"comment\", \"please\", \"yes\", \"going\", \"get\", \"yeah\", \"read\", \"link\", \"also\", \"could\"]\n",
    "    custom += [\"getting\", \"got\", \"ok\", \"lol\", \"exactly\", \"oh\", \"gon\", \"na\", \"want\", \"make\", \"take\", \"removed\"]\n",
    "    custom += [\"someone\", \"anything\", \"someone\", \"im\", \"many\", \"even\", \"much\", \"anyone\", \"way\", \"go\"]\n",
    "    custom += [\"saying\",\"something\",\"anywhere\", \"actually\", \"guy\", \"kid\", \"point\", \"see\", \"country\"]\n",
    "    custom += [\"talking\", \"nothing\", \"year\", \"let\", \"every\", \"any\", \"mean\", \"keep\", \"never\", \"meeting\"]\n",
    "    custom += [\"maybe\", \"news\", \"lot\", \"en\"]\n",
    "    custom = set(custom)\n",
    "    tokens = [i for i in tokens if i not in custom]\n",
    "    return tokens"
   ]
  },
  {
   "cell_type": "markdown",
   "metadata": {},
   "source": [
    "***Generate a LDA model***\n",
    "1. Aggregate all the documents (comments)\n",
    "2. Select the right portion of documents\n",
    "3. Build a dictionary\n",
    "4. Build the model with gensim"
   ]
  },
  {
   "cell_type": "code",
   "execution_count": 3,
   "metadata": {},
   "outputs": [],
   "source": [
    "with open('final_indico.json') as pland_file:\n",
    "    pland = json.load(pland_file)\n",
    "\n",
    "post_replies = list()\n",
    "comment_queue = list()\n",
    "# comment_queue.append('t3_87vnah')\n",
    "for post in pland['posts']:\n",
    "    comment_queue.append(post['fullname'])\n",
    "while comment_queue:\n",
    "    comment_fullname = comment_queue.pop(0)\n",
    "    post_replies.append(comment_fullname)\n",
    "    \n",
    "    for reply_fn in pland['comments'][comment_fullname]['replies']:\n",
    "        comment_queue.append(reply_fn)"
   ]
  },
  {
   "cell_type": "code",
   "execution_count": 4,
   "metadata": {},
   "outputs": [],
   "source": [
    "comp_tokens = list()\n",
    "for fn in post_replies:\n",
    "    comp = pland['comments'][fn]['body']\n",
    "    cleaned, tokens = clean_text(comp, lemmatize=True, stem=False)\n",
    "    tokens = pland_clean(tokens)\n",
    "    comp_tokens.append(tokens)"
   ]
  },
  {
   "cell_type": "code",
   "execution_count": 5,
   "metadata": {},
   "outputs": [],
   "source": [
    "from gensim import corpora\n",
    "dictionary = corpora.Dictionary(comp_tokens)\n",
    "corpus = [dictionary.doc2bow(token) for token in comp_tokens]\n",
    "\n",
    "# remove tokens that only appeared once and more than \n",
    "updated_comp_tokens = list()\n",
    "lower = 1\n",
    "upper = 2800\n",
    "min_token_len = 10\n",
    "outliers = set([dictionary[k] for k in dictionary.dfs if dictionary.dfs[k] <= lower or dictionary.dfs[k] >= upper])\n",
    "for tokens in comp_tokens:\n",
    "    if len(tokens) < min_token_len:\n",
    "        continue\n",
    "    tokens = [token for token in tokens if token not in outliers]\n",
    "    updated_comp_tokens.append(tokens)\n",
    "\n",
    "dictionary = corpora.Dictionary(updated_comp_tokens)\n",
    "corpus = [dictionary.doc2bow(token) for token in updated_comp_tokens]"
   ]
  },
  {
   "cell_type": "markdown",
   "metadata": {},
   "source": [
    "***Loads the model***"
>>>>>>> cadb00f2daa52eefe794387bdf68703c410f6bdb
   ]
  },
  {
   "cell_type": "code",
<<<<<<< HEAD
   "execution_count": null,
   "metadata": {},
   "outputs": [],
   "source": []
=======
   "execution_count": 6,
   "metadata": {},
   "outputs": [],
   "source": [
    "lda = gensim.models.ldamodel.LdaModel.load('model8_0.gensim')"
   ]
  },
  {
   "cell_type": "code",
   "execution_count": 7,
   "metadata": {},
   "outputs": [
    {
     "name": "stdout",
     "output_type": "stream",
     "text": [
      "(0, '0.018*\"amendment\" + 0.009*\"state\" + 0.009*\"second\" + 0.008*\"militia\" + 0.007*\"government\" + 0.007*\"constitution\"')\n",
      "(1, '0.015*\"nra\" + 0.007*\"control\" + 0.007*\"democrat\" + 0.006*\"owner\" + 0.006*\"support\" + 0.006*\"republican\"')\n",
      "(2, '0.010*\"police\" + 0.006*\"fbi\" + 0.005*\"good\" + 0.005*\"job\" + 0.005*\"person\" + 0.005*\"stop\"')\n",
      "(3, '0.014*\"mental\" + 0.011*\"problem\" + 0.011*\"health\" + 0.008*\"issue\" + 0.008*\"mass\" + 0.007*\"still\"')\n",
      "(4, '0.013*\"government\" + 0.007*\"free\" + 0.005*\"life\" + 0.005*\"problem\" + 0.005*\"freedom\" + 0.004*\"society\"')\n",
      "(5, '0.013*\"firearm\" + 0.009*\"check\" + 0.008*\"crime\" + 0.007*\"background\" + 0.007*\"source\" + 0.007*\"violence\"')\n",
      "(6, '0.027*\"rifle\" + 0.023*\"weapon\" + 0.019*\"ar\" + 0.016*\"assault\" + 0.013*\"semi\" + 0.012*\"automatic\"')\n",
      "(7, '0.018*\"trump\" + 0.008*\"shit\" + 0.007*\"woman\" + 0.005*\"fucking\" + 0.005*\"post\" + 0.005*\"bad\"')\n"
     ]
    }
   ],
   "source": [
    "topics = lda.print_topics(num_words=6)\n",
    "for topic in topics:\n",
    "    print(topic)"
   ]
>>>>>>> cadb00f2daa52eefe794387bdf68703c410f6bdb
  },
  {
   "cell_type": "markdown",
   "metadata": {},
   "source": [
<<<<<<< HEAD
    "Chris's Progress"
=======
    "#### 0: 2nd Amendment\n",
    "amendment, state, second, militia, government, constitution\n",
    "\n",
    "#### 1: NRA\n",
    "nra, control, democrat, owner, support, republican\n",
    "\n",
    "#### 2: Police\n",
    "police, fbi, goiod, job, person, stop\n",
    "\n",
    "#### 3: Mental Profile\n",
    "mental, problem, health, issue, mass, still\n",
    "\n",
    "#### 4: Freedom\n",
    "government, free, life, problem, freedom, society\n",
    "\n",
    "#### 5: Suggestion\n",
    "firearm, check, crime, background, source, violence\n",
    "\n",
    "#### 6: Weapon\n",
    "rifle, weapon, ar, assault, semi, automatic\n",
    "\n",
    "#### 7: Rant(Negative)\n",
    "trump, shit, woman, fucking, post, bad"
   ]
  },
  {
   "cell_type": "code",
   "execution_count": 8,
   "metadata": {},
   "outputs": [],
   "source": [
    "# Generate the graph\n",
    "# dictionary = gensim.corpora.Dictionary.load('dictionary.gensim')\n",
    "# corpus = pickle.load(open('corpus.pkl', 'rb'))\n",
    "# import pyLDAvis.gensim\n",
    "# lda_display = pyLDAvis.gensim.prepare(lda, corpus, dictionary, sort_topics=False)\n",
    "# pyLDAvis.display(lda_display)"
>>>>>>> cadb00f2daa52eefe794387bdf68703c410f6bdb
   ]
  },
  {
   "cell_type": "markdown",
   "metadata": {},
   "source": [
    "# Chris Section: Topic Modeling, Data Subsetting, and Sentiment Analysis"
   ]
  },
  {
   "cell_type": "code",
<<<<<<< HEAD
   "execution_count": 23,
=======
   "execution_count": 9,
>>>>>>> cadb00f2daa52eefe794387bdf68703c410f6bdb
   "metadata": {},
   "outputs": [
    {
     "data": {
      "text/plain": [
       "'0.398*\"mental\" + 0.290*\"law\" + 0.268*\"shoot\" + 0.231*\"health\" + -0.203*\"use\" + -0.200*\"us\" + 0.188*\"mass\" + -0.177*\"get\" + -0.177*\"dont\" + 0.159*\"im\" + 0.149*\"issu\" + 0.144*\"ill\" + -0.110*\"rifl\" + 0.107*\"problem\" + -0.106*\"kill\"'"
      ]
     },
<<<<<<< HEAD
     "execution_count": 23,
=======
     "execution_count": 9,
>>>>>>> cadb00f2daa52eefe794387bdf68703c410f6bdb
     "metadata": {},
     "output_type": "execute_result"
    }
   ],
   "source": [
    "\n",
    "# Chris's Section\n",
    "\n",
    "# Topic Modeling and Dataset Subsetting \n",
    "\n",
    "# Import Statements \n",
    "\n",
    "import json\n",
    "from vaderSentiment.vaderSentiment import SentimentIntensityAnalyzer\n",
    "import plotly.plotly.plotly\n",
    "import plotly.graph_objs as go\n",
    "from gensim.models import LsiModel\n",
    "import numpy as np\n",
    "analyser = SentimentIntensityAnalyzer()\n",
    "\n",
    "#End Import Statements \n",
    "\n",
    "# Parse the file into a dictionary\n",
    "with open('result.json', 'r') as myfile:\n",
    "    data = json.loads(myfile.read())\n",
    "    \n",
    "    \n",
    "# Load the Latent Semantic Analysis from the precalculated model\n",
    "lsamodel = LsiModel.load(\"mode11\")\n",
    "\n",
    "# Print topics that are related to the Research Question on \n",
    "# Different Groups Perception of Mental Health \n",
    "lsamodel.print_topic(topicno=14, topn=15)"
   ]
  },
  {
   "cell_type": "code",
<<<<<<< HEAD
   "execution_count": 24,
=======
   "execution_count": 10,
>>>>>>> cadb00f2daa52eefe794387bdf68703c410f6bdb
   "metadata": {},
   "outputs": [
    {
     "name": "stdout",
     "output_type": "stream",
     "text": [
      "15561\n"
     ]
    }
   ],
   "source": [
    "# In this section we will take the words that are indicative of the topic\n",
    "# of mental health in order to subset the data set based on the LSA model \n",
    "\n",
    "subsetList = set()\n",
    "for x in data[\"comments\"]:\n",
    "    if (\"mental\") in data[\"comments\"][x][\"body\"]:\n",
    "        subsetList.add(x)\n",
    "    if (\"health\") in data[\"comments\"][x][\"body\"]:\n",
    "        subsetList.add(x)\n",
    "    if (\"shoot\") in data[\"comments\"][x][\"body\"]:\n",
    "        subsetList.add(x)\n",
    "    if (\"amend\") in data[\"comments\"][x][\"body\"]:\n",
    "        subsetList.add(x)\n",
    "    if (\"nra\") in data[\"comments\"][x][\"body\"]:\n",
    "        subsetList.add(x)\n",
    "    if (\"problem\") in data[\"comments\"][x][\"body\"]:\n",
    "        subsetList.add(x)\n",
    "    if (\"illness\") in data[\"comments\"][x][\"body\"]:\n",
    "        subsetList.add(x)\n",
    "    if (\"issue\") in data[\"comments\"][x][\"body\"]:\n",
    "        subsetList.add(x)\n",
    "    if (\"firearm\") in data[\"comments\"][x][\"body\"]:\n",
    "        subsetList.add(x)\n",
    "    if (\"mass\") in data[\"comments\"][x][\"body\"]:\n",
    "        subsetList.add(x)\n",
    "    if (\"shooting\") in data[\"comments\"][x][\"body\"]:\n",
    "        subsetList.add(x)\n",
    "    if (\"countries\") in data[\"comments\"][x][\"body\"]:\n",
    "        subsetList.add(x)\n",
    "    if (\"law\") in data[\"comments\"][x][\"body\"]:\n",
    "        subsetList.add(x)\n",
    "print(len(subsetList))"
   ]
  },
  {
   "cell_type": "markdown",
   "metadata": {},
   "source": [
    "Numan's Progress"
   ]
  },
  {
   "cell_type": "code",
<<<<<<< HEAD
   "execution_count": 25,
=======
   "execution_count": 11,
>>>>>>> cadb00f2daa52eefe794387bdf68703c410f6bdb
   "metadata": {},
   "outputs": [
    {
     "name": "stdout",
     "output_type": "stream",
     "text": [
      "301\n685\n95\n242\n504\n52\n1081\n798\n"
     ]
    }
   ],
   "source": [
    "# In this section we will prepare the data by calculating the sentiment scores\n",
    "# Using VADER and took the compound sentiment for each as well as classified \n",
    "# the political affiliation for each of the particular comments. \n",
    "\n",
    "DListPolAff = list()\n",
    "DListSentiment = list()\n",
    "RListPolAff = list()\n",
    "RListPolSentiment = list()\n",
    "DCount = 0\n",
    "RCount = 0\n",
    "ErrorCount = 0\n",
    "for x in subsetList:\n",
    "    try:\n",
    "        if data[\"comments\"][x][\"pol_aff\"][\"Conservative\"] > data[\"comments\"][x][\"pol_aff\"][\"Liberal\"]:\n",
    "            RListPolAff.append(data[\"comments\"][x][\"pol_aff\"][\"Conservative\"])\n",
    "            ds = analyser.polarity_scores(data[\"comments\"][x][\"body\"])\n",
    "            RListPolSentiment.append(ds[\"compound\"])\n",
    "            RCount = RCount + 1\n",
    "        else:\n",
    "            DListPolAff.append(data[\"comments\"][x][\"pol_aff\"][\"Liberal\"])\n",
    "            ds = analyser.polarity_scores(data[\"comments\"][x][\"body\"])\n",
    "            DListSentiment.append(ds[\"compound\"])\n",
    "            DCount = DCount + 1\n",
    "    except:\n",
    "        ErrorCount = ErrorCount + 1\n",
    "\n",
    "# In this section we will classify in a binary manner based on the VADER \n",
    "# compound score whether or not the comment is classified as Positive, \n",
    "# Negative, or Neutral, as well as, separate users by high bias comments \n",
    "# in order to figure out whether high bias users have a specific party\n",
    "# baseline argument that can show the sentiment \n",
    "\n",
    "PositiveSentimentR = 0\n",
    "NegativeSentimentR = 0 \n",
    "NeutralSentimentR = 0\n",
    "PositiveSentimentD = 0\n",
    "NegativeSentimentD = 0 \n",
    "NeutralSentimentD = 0\n",
    "BiasOver05R = 0\n",
    "BiasOver05D = 0\n",
    "for x in range(DCount):\n",
    "    if DListPolAff[x] > 0.5:\n",
    "        BiasOver05D = BiasOver05D + 1\n",
    "        if DListSentiment[x] <= -0.05:\n",
    "            NegativeSentimentD = NegativeSentimentD + 1\n",
    "        elif DListSentiment[x] >= 0.05:\n",
    "            PositiveSentimentD = PositiveSentimentD + 1\n",
    "        else:\n",
    "            NeutralSentimentD = NeutralSentimentD + 1\n",
    "    \n",
    "for x in range(RCount):\n",
    "    if RListPolAff[x] > 0.5:\n",
    "        BiasOver05R = BiasOver05R + 1\n",
    "        if RListPolSentiment[x] <= -0.05:\n",
    "            NegativeSentimentR = NegativeSentimentR + 1\n",
    "        elif RListPolSentiment[x] >= 0.05:\n",
    "            PositiveSentimentR = PositiveSentimentR + 1\n",
    "        else:\n",
    "            NeutralSentimentR = NeutralSentimentR + 1\n",
    "            \n",
    "print(PositiveSentimentR)\n",
    "print(NegativeSentimentR)\n",
    "print(NeutralSentimentR)\n",
    "print(PositiveSentimentD)\n",
    "print(NegativeSentimentD)\n",
    "print(NeutralSentimentD)\n",
    "print(BiasOver05R)\n",
    "print(BiasOver05D)\n"
   ]
  },
  {
   "cell_type": "markdown",
   "metadata": {},
   "source": [
    "Sourav's Progress"
   ]
  },
  {
   "cell_type": "code",
<<<<<<< HEAD
   "execution_count": 26,
=======
   "execution_count": 30,
>>>>>>> cadb00f2daa52eefe794387bdf68703c410f6bdb
   "metadata": {},
   "outputs": [
    {
     "data": {
      "text/plain": [
       "'file://C:\\\\Users\\\\Chris\\\\Google Drive\\\\VT Sen 18-19\\\\Data Analysis Cap\\\\DataAnalysisCapstone\\\\temp-plot.html'"
      ]
     },
<<<<<<< HEAD
     "execution_count": 26,
=======
     "execution_count": 30,
>>>>>>> cadb00f2daa52eefe794387bdf68703c410f6bdb
     "metadata": {},
     "output_type": "execute_result"
    }
   ],
   "source": [
    "# Finally, we will use plotly in order to plot this using a stacked bar plot\n",
    "# that colors whether or not it is a Republican or Democrat vs. the axes which\n",
    "# consist of 3 stacked bars of the Positive, Neutral, and Negative Sentiment\n",
    "\n",
    "PositiveSentimentR = 301\n",
    "NegativeSentimentR = 685\n",
    "NeutralSentimentR = 95\n",
    "PositiveSentimentD = 242\n",
    "NegativeSentimentD = 504 \n",
    "NeutralSentimentD = 52\n",
    "BiasOver05R = 1081\n",
    "BiasOver05D = 798\n",
    "\n",
    "trace1 = go.Bar(\n",
    "    x=['Positive Sentiment', 'Negative Sentiment', 'Neutral Sentiment'],\n",
    "    y=[PositiveSentimentD, NegativeSentimentD, NeutralSentimentD],\n",
    "    name='Bias over 0.5 Democrat'\n",
    ")\n",
    "\n",
    "trace2 = go.Bar(\n",
    "    x=['Positive Sentiment', 'Negative Sentiment', 'Neutral Sentiment'],\n",
    "    y=[PositiveSentimentR, NegativeSentimentR, NeutralSentimentR],\n",
    "    name='Bias over 0.5 Republican'\n",
    ")\n",
    "\n",
    "plotly.tools.set_credentials_file(username='ChrisBlair', api_key='JOZjDtn3zLgjEQDB0ybW')\n",
    "\n",
    "data = [trace1, trace2]\n",
    "layout = go.Layout(title=\"Political Alignment High Bias Sentiment Mapping\",\n",
    "                        xaxis=dict(\n",
    "        title='Sentiment Mapping',\n",
    "        titlefont=dict(\n",
    "            family='Courier New, monospace',\n",
    "            size=18,\n",
    "            color='#7f7f7f'\n",
    "        )\n",
    "    ),\n",
    "    yaxis=dict(\n",
    "        title='Amount of Users',\n",
    "        titlefont=dict(\n",
    "            family='Courier New, monospace',\n",
    "            size=18,\n",
    "            color='#7f7f7f'\n",
    "        )\n",
<<<<<<< HEAD
    "    ), barmode='stack'\n",
=======
    "    ), barmode='stack', height=600, width=1000\n",
>>>>>>> cadb00f2daa52eefe794387bdf68703c410f6bdb
    ")\n",
    "\n",
    "fig = go.Figure(data=data, layout=layout)\n",
    "plotly.offline.plot(fig, auto_open=True)"
   ]
  },
  {
<<<<<<< HEAD
=======
   "cell_type": "markdown",
   "metadata": {},
   "source": [
    "# Numan: Sentiment and Political Affiliation vs Time"
   ]
  },
  {
   "cell_type": "code",
   "execution_count": 13,
   "metadata": {},
   "outputs": [],
   "source": [
    "import indicoio, json, re\n",
    "from urlextract import URLExtract\n",
    "import numpy as np\n",
    "import matplotlib.pyplot as plt\n",
    "import datetime\n",
    "from scipy import stats\n",
    "\n",
    "import plotly.plotly as py\n",
    "import plotly.graph_objs as go\n",
    "\n",
    "import plotly \n",
    "plotly.tools.set_credentials_file(username='numank', api_key='E5NjgyAxT2azZXX97hnk')\n",
    "\n",
    "\n",
    "import pylab \n",
    "import scipy.stats as stats\n",
    "\n",
    "\n",
    "import statsmodels.api as sm\n",
    "import pandas as pd\n",
    "import numpy as np\n",
    "from sklearn import linear_model\n",
    "import time"
   ]
  },
  {
   "cell_type": "markdown",
   "metadata": {},
   "source": [
    "Reading in the json file"
   ]
  },
  {
   "cell_type": "code",
   "execution_count": 14,
   "metadata": {},
   "outputs": [],
   "source": [
    "with open('final_indico.json', 'r') as myfile:\n",
    "    data = json.loads(myfile.read())"
   ]
  },
  {
   "cell_type": "markdown",
   "metadata": {},
   "source": [
    "***Loading JSON file and specific data***\n",
    "- Reading body text, timestamps, political affiliation, and sentiment data from JSON file"
   ]
  },
  {
   "cell_type": "code",
   "execution_count": 15,
   "metadata": {},
   "outputs": [],
   "source": [
    "extractor = URLExtract()\n",
    "\n",
    "timestamp = []\n",
    "body_text = []\n",
    "political = []\n",
    "sentiment = []\n",
    "\n",
    "for x in data['comments']:\n",
    "    \n",
    "    input_str = data['comments'][x]['body']\n",
    "\n",
    "    \n",
    "    if( 'timestamp' in data['comments'][x] and input_str and 'pol_aff' in data['comments'][x] \n",
    "       and 'sentiment' in data['comments'][x]):\n",
    "        body_text.append(input_str)\n",
    "        timestamp.append(data['comments'][x]['timestamp'])\n",
    "        political.append(data['comments'][x]['pol_aff'])\n",
    "        sentiment.append(data['comments'][x]['sentiment'])\n",
    "\n",
    "        \n",
    "    data['comments'][x]['body'] = input_str"
   ]
  },
  {
   "cell_type": "markdown",
   "metadata": {},
   "source": [
    "***Parsed the timestamps to create a list of datetime objects***\n"
   ]
  },
  {
   "cell_type": "code",
   "execution_count": 16,
   "metadata": {},
   "outputs": [],
   "source": [
    "from datetime import datetime\n",
    "\n",
    "\n",
    "time = []\n",
    "\n",
    "for x in timestamp:\n",
    "    parsed_date = datetime.utcfromtimestamp(int(x))\n",
    "    year = parsed_date.year\n",
    "    month = parsed_date.month\n",
    "    day = parsed_date.day\n",
    "    hour = parsed_date.hour\n",
    "    minute = parsed_date.minute\n",
    "    customdate = datetime(year, month, day, hour, minute)\n",
    "    time.append(customdate)"
   ]
  },
  {
   "cell_type": "markdown",
   "metadata": {},
   "source": [
    "***Labeling data by political bias***\n",
    "- 4 categories (Liberal, Conservative, Green, Libertarian)\n",
    "- If political bias score was greater than 0.5, then it was concluded to be leaning in that category\n",
    "- Categorizing political bias into separate lists for identifying the political leaning on each comment"
   ]
  },
  {
   "cell_type": "code",
   "execution_count": 17,
   "metadata": {},
   "outputs": [
    {
     "name": "stdout",
     "output_type": "stream",
     "text": [
      "2680\n",
      "3856\n",
      "627\n",
      "16641\n"
     ]
    }
   ],
   "source": [
    "liberal = []\n",
    "conservative = []\n",
    "green = []\n",
    "libertarian = []\n",
    "\n",
    "\n",
    "sentiment_liberal = []\n",
    "sentiment_conservative = []\n",
    "sentiment_green = []\n",
    "sentiment_libertarian = []\n",
    "\n",
    "liberal_time = []\n",
    "conservative_time = []\n",
    "\n",
    "\n",
    "for x in range(len(political)):\n",
    "    if(political[x]['Liberal'] > 0.5):\n",
    "        liberal.append(political[x]['Liberal'])\n",
    "        sentiment_liberal.append(sentiment[x])\n",
    "        liberal_time.append(time[x])\n",
    "    elif(political[x]['Conservative'] > 0.5):\n",
    "        conservative.append(political[x]['Conservative'])\n",
    "        sentiment_conservative.append(sentiment[x])\n",
    "        conservative_time.append(time[x])\n",
    "    elif(political[x]['Green'] > 0.5):\n",
    "        green.append(political[x]['Green'])\n",
    "        sentiment_green.append(sentiment[x])\n",
    "    elif(political[x]['Libertarian'] > 0.5):\n",
    "        libertarian.append(political[x]['Libertarian'])\n",
    "        sentiment_libertarian.append(sentiment[x])\n",
    "        \n",
    "\n",
    "        \n",
    "print(len(liberal))\n",
    "print(len(conservative))\n",
    "print(len(green))\n",
    "print(len(libertarian))"
   ]
  },
  {
   "cell_type": "markdown",
   "metadata": {},
   "source": [
    "***Macro vs micro temporal analysis***\n",
    "\n",
    "- Macro-level temporal analysis was inconclusive\n",
    "- Sliced data set into 6 significant time spans (3 to 4 days)\n",
    "- Time spans were decided based on most popular posts"
   ]
  },
  {
   "cell_type": "code",
   "execution_count": 18,
   "metadata": {},
   "outputs": [],
   "source": [
    "# TIME SLICE 1\n",
    "\n",
    "liberal_1 = []\n",
    "conservative_1 = []\n",
    "\n",
    "time_liberal_1 = []\n",
    "time_conservative_1 = []\n",
    "\n",
    "sentiment_liberal_1 = []\n",
    "sentiment_conservative_1 = []\n",
    "\n",
    "\n",
    "# TIME SLICE 2\n",
    "\n",
    "liberal_2 = []\n",
    "conservative_2 = []\n",
    "\n",
    "time_liberal_2 = []\n",
    "time_conservative_2 = []\n",
    "\n",
    "sentiment_liberal_2 = []\n",
    "sentiment_conservative_2 = []\n",
    "\n",
    "\n",
    "# TIME SLICE 3\n",
    "\n",
    "liberal_3 = []\n",
    "conservative_3 = []\n",
    "\n",
    "time_liberal_3 = []\n",
    "time_conservative_3 = []\n",
    "\n",
    "sentiment_liberal_3 = []\n",
    "sentiment_conservative_3 = []\n",
    "\n",
    "\n",
    "# TIME SLICE 4\n",
    "\n",
    "liberal_4 = []\n",
    "conservative_4 = []\n",
    "\n",
    "time_liberal_4 = []\n",
    "time_conservative_4 = []\n",
    "\n",
    "sentiment_liberal_4 = []\n",
    "sentiment_conservative_4 = []\n",
    "\n",
    "\n",
    "# TIME SLICE 5\n",
    "\n",
    "liberal_5 = []\n",
    "conservative_5 = []\n",
    "\n",
    "time_liberal_5 = []\n",
    "time_conservative_5 = []\n",
    "\n",
    "sentiment_liberal_5 = []\n",
    "sentiment_conservative_5 = []\n",
    "\n",
    "\n",
    "# TIME SLICE 6\n",
    "\n",
    "liberal_6 = []\n",
    "conservative_6 = []\n",
    "\n",
    "time_liberal_6 = []\n",
    "time_conservative_6 = []\n",
    "\n",
    "sentiment_liberal_6 = []\n",
    "sentiment_conservative_6 = []"
   ]
  },
  {
   "cell_type": "markdown",
   "metadata": {},
   "source": [
    "***Organizined separate datasets for each of the 6 time spans***"
   ]
  },
  {
   "cell_type": "code",
   "execution_count": 19,
   "metadata": {},
   "outputs": [],
   "source": [
    "for x in range(len(political)):\n",
    "    # SLICE 1\n",
    "    if(time[x].month == 2 and time[x].day > 15 and time[x].day < 19 and time[x].year == 2018):\n",
    "        if(political[x]['Liberal'] > political[x]['Conservative']):\n",
    "            liberal_1.append(political[x]['Liberal'])\n",
    "            time_liberal_1.append(time[x])\n",
    "            sentiment_liberal_1.append(sentiment[x])\n",
    "        else:\n",
    "            conservative_1.append(political[x]['Conservative'])\n",
    "            time_conservative_1.append(time[x])\n",
    "            sentiment_conservative_1.append(sentiment[x])\n",
    "\n",
    "    #SLICE 2\n",
    "    elif(time[x].month == 2 and time[x].day > 25 and time[x].day < 28 and time[x].year == 2018):\n",
    "        if(political[x]['Liberal'] > political[x]['Conservative']):\n",
    "            liberal_2.append(political[x]['Liberal'])\n",
    "            time_liberal_2.append(time[x])\n",
    "            sentiment_liberal_2.append(sentiment[x])\n",
    "        else:\n",
    "            conservative_2.append(political[x]['Conservative'])\n",
    "            time_conservative_2.append(time[x])\n",
    "            sentiment_conservative_2.append(sentiment[x])\n",
    "            \n",
    "    #SLICE 3\n",
    "    elif(time[x].month == 3 and time[x].day > 28 and time[x].day < 30 and time[x].year == 2018):\n",
    "        if(political[x]['Liberal'] > political[x]['Conservative']):\n",
    "            liberal_3.append(political[x]['Liberal'])\n",
    "            time_liberal_3.append(time[x])\n",
    "            sentiment_liberal_3.append(sentiment[x])\n",
    "        else:\n",
    "            conservative_3.append(political[x]['Conservative'])\n",
    "            time_conservative_3.append(time[x])\n",
    "            sentiment_conservative_3.append(sentiment[x])\n",
    "    #SLICE 4\n",
    "    elif(time[x].month == 9 and time[x].day > 28 and time[x].day < 31 and time[x].year == 2018):\n",
    "        if(political[x]['Liberal'] > political[x]['Conservative'] ):\n",
    "            liberal_4.append(political[x]['Liberal'])\n",
    "            time_liberal_4.append(time[x])\n",
    "            sentiment_liberal_4.append(sentiment[x])\n",
    "        else:\n",
    "            conservative_4.append(political[x]['Conservative'])\n",
    "            time_conservative_4.append(time[x])\n",
    "            sentiment_conservative_4.append(sentiment[x])\n",
    "    #SLICE 5\n",
    "    elif(time[x].month == 11 and time[x].day > 12 and time[x].day < 16 and time[x].year == 2018):\n",
    "        if(political[x]['Liberal'] >= political[x]['Conservative']):\n",
    "            liberal_5.append(political[x]['Liberal'])\n",
    "            time_liberal_5.append(time[x])\n",
    "            sentiment_liberal_5.append(sentiment[x])\n",
    "        else:\n",
    "            conservative_5.append(political[x]['Conservative'])\n",
    "            time_conservative_5.append(time[x])\n",
    "            sentiment_conservative_5.append(sentiment[x])\n",
    "    #SLICE 6\n",
    "    elif(time[x].month == 2 and time[x].day > 13 and time[x].day < 17 and time[x].year == 2019):\n",
    "        if(political[x]['Liberal'] > political[x]['Conservative']):\n",
    "            liberal_6.append(political[x]['Liberal'])\n",
    "            time_liberal_6.append(time[x])\n",
    "            sentiment_liberal_6.append(sentiment[x])\n",
    "        else:\n",
    "            conservative_6.append(political[x]['Conservative'])\n",
    "            time_conservative_6.append(time[x])\n",
    "            sentiment_conservative_6.append(sentiment[x])   "
   ]
  },
  {
   "cell_type": "markdown",
   "metadata": {},
   "source": [
    "***Conducted random sample tests using numpy***"
   ]
  },
  {
   "cell_type": "code",
   "execution_count": 20,
   "metadata": {},
   "outputs": [],
   "source": [
    "import random\n",
    "\n",
    "\n",
    "# SLICE 1\n",
    "sample_sentiment_liberal_1 = random.sample(sentiment_liberal_1, 300)\n",
    "sample_sentiment_conservative_1 = random.sample(sentiment_conservative_1, 300)\n",
    "\n",
    "# SLICE 2\n",
    "sample_sentiment_liberal_2 = random.sample(sentiment_liberal_2, 300)\n",
    "sample_sentiment_conservative_2 = random.sample(sentiment_conservative_2, 300)\n",
    "\n",
    "# SLICE 3\n",
    "sample_sentiment_liberal_3 = random.sample(sentiment_liberal_3, 300)\n",
    "sample_sentiment_conservative_3 = random.sample(sentiment_conservative_3, 300)\n",
    "\n",
    "# SLICE 4\n",
    "sample_sentiment_liberal_4 = random.sample(sentiment_liberal_4, 300)\n",
    "sample_sentiment_conservative_4 = random.sample(sentiment_conservative_4, 300)\n",
    "\n",
    "# SLICE 5\n",
    "sample_sentiment_liberal_5 = random.sample(sentiment_liberal_5, 300)\n",
    "sample_sentiment_conservative_5 = random.sample(sentiment_conservative_5, 300)\n",
    "\n",
    "# SLICE 6\n",
    "sample_sentiment_liberal_6 = random.sample(sentiment_liberal_6, 300)\n",
    "sample_sentiment_conservative_6 = random.sample(sentiment_conservative_6, 300)\n",
    "\n",
    " \n",
    "\n",
    "\n",
    "\n"
   ]
  },
  {
   "cell_type": "markdown",
   "metadata": {},
   "source": [
    "***Determine if conservative and liberal sentiment was statisitcally different over time***\n",
    "\n",
    "- Data is not normal (determined using QQ Plot)\n",
    "- Wilcoxon signed-rank test was used on each of the time spans"
   ]
  },
  {
   "cell_type": "code",
   "execution_count": 21,
   "metadata": {},
   "outputs": [
    {
     "name": "stdout",
     "output_type": "stream",
     "text": [
      "[WilcoxonResult(statistic=18751.0, pvalue=0.010991253550202596), WilcoxonResult(statistic=21673.0, pvalue=0.6856990177351371), WilcoxonResult(statistic=21722.0, pvalue=0.5705451971223958), WilcoxonResult(statistic=19751.0, pvalue=0.06038494276707469), WilcoxonResult(statistic=20249.0, pvalue=0.12191143152709481), WilcoxonResult(statistic=19301.0, pvalue=0.02946383162218786)]\n"
     ]
    }
   ],
   "source": [
    "import scipy\n",
    "\n",
    "wilcoxon = []\n",
    "\n",
    "\n",
    "\n",
    "\n",
    "\n",
    "wilcoxon.append(scipy.stats.wilcoxon(sample_sentiment_liberal_1,sample_sentiment_conservative_1))\n",
    "wilcoxon.append(scipy.stats.wilcoxon(sample_sentiment_liberal_2,sample_sentiment_conservative_2))\n",
    "wilcoxon.append(scipy.stats.wilcoxon(sample_sentiment_liberal_3,sample_sentiment_conservative_3))\n",
    "wilcoxon.append(scipy.stats.wilcoxon(sample_sentiment_liberal_4,sample_sentiment_conservative_4))\n",
    "wilcoxon.append(scipy.stats.wilcoxon(sample_sentiment_liberal_5,sample_sentiment_conservative_5))\n",
    "wilcoxon.append(scipy.stats.wilcoxon(sample_sentiment_liberal_6,sample_sentiment_conservative_6))\n",
    "\n",
    "\n",
    "print(wilcoxon)"
   ]
  },
  {
   "cell_type": "markdown",
   "metadata": {},
   "source": [
    "***Plot for liberal and conservative sentiment vs time for the 6th time span***\n",
    "- Due to random sampling, p-values would change. However, the sixth time span was often statistically significant. Below is a plot of the liberal and conservative sentiment vs time over that specific time span."
   ]
  },
  {
   "cell_type": "code",
   "execution_count": 22,
   "metadata": {},
   "outputs": [
    {
     "name": "stdout",
     "output_type": "stream",
     "text": [
      "This is the format of your plot grid:\n",
      "[ (1,1) x1,y1 ]  [ (1,2) x2,y2 ]\n",
      "\n"
     ]
    },
    {
     "name": "stderr",
     "output_type": "stream",
     "text": [
      "/anaconda3/lib/python3.6/site-packages/IPython/core/display.py:689: UserWarning:\n",
      "\n",
      "Consider using IPython.display.IFrame instead\n",
      "\n"
     ]
    },
    {
     "data": {
      "text/html": [
       "<iframe id=\"igraph\" scrolling=\"no\" style=\"border:none;\" seamless=\"seamless\" src=\"https://plot.ly/~numank/190.embed\" height=\"600px\" width=\"1000px\"></iframe>"
      ],
      "text/plain": [
       "<chart_studio.tools.PlotlyDisplay object>"
      ]
     },
     "execution_count": 22,
     "metadata": {},
     "output_type": "execute_result"
    }
   ],
   "source": [
    "from plotly import tools\n",
    "\n",
    "\n",
    "tracetemp1 = go.Scatter(\n",
    "    x = time_liberal_6,\n",
    "    y = sentiment_liberal_6,\n",
    "    mode = 'markers',\n",
    "    line=dict(color='blue')\n",
    ")\n",
    "tracetemp2 = go.Scatter(\n",
    "    x = time_conservative_6,\n",
    "    y = sentiment_conservative_6,\n",
    "    mode = 'markers',\n",
    "    line=dict(color='red')\n",
    ")\n",
    "fig = tools.make_subplots(rows=1, cols=2, subplot_titles=('Liberal Sentiment vs Time', 'Conservative Sentiment vs Time'))\n",
    "\n",
    "fig.append_trace(tracetemp1, 1,1)\n",
    "fig.append_trace(tracetemp2, 1,2)\n",
    "\n",
    "fig['layout']['xaxis1'].update(title='Time')\n",
    "fig['layout']['xaxis2'].update(title='Time')\n",
    "\n",
    "\n",
    "fig['layout']['yaxis1'].update(title='Liberal Sentiment')\n",
    "fig['layout']['yaxis2'].update(title='Conservative Sentiment')\n",
    "\n",
    "\n",
    "\n",
    "\n",
    "\n",
    "fig['layout'].update(height=600, width=1000, title='Liberal and Conservative Sentiment vs Time from 2/13/19 to 2/17/19')\n",
    "\n",
    "py.iplot(fig, filename='make-subplots-multiple-with-titles')"
   ]
  },
  {
   "cell_type": "markdown",
   "metadata": {},
   "source": [
    "***Determining if liberal and conservative bias changed over time***\n",
    "\n",
    "- Created a linear regression model for the liberal and conservative bias over time"
   ]
  },
  {
   "cell_type": "code",
   "execution_count": 23,
   "metadata": {},
   "outputs": [],
   "source": [
    "import datetime\n",
    "\n",
    "timestamp_liberal = []\n",
    "\n",
    "epoch = datetime.datetime.utcfromtimestamp(0)\n",
    "\n",
    "for x in liberal_time:\n",
    "    timestamp_liberal.append((x - epoch).total_seconds() * 1000.0)"
   ]
  },
  {
   "cell_type": "code",
   "execution_count": 24,
   "metadata": {},
   "outputs": [
    {
     "name": "stdout",
     "output_type": "stream",
     "text": [
      "Slope of linear regression model: \n",
      "[3.46990537e-13]\n"
     ]
    }
   ],
   "source": [
    "d = {'Time':timestamp_liberal}\n",
    "timestamp_liberal = pd.DataFrame(d)\n",
    "lm = linear_model.LinearRegression()\n",
    "model = lm.fit(timestamp_liberal,liberal)\n",
    "\n",
    "print(\"Slope of linear regression model: \")\n",
    "print(lm.coef_)\n",
    "\n"
   ]
  },
  {
   "cell_type": "code",
   "execution_count": 25,
   "metadata": {},
   "outputs": [
    {
     "name": "stderr",
     "output_type": "stream",
     "text": [
      "/anaconda3/lib/python3.6/site-packages/IPython/core/display.py:689: UserWarning:\n",
      "\n",
      "Consider using IPython.display.IFrame instead\n",
      "\n"
     ]
    },
    {
     "data": {
      "text/html": [
       "<iframe id=\"igraph\" scrolling=\"no\" style=\"border:none;\" seamless=\"seamless\" src=\"https://plot.ly/~numank/196.embed\" height=\"525px\" width=\"100%\"></iframe>"
      ],
      "text/plain": [
       "<chart_studio.tools.PlotlyDisplay object>"
      ]
     },
     "execution_count": 25,
     "metadata": {},
     "output_type": "execute_result"
    }
   ],
   "source": [
    "tracetemp = go.Scatter(\n",
    "    x = liberal_time,\n",
    "    y = liberal,\n",
    "    mode = 'markers',\n",
    "    line=dict(color='blue')\n",
    ")\n",
    "\n",
    "timestamp_liberal = np.reshape(timestamp_liberal, (-1, 1)) \n",
    "               \n",
    "p2 = go.Scatter(x=timestamp_liberal, \n",
    "                y=lm.predict(timestamp_liberal),\n",
    "                mode='lines',\n",
    "                line=dict(color='red', width=3)\n",
    "                )\n",
    "\n",
    "\n",
    "layout = go.Layout(\n",
    "    title=go.layout.Title(\n",
    "        text=\"Liberal Bias vs Time\",\n",
    "        xref='paper',\n",
    "        x=0\n",
    "    ),\n",
    "    xaxis=go.layout.XAxis(\n",
    "        title=go.layout.xaxis.Title(\n",
    "            text='Time',\n",
    "        )\n",
    "    ),\n",
    "    yaxis=go.layout.YAxis(\n",
    "        title=go.layout.yaxis.Title(\n",
    "            text='Liberal Bias',\n",
    "        )\n",
    "    )\n",
    ")\n",
    "\n",
    "\n",
    "fig = go.Figure([tracetemp, p2], layout=layout)\n",
    "py.iplot(fig)"
   ]
  },
  {
   "cell_type": "code",
   "execution_count": 26,
   "metadata": {},
   "outputs": [],
   "source": [
    "import datetime\n",
    "\n",
    "timestamp_conservative = []\n",
    "\n",
    "epoch = datetime.datetime.utcfromtimestamp(0)\n",
    "\n",
    "for x in conservative_time:\n",
    "    timestamp_conservative.append((x - epoch).total_seconds() * 1000.0)"
   ]
  },
  {
   "cell_type": "code",
   "execution_count": 27,
   "metadata": {},
   "outputs": [
    {
     "name": "stdout",
     "output_type": "stream",
     "text": [
      "Slope of linear regression model: \n",
      "[1.07825086e-12]\n"
     ]
    }
   ],
   "source": [
    "d = {'Time':timestamp_conservative}\n",
    "timestamp_conservative = pd.DataFrame(d)\n",
    "lm = linear_model.LinearRegression()\n",
    "model = lm.fit(timestamp_conservative,conservative)\n",
    "\n",
    "\n",
    "print(\"Slope of linear regression model: \")\n",
    "print(lm.coef_)"
   ]
  },
  {
   "cell_type": "code",
   "execution_count": 28,
   "metadata": {},
   "outputs": [
    {
     "name": "stderr",
     "output_type": "stream",
     "text": [
      "/anaconda3/lib/python3.6/site-packages/IPython/core/display.py:689: UserWarning:\n",
      "\n",
      "Consider using IPython.display.IFrame instead\n",
      "\n"
     ]
    },
    {
     "data": {
      "text/html": [
       "<iframe id=\"igraph\" scrolling=\"no\" style=\"border:none;\" seamless=\"seamless\" src=\"https://plot.ly/~numank/198.embed\" height=\"525px\" width=\"100%\"></iframe>"
      ],
      "text/plain": [
       "<chart_studio.tools.PlotlyDisplay object>"
      ]
     },
     "execution_count": 28,
     "metadata": {},
     "output_type": "execute_result"
    }
   ],
   "source": [
    "\n",
    "tracetemp = go.Scatter(\n",
    "    x = conservative_time,\n",
    "    y = conservative,\n",
    "    mode = 'markers',\n",
    "    line=dict(color='red')\n",
    ")\n",
    "\n",
    "timestamp_liberal = np.reshape(timestamp_conservative, (-1, 1)) \n",
    "               \n",
    "p2 = go.Scatter(x=timestamp_conservative, \n",
    "                y=lm.predict(timestamp_conservative),\n",
    "                mode='lines',\n",
    "                line=dict(color='blue', width=3)\n",
    "                )\n",
    "\n",
    "\n",
    "layout = go.Layout(\n",
    "    title=go.layout.Title(\n",
    "        text=\"Conservative Bias vs Time\",\n",
    "        xref='paper',\n",
    "        x=0\n",
    "    ),\n",
    "    xaxis=go.layout.XAxis(\n",
    "        title=go.layout.xaxis.Title(\n",
    "            text='Time',\n",
    "        )\n",
    "    ),\n",
    "    yaxis=go.layout.YAxis(\n",
    "        title=go.layout.yaxis.Title(\n",
    "            text='Conservative Bias',\n",
    "        )\n",
    "    )\n",
    ")\n",
    "\n",
    "\n",
    "fig = go.Figure([tracetemp, p2], layout=layout)\n",
    "py.iplot(fig)"
   ]
  },
  {
   "cell_type": "markdown",
   "metadata": {},
   "source": [
    "# Sourav: Analysis of Staying on Topic"
   ]
  },
  {
   "cell_type": "markdown",
   "metadata": {},
   "source": [
    "Imports and Reddit API information"
   ]
  },
  {
   "cell_type": "code",
   "execution_count": 35,
   "metadata": {},
   "outputs": [],
   "source": [
    "from IPython import display\n",
    "import math\n",
    "from pprint import pprint\n",
    "import pandas as pd\n",
    "import numpy as np\n",
    "import nltk\n",
    "import matplotlib.pyplot as plt\n",
    "import seaborn as sns\n",
    "sns.set(style='darkgrid', context='talk', palette='Dark2')\n",
    "\n",
    "import praw\n",
    "\n",
    "reddit = praw.Reddit(client_id='7ccnhW3vss0ePg',\n",
    "                     client_secret='EM5lmRCc6MlQ72wNqkdMrtpA_jc',\n",
    "                     user_agent='panther')"
   ]
  },
  {
   "cell_type": "markdown",
   "metadata": {},
   "source": [
    "Inputing the reddit post id and pull the comments from it"
   ]
  },
  {
   "cell_type": "code",
   "execution_count": 37,
   "metadata": {},
   "outputs": [
    {
     "name": "stdout",
     "output_type": "stream",
     "text": [
      "1370\n"
     ]
    }
   ],
   "source": [
    "submission = reddit.submission(id ='7xmtjj')\n",
    "comments = set()\n",
    "\n",
    "submission.comments.replace_more(limit=10)\n",
    "for comment in submission.comments.list():\n",
    "    comments.add(comment.body)\n",
    "    display.clear_output()\n",
    "    print(len(comments))"
   ]
  },
  {
   "cell_type": "markdown",
   "metadata": {},
   "source": [
    "Assign all comments a sentiment score using nltk native vader library"
   ]
  },
  {
   "cell_type": "code",
   "execution_count": 39,
   "metadata": {},
   "outputs": [
    {
     "name": "stdout",
     "output_type": "stream",
     "text": [
      "[{'comment': 'I keep seeing this focus on the type of gun. Why does the gun matter? the Virginia '\n",
      "             'tech incident took more lives and there was no rifle involved.  ',\n",
      "  'compound': -0.7096,\n",
      "  'neg': 0.225,\n",
      "  'neu': 0.74,\n",
      "  'pos': 0.035},\n",
      " {'comment': 'These people aren’t all mentally ill and there’s plenty of mental illness in Europe. '\n",
      "             'The differences are largely based on access to weapons.',\n",
      "  'compound': -0.8126,\n",
      "  'neg': 0.296,\n",
      "  'neu': 0.704,\n",
      "  'pos': 0.0},\n",
      " {'comment': \"He's being named by police. Can we say his name now \",\n",
      "  'compound': 0.0,\n",
      "  'neg': 0.0,\n",
      "  'neu': 1.0,\n",
      "  'pos': 0.0}]\n"
     ]
    }
   ],
   "source": [
    "from nltk.sentiment.vader import SentimentIntensityAnalyzer as SIA\n",
    "\n",
    "sia = SIA()\n",
    "results = []\n",
    "\n",
    "for line in comments:\n",
    "    pol_score = sia.polarity_scores(line)\n",
    "    pol_score['comment'] = line\n",
    "    results.append(pol_score)\n",
    "\n",
    "pprint(results[:3], width=100)"
   ]
  },
  {
   "cell_type": "markdown",
   "metadata": {},
   "source": [
    "Assign a label to comments, -1 if negative and 1 if positive"
   ]
  },
  {
   "cell_type": "code",
   "execution_count": 40,
   "metadata": {},
   "outputs": [
    {
     "data": {
      "text/html": [
       "<div>\n",
       "<style scoped>\n",
       "    .dataframe tbody tr th:only-of-type {\n",
       "        vertical-align: middle;\n",
       "    }\n",
       "\n",
       "    .dataframe tbody tr th {\n",
       "        vertical-align: top;\n",
       "    }\n",
       "\n",
       "    .dataframe thead th {\n",
       "        text-align: right;\n",
       "    }\n",
       "</style>\n",
       "<table border=\"1\" class=\"dataframe\">\n",
       "  <thead>\n",
       "    <tr style=\"text-align: right;\">\n",
       "      <th></th>\n",
       "      <th>comment</th>\n",
       "      <th>compound</th>\n",
       "      <th>neg</th>\n",
       "      <th>neu</th>\n",
       "      <th>pos</th>\n",
       "      <th>label</th>\n",
       "    </tr>\n",
       "  </thead>\n",
       "  <tbody>\n",
       "    <tr>\n",
       "      <th>0</th>\n",
       "      <td>I keep seeing this focus on the type of gun. W...</td>\n",
       "      <td>-0.7096</td>\n",
       "      <td>0.225</td>\n",
       "      <td>0.740</td>\n",
       "      <td>0.035</td>\n",
       "      <td>-1</td>\n",
       "    </tr>\n",
       "    <tr>\n",
       "      <th>1</th>\n",
       "      <td>These people aren’t all mentally ill and there...</td>\n",
       "      <td>-0.8126</td>\n",
       "      <td>0.296</td>\n",
       "      <td>0.704</td>\n",
       "      <td>0.000</td>\n",
       "      <td>-1</td>\n",
       "    </tr>\n",
       "    <tr>\n",
       "      <th>2</th>\n",
       "      <td>He's being named by police. Can we say his nam...</td>\n",
       "      <td>0.0000</td>\n",
       "      <td>0.000</td>\n",
       "      <td>1.000</td>\n",
       "      <td>0.000</td>\n",
       "      <td>0</td>\n",
       "    </tr>\n",
       "    <tr>\n",
       "      <th>3</th>\n",
       "      <td>&gt;where did he get a gas mask\\n\\nUh, Amazon?</td>\n",
       "      <td>0.1779</td>\n",
       "      <td>0.000</td>\n",
       "      <td>0.805</td>\n",
       "      <td>0.195</td>\n",
       "      <td>0</td>\n",
       "    </tr>\n",
       "    <tr>\n",
       "      <th>4</th>\n",
       "      <td>&gt; No one is calling for the second amendment t...</td>\n",
       "      <td>-0.4118</td>\n",
       "      <td>0.101</td>\n",
       "      <td>0.863</td>\n",
       "      <td>0.036</td>\n",
       "      <td>-1</td>\n",
       "    </tr>\n",
       "  </tbody>\n",
       "</table>\n",
       "</div>"
      ],
      "text/plain": [
       "                                             comment  compound    neg    neu  \\\n",
       "0  I keep seeing this focus on the type of gun. W...   -0.7096  0.225  0.740   \n",
       "1  These people aren’t all mentally ill and there...   -0.8126  0.296  0.704   \n",
       "2  He's being named by police. Can we say his nam...    0.0000  0.000  1.000   \n",
       "3        >where did he get a gas mask\\n\\nUh, Amazon?    0.1779  0.000  0.805   \n",
       "4  > No one is calling for the second amendment t...   -0.4118  0.101  0.863   \n",
       "\n",
       "     pos  label  \n",
       "0  0.035     -1  \n",
       "1  0.000     -1  \n",
       "2  0.000      0  \n",
       "3  0.195      0  \n",
       "4  0.036     -1  "
      ]
     },
     "execution_count": 40,
     "metadata": {},
     "output_type": "execute_result"
    }
   ],
   "source": [
    "df = pd.DataFrame.from_records(results)\n",
    "df.head()\n",
    "\n",
    "df['label'] = 0\n",
    "df.loc[df['compound'] > 0.2, 'label'] = 1\n",
    "df.loc[df['compound'] < -0.2, 'label'] = -1\n",
    "df.head()"
   ]
  },
  {
   "cell_type": "markdown",
   "metadata": {},
   "source": [
    "Import to csv"
   ]
  },
  {
   "cell_type": "code",
   "execution_count": 41,
   "metadata": {},
   "outputs": [
    {
     "name": "stdout",
     "output_type": "stream",
     "text": [
      "Positive comments:\n",
      "\n",
      "[\"While I understand what you mean about the shooter, I think it's so so so important to make this aware. We should be screaming about this, these should not be forgotten. \\n\"\n",
      " '\\n'\n",
      " '\\n'\n",
      " \"In a few days everyone will move on and this issue won't be addressed anymore until the next one, and the next one. \",\n",
      " 'I agree that it makes it more real for the average person who just sees it on the news. However, I wonder if it would play into the copy cat theory as well?\\n'\n",
      " '\\n'\n",
      " 'Just an idea. Not trying to start drama.',\n",
      " 'Per capita homicide rates in the U.S. are smack dab in the middle of the rest of the world. Could it be better? Sure. But the rest of the world seems to believe that a nation of 350 million people '\n",
      " 'are dodging bullets every morning getting their Starbucks coffee.',\n",
      " 'Don’t worry guys, I’m sure the Republicans will save us with their “thoughts and prayers”',\n",
      " 'Yeah ARs are just ubiquitous and available. ']\n",
      "\n",
      "Negative comments:\n",
      "\n",
      "['I keep seeing this focus on the type of gun. Why does the gun matter? the Virginia tech incident took more lives and there was no rifle involved.  ',\n",
      " 'These people aren’t all mentally ill and there’s plenty of mental illness in Europe. The differences are largely based on access to weapons.',\n",
      " '> No one is calling for the second amendment to go away\\n'\n",
      " '\\n'\n",
      " 'there is literally thousands of comments in these two threads calling for guns to go away. (i mean did you even read the replies to you, there are peopleright here saying ban the guns. )\\n'\n",
      " '\\n'\n",
      " '\\n'\n",
      " \">we're calling for sensible gun laws so mass shooting won't be the norm\\n\"\n",
      " '\\n'\n",
      " 'and what are those supposed sensible gun laws? do tell.  since everyone keeps saying \"common sense gun laws\" but never actually having rational proposals ready',\n",
      " \"What I don't get is why the US have so many mentally ill kids wanting to shoot up schools. Yes, the US have a lax gun culture that allows them to enact their fantasies. But the real question is - \"\n",
      " \"why are there so many willing to do it?  The rate of all school shootings in the US is a twice per week thing now. It's absurd. \\n\"\n",
      " '\\n'\n",
      " \"I'd wager not all kids in Europe are socially well-adjusted and happy at school and I also don't think that it's just a lack of available guns that is preventing these kinds of things happening \"\n",
      " 'over here. What is it with loner white kids in the US and school shootings then? ',\n",
      " \"What do you propose will solve the problem?  That's the crux of the issue.  It's not like we enjoy this shit.  \"]\n"
     ]
    }
   ],
   "source": [
    "df2 = df[['comment', 'label']]\n",
    "df2.to_csv('reddit_comments_labels.csv', mode='a', encoding='utf-8', index=False)\n",
    "\n",
    "print(\"Positive comments:\\n\")\n",
    "pprint(list(df[df['label'] == 1].comment)[:5], width=200)\n",
    "\n",
    "print(\"\\nNegative comments:\\n\")\n",
    "pprint(list(df[df['label'] == -1].comment)[:5], width=200)"
   ]
  },
  {
   "cell_type": "markdown",
   "metadata": {},
   "source": [
    "Graphing to see the distribution of sentiment over the comment thread"
   ]
  },
  {
   "cell_type": "code",
   "execution_count": 42,
   "metadata": {},
   "outputs": [
    {
     "data": {
      "image/png": "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\n",
      "text/plain": [
       "<Figure size 576x576 with 1 Axes>"
      ]
     },
     "metadata": {},
     "output_type": "display_data"
    }
   ],
   "source": [
    "fig, ax = plt.subplots(figsize=(8, 8))\n",
    "\n",
    "counts = df.label.value_counts(normalize=True) * 100\n",
    "\n",
    "sns.barplot(x=counts.index, y=counts, ax=ax)\n",
    "\n",
    "ax.set_xticklabels(['Negative', 'Neutral', 'Positive'])\n",
    "ax.set_ylabel(\"Percentage\")\n",
    "\n",
    "plt.show()"
   ]
  },
  {
   "cell_type": "markdown",
   "metadata": {},
   "source": [
    "Tokenize the comments and then remove stopwords to be able to find the most frequently used words. First we check the most frequently used positive words. "
   ]
  },
  {
   "cell_type": "code",
   "execution_count": 46,
   "metadata": {},
   "outputs": [],
   "source": [
    "from nltk.tokenize import word_tokenize, RegexpTokenizer\n",
    "from nltk.corpus import stopwords\n",
    "\n",
    "tokenizer = RegexpTokenizer(r'\\w+')\n",
    "stop_words = stopwords.words('english')\n",
    "\n",
    "def process_text(comments):\n",
    "    tokens = []\n",
    "    for line in comments:\n",
    "        toks = tokenizer.tokenize(line)\n",
    "        toks = [t.lower() for t in toks if t.lower() not in stop_words]\n",
    "        tokens.extend(toks)\n",
    "    \n",
    "    return tokens"
   ]
  },
  {
   "cell_type": "markdown",
   "metadata": {},
   "source": [
    "We can then graph it as a Word Frequency Distribution"
   ]
  },
  {
   "cell_type": "code",
   "execution_count": 47,
   "metadata": {},
   "outputs": [
    {
     "data": {
      "text/plain": [
       "[('like', 99),\n",
       " ('people', 95),\n",
       " ('guns', 76),\n",
       " ('school', 71),\n",
       " ('gun', 66),\n",
       " ('would', 57),\n",
       " ('one', 50),\n",
       " ('shooting', 48),\n",
       " ('us', 46),\n",
       " ('need', 44),\n",
       " ('get', 40),\n",
       " ('know', 39),\n",
       " ('mass', 39),\n",
       " ('police', 37),\n",
       " ('way', 37),\n",
       " ('well', 36),\n",
       " ('shootings', 36),\n",
       " ('country', 34),\n",
       " ('mental', 34),\n",
       " ('every', 32)]"
      ]
     },
     "execution_count": 47,
     "metadata": {},
     "output_type": "execute_result"
    }
   ],
   "source": [
    "pos_lines = list(df[df.label == 1].comment)\n",
    "\n",
    "pos_tokens = process_text(pos_lines)\n",
    "pos_freq = nltk.FreqDist(pos_tokens)\n",
    "\n",
    "pos_freq.most_common(20)"
   ]
  },
  {
   "cell_type": "code",
   "execution_count": 48,
   "metadata": {},
   "outputs": [
    {
     "data": {
      "image/png": "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\n",
      "text/plain": [
       "<Figure size 720x360 with 1 Axes>"
      ]
     },
     "metadata": {},
     "output_type": "display_data"
    }
   ],
   "source": [
    "y_val = [x[1] for x in pos_freq.most_common()]\n",
    "\n",
    "fig = plt.figure(figsize=(10,5))\n",
    "plt.plot(y_val)\n",
    "\n",
    "plt.xlabel(\"Words\")\n",
    "plt.ylabel(\"Frequency\")\n",
    "plt.title(\"Word Frequency Distribution (Positive)\")\n",
    "plt.show()"
   ]
  },
  {
   "cell_type": "markdown",
   "metadata": {},
   "source": [
    "Fit that to a log log plot to show that it follows Zipf’s Law"
   ]
  },
  {
   "cell_type": "code",
   "execution_count": 49,
   "metadata": {},
   "outputs": [
    {
     "data": {
      "image/png": "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\n",
      "text/plain": [
       "<Figure size 720x360 with 1 Axes>"
      ]
     },
     "metadata": {},
     "output_type": "display_data"
    }
   ],
   "source": [
    "y_final = []\n",
    "for i, k, z, t in zip(y_val[0::4], y_val[1::4], y_val[2::4], y_val[3::4]):\n",
    "    y_final.append(math.log(i + k + z + t))\n",
    "\n",
    "x_val = [math.log(i + 1) for i in range(len(y_final))]\n",
    "\n",
    "fig = plt.figure(figsize=(10,5))\n",
    "\n",
    "plt.xlabel(\"Words (Log)\")\n",
    "plt.ylabel(\"Frequency (Log)\")\n",
    "plt.title(\"Word Frequency Distribution (Positive)\")\n",
    "plt.plot(x_val, y_final)\n",
    "plt.show()"
   ]
  },
  {
   "cell_type": "markdown",
   "metadata": {},
   "source": [
    "We then follow the exact same steps to see what happens with the negative comments. "
   ]
  },
  {
   "cell_type": "code",
   "execution_count": 50,
   "metadata": {},
   "outputs": [
    {
     "data": {
      "text/plain": [
       "[('gun', 415),\n",
       " ('people', 327),\n",
       " ('guns', 245),\n",
       " ('school', 234),\n",
       " ('one', 160),\n",
       " ('would', 133),\n",
       " ('shooting', 131),\n",
       " ('like', 130),\n",
       " ('mental', 119),\n",
       " ('get', 118),\n",
       " ('shootings', 117),\n",
       " ('even', 111),\n",
       " ('think', 110),\n",
       " ('mass', 109),\n",
       " ('need', 103),\n",
       " ('us', 100),\n",
       " ('time', 87),\n",
       " ('health', 86),\n",
       " ('laws', 83),\n",
       " ('country', 81)]"
      ]
     },
     "execution_count": 50,
     "metadata": {},
     "output_type": "execute_result"
    }
   ],
   "source": [
    "neg_lines = list(df2[df2.label == -1].comment)\n",
    "\n",
    "neg_tokens = process_text(neg_lines)\n",
    "neg_freq = nltk.FreqDist(neg_tokens)\n",
    "\n",
    "neg_freq.most_common(20)"
   ]
  },
  {
   "cell_type": "code",
   "execution_count": 51,
   "metadata": {},
   "outputs": [
    {
     "data": {
      "image/png": "iVBORw0KGgoAAAANSUhEUgAAAoMAAAFjCAYAAABGwgGRAAAABHNCSVQICAgIfAhkiAAAAAlwSFlzAAALEgAACxIB0t1+/AAAADl0RVh0U29mdHdhcmUAbWF0cGxvdGxpYiB2ZXJzaW9uIDMuMC4zLCBodHRwOi8vbWF0cGxvdGxpYi5vcmcvnQurowAAIABJREFUeJzs3XlYVFUfB/DvsAwoIAoi7ooWoIKIgbviLuYur0spuYaaS5rmlq1qKhqmvlmaW66puaQhrpmFb+aCuWeiyOIuCggq63n/oLkxDiiDwBlmvp/n6QnOPffe3z1zwR/n3HOuSgghQEREREQmyUx2AEREREQkD5NBIiIiIhPGZJCIiIjIhDEZJCIiIjJhTAaJiIiITBiTQSIiIiITxmSQTNL48ePh5uaGhw8f6mybMmUK3NzcMGrUKJ1tKSkpqFu3Lt57770ija9t27YIDAx8bp0lS5bAzc3tuf9dunSpSOM0BVOnTtVpVw8PD/j5+eH999/HlStXdPYJDAxE27Zt9T5XWloa7ty588J627dvh5ubG/74449cvy8ssbGxytdxcXFwc3PDkiVLCvUc+XXo0CF07twZmZmZALJ/RurVq4e//vor1/pF1SYFlbMtgYLfI/mxdOlSjBkzpkiOTcbJQnYARDL4+voiLCwMZ8+ehZ+fn9a2P/74A5aWljhx4gQyMzNhbm6ubDt79iwyMzPRuHHj4g45TyNHjkStWrVy3Va5cuVijsZ4TZs2DeXKlQMAPHnyBDExMdi2bRv27duHb7/9VuueGDlyJJ48eaLX8W/cuIGhQ4dixIgR6N2793Pr+vr6Ijg4GLVr19b/QvJp2LBhcHJywty5cwEADg4OCA4OhpubW5GdMy9PnjzB7NmzMXnyZK2fx4yMDHzyySfYtGkTVCpVsceVX9u2bcOnn36Ks2fPKmUFuUfya9CgQWjXrh2OHDmi8/uNKDdMBskk+fr6AoBOMnj9+nXcunULvXr1wo4dO3DhwgXUr19f2R4REQEAaNSoUfEG/BzNmjUzqOTUWLVv3x5Vq1bVKgsMDERAQADGjx+PgwcPwsbGBgDQvHlzvY8fFxeH69ev56tutWrVUK1aNb3PoY/w8HD06tVL+b506dLo0aNHkZ4zLytXroSVlRU6deqks+306dPYsmUL+vXrJyGy/Dlx4gRSU1O1ygpyj+SXjY0N3nrrLcyePRstW7aEmRkHAen5eIeQSXr11VdRtmxZnDlzRqv82LFjMDMzw8iRI6FSqfD7779rbT99+jQqVKgAFxeX4gyXDFSlSpUwZcoUPHjwANu2bZMdjlFKS0vDpk2b0KVLF53ev3r16sHZ2RkhISF48OCBpAgNU0BAAGJjY3H48GHZoVAJwGSQTJJKpYKPjw/OnTunVX7s2DG4u7ujZs2acHNzw7Fjx5RtQgicPXtWp1fw5MmTGDx4MLy9veHt7Y233noLJ06c0KrTtm1bzJgxA9OnT0f9+vXRqlUr5R+vPXv2oEePHqhfvz66du2KQ4cOFfr1Pu/8p0+fxpAhQ5T4hw4dqjWcpREWFoaePXsqcR4+fBjDhg3TerYxr2cdcyvPz3nbtm2Ljz76CD/++CO6dOkCT09PdOzYERs2bNA5x5kzZ/D222/Dx8cHjRs3RlBQEC5fvgwA+OKLL+Dm5obIyEitfbKystCyZUuMGzcuny2py9/fH2q1Gr/99ptS9uzzYGlpaZg9ezbatWunPG/46aefIjExEUD2821vvfUWgOzhaM1Q7JIlS+Dp6YkDBw6gefPm8Pb2xtatW/N8Hu7u3bsYPXo0GjRogGbNmmHmzJlITk5Wtue1X85yzbOBALBjxw6d8mefGdy6dSt69OgBT09PNGnSBBMnTkRcXJyyXbPfzp07sXDhQrRq1Qqenp7o06eP1s9XXvbt24f79++jffv2OttsbGwwffp0JCQkYN68eS88luZae/bsqcQ7depU3L17V6uOEAJr1qxBx44dUb9+ffTu3RvHjh1Dhw4dMHXqVKVeeno6li1bhu7du8PLywv169dH9+7d8cMPPyh1AgMDsWPHDgCAm5ubsn/Oe2T58uVwc3PDhQsXdOJt27atcm8AQGRkJEaPHg0fHx94eXmhf//+WveehrOzMxo0aJDrzwrRs5gMksny9fVFQkKCMjQnhMDx48eVIdcmTZogIiICaWlpAICrV68iMTERTZo0UY5x6NAhBAYG4tatWxg1ahRGjRqFW7duYfDgwTpJXWhoKC5fvozp06ejb9++cHBwwPbt2zFhwgSUKlUK77//Ppo0aYLx48fj/v37+b6OR48e4cGDBzr/paenv/D8R48eRWBgIB49eoR3330Xo0aNws2bNzFgwACcPHlS2Xfnzp0YP348LCws8P7778PX1xfjxo3TSa7yK7/nBYDffvsNs2fPRqdOnTBt2jSUKlUKn332GY4cOaLUOXnyJAYMGICrV69i+PDhGDVqFCIjI/HWW28hLi4OXbt2BZCd0OZ0/Phx3L17F926dSvQdQCAlZUVqlevnudEBgD47LPPsHXrVnTp0gUff/wxOnXqhC1btmDChAkAsu/FkSNHAgD69euH4OBgZd+MjAx89NFHGDRoEIYNG4bXXnstz/N89NFHePjwISZOnIh27dphw4YNeOedd6DPK+g1zwYCgI+Pz3OfTZw3bx5mzJiBcuXKYfLkyejTpw9+/vln9OnTRyshBIBFixbhwIEDGDp0KMaNG4e4uDiMGDEi10lcOf3yyy+oWLEi3N3dc93u7++PVq1aYefOnTh+/Phzj/Xf//4X06ZNQ/Xq1TFt2jT069cPBw4cQP/+/bV6FufPn485c+bglVdewZQpU+Di4oK3335b5+dy2rRpWLx4MRo1aoQZM2ZgzJgxePz4MT744APl/hw5ciR8fHwAAMHBwbkOZ3ft2hUqlUrn/jxz5gxu3Lih3J+XL19Gv379EBkZiREjRmDChAnIyMhAUFAQ9uzZo3PcRo0a4fjx43j69Olz24UIgshEXbhwQbi6uoqdO3cKIYT466+/hKurqzh8+LAQQohDhw4JV1dX8fvvvwshhNiyZYtwdXUV169fF0IIkZ6eLlq1aiX8/PzEo0ePlOMmJiaKli1bipYtW4q0tDQhhBBt2rQR7u7u4vbt20q9jIwM0bRpUxEQEKDUE0KIbdu2CVdXVzFw4MDnxr948WLh6uqa53/Hjh1T6uZ2/szMTNGuXTvRv39/kZGRoZSnpKSIDh06iB49emjF6e/vL1JTU5V6a9eu1YmzTZs2ucadszy/59Xs5+bmJi5duqSU3b17V7i5uYn33ntPKfvPf/4jmjdvLh48eKCUXbt2Tbi7u4t58+YJIYTo2rWreP3117Xi+vDDD8Vrr72mdV3PmjJlinB1dRWxsbF51unfv7/w8PBQvh84cKBo06aN8n39+vXFp59+qrXPwoULRe/evUVycrIQQohjx44JV1dXsW3bNqWO5jNetmyZ1r6ae0TzGWu+79evn0hPT1fqLVmyRLi6uopDhw7lul9exxNCCFdXVzFlyhTl+9jYWOHq6ioWL14shBDiypUrws3NTYwePVpkZWUp9f7880/h5uYmxo0bp7Wfn5+fSElJUeqFhoYKV1dXsXnz5jzbVQghWrduLd5++22d8pz3VExMjPD09BSdO3dWfpaevaaYmBjh7u4uFixYoHWcy5cvi3r16onZs2cr9erWrSsmTpyoVW/27NlabaK5D5893tWrV4Wrq6uYOXOmUqa5h3J69h4ZMGCAaNeunVadzz//XHh4eIjExERln/bt22u1Y3p6unjzzTdFs2bNdO5jTRtrfocR5YU9g2Sy3N3dYWdnpwxNHjt2DObm5spf8b6+vjA3N1d6GyIiIlCxYkXUqFEDAHDx4kXcvn0bAwYMgK2trXLcMmXKYODAgbhz5w7Onz+vlFevXh3Ozs7K9xcuXEB8fDx69+4NS0tLpbxHjx6wt7fP93VMmTIFq1ev1vnv2Z6UZ89/8eJFxMbGon379khMTFR6FJ8+fYo2bdrg0qVLuHPnDs6dO4f4+Hj069cParVa2b9fv356xanveTVcXFy0rsXJyQnly5dXemni4+Nx9uxZdOvWTZntq9lv27ZtePvttwEA3bp1Q2RkJP7++28A2T1u+/btQ4cOHbSuqyAyMjKeO5u1YsWK2LNnD7Zv346kpCQA2csbbdu2TZl08jyaCU8vMnjwYFhY/DsvUDM0/8svv+Rrf30cPnwYQggEBQVpXbuXlxeaN2+OI0eOICMjQyn38/ND6dKlle81n+m9e/fyPEdGRgZu3bqlM3HnWdWqVcPIkSNx9epVrFy5Mtc6Bw4cQFZWFtq2bavVg16+fHnUqVNHaaPDhw8jIyMDQ4YM0do/KChI63snJyecOnUK77zzjlImhFCuOSUl5bkxP6tbt26IjY1VfmcIIRAWFobWrVujTJkyePjwIY4fPw4/Pz88ffpUiT8pKQkdOnTA/fv3dR570bTbs720RM/ibGIyWWZmZnjttdeUSSTHjh2Dh4eHktjZ2dmhTp06OHXqFADgzz//1Jq1q/kFm9tkEs1SLzdv3oS3tzcAwNHRUavOjRs3AGQnaTmZm5srCWd+1KtXL1+ziZ89f0xMDIDsoaucw5I53bx5E7du3QIAndmrarW6QDNa83teTeLq4OCgs12tViMrKwvAv+2YW5vVrVtX+bpr164ICQnB3r174erqiqNHjyIhIeGlhog1EhISco1T45NPPsH48eMxbdo0fPjhh2jQoAE6dOiAgIAA2NnZvfD4z352eXl2iSF7e3vY29srbVSYnnf/165dG+Hh4VpDwM+2jyYB13yOuUlMTIQQQuuPrbwMHz4cu3btwtdff40uXbrobNfcd/379891f80fZNHR0QB076fy5cujTJkyOtewa9cuhIeH4/r164iOjlaSQKHH0DyQPdw9c+ZM7N27Fx4eHjh16hTu3LmjPOKgWadw3bp1WLduXa7H0Pysamja7UVD8URMBsmk+fj4YNGiRUhNTcXJkyfxxhtvaG1v3LgxNm3ahAcPHiAqKgrDhg1Ttj3vl71mW84ev5zrowFQelNye57nef9AFtSz59ec491330WDBg1y3adWrVrKPzC5Xa+VlVW+zq1ZKFif82q8aFkMzfFetM5c5cqV0bBhQ4SFhWHcuHEICwuDk5PTSy/Lk5ycjNjYWLRu3TrPOk2bNsXhw4eV/44ePYo5c+ZgzZo12L59+3MTSeDFbaCRWxsIIXQ++2fl/Hzy63n3v+YzsbS0VJZUKcjyJprryc/Pg1qtxieffIJBgwZh5syZ8Pf3zzWmr7/+GtbW1nkeR/OsbW69xTnv99TUVLz55pu4dOkSGjdujKZNm2Lw4MFo1KjRc++FvNjb26Nly5bYu3cvJk2ahD179sDOzg5t2rQB8O9nNGDAgFwn0wDAK6+8ovW95jN60edPxGSQTFqjRo2Qnp6OsLAwJCUl6SQGTZo0wcqVKxEaGgohhNb2KlWqAACuXbumc9yoqCgA2cODedH0qml6IjSEELhx4wZeffXVgl1UPmniL126NJo1a6a17ezZs0hMTIS1tTVq1qwJALmugRcbG6tsB7L/wddMuNHIyMjAw4cPlR7Q/J43vypVqgTg356fnObPnw97e3tliK9r16749NNPce3aNRw+fBjdunV76X8o9+7dCyEE2rVrl+v2tLQ0XLp0CRUrVkSXLl3QpUsXZGVlYfXq1QgODkZoaOgL3zaTX8/eN5phRE3baxKyZz8jfSYsaWiGIK9duwYvLy+tbVFRUShdujTs7e21ZjPrq1y5crCwsEBCQkK+6jdp0gTdu3fHrl27dJJPzX1XqVIl1KlTR2vbkSNHlF40zc/l9evX4erqqtRJTk5GfHy88n1YWBjOnz+P2bNn4z//+Y9Snp83yOSlW7dumDBhAi5duoT9+/ejY8eOSlKqid/c3Fzn5yYyMhJxcXEoVaqUVrmmRzC/PctkuvjMIJm0evXqoXTp0vj+++9haWmpM1Pztddeg4WFBXbs2IEqVapoDYvWq1cPTk5O2LRpk9Y/eMnJydi4cSOcnJzg4eGR57nr1q2LKlWqYNOmTVpvIggNDS2WYR0PDw84OTlh3bp1Ws83JScnK0Oa5ubmcHd3R/Xq1fH999/j8ePHSr29e/fqLMlRvnx5REVFafV2/vzzz1oL7ub3vPnl7OwMd3d3hIaGan0OsbGxWLt2rVai07lzZ1haWmLJkiVISEhQhuAK6u7du1i8eDGcnZ3zHG5++PAh+vXrh2XLlillZmZm8PT0VL4G/u29eZle4a1bt2p9r3l+TpOoOjk5AYDWawozMjKwf/9+nWOZmZk9NxZNj9W3336r1Ut44cIF/O9//4Ofn99LvxVEpVKhYsWKOsOfzzN16lSUKVNGZ309TbzLli3TivfSpUsYNWoUvvvuOwDZi4urVCqdJVk2btyo1R6aBPXZ3ri1a9cCgNbzkprP+EWfbdu2bWFjY4NFixbh3r17WvdUhQoV4OHhgR07dmglnOnp6Zg+fTrGjRundU7g38SUbyKiF2HPIJk0CwsLeHt74+jRo/Dx8dHpkbKxsYGnpydOnz6t9TYGIHsIbMaMGZgwYQICAgKU3oEffvhBSRKeNzSmUqnw4YcfYvTo0ejXrx8CAgJw584dbNiwAWXLli38i31Gzvh79+6N//znP7CyssLWrVtx8+ZNLFiwQJmM8MknnyAoKEiJ8/79+1i3bp3WMDiQ3fM2c+ZMDB8+HN27d0d0dDS2bNmi9Groe978mjZtGoYPH46AgAD06dMHZmZmWL9+PcqUKaNMIAGye5qaN2+OPXv2oFq1ankOU+fm4MGDygSV1NRUXLt2DTt37kRqaiq+/fbbPHszNYnixo0b8eTJE3h7eyMhIQHr169H+fLl0blzZyU2ANi1axeEEDr3W36cPHkS77zzDvz8/BAREYGdO3eic+fOaNq0KYDsnnAnJycsXboUqampcHR0xI8//qiV5Gs4ODjg+PHj2LJlC1q0aKGz/dVXX0VgYCDWrVuHIUOGoH379rh37x7WrVuHMmXKYOLEiXrHn5smTZrg4MGDEELkK7l0dHTEe++9h08++USr3NXVVYk3ISEB7du3Vz4HGxsbvPvuuwCyn4EcMGAA1q9fj/j4eDRr1gznzp1Tlm7RxNCsWTNYWFhg8uTJGDBgACwsLHD48GGEh4fD0tJS6w8dzWMAixcvVoaUc2NtbY2OHTtix44dqFChgs5IxYwZMzBo0CAEBATgjTfeQNmyZREaGoozZ85g4sSJWhOogOznnEuXLq3Tc0v0LPYMksnTzNTMuX5gTppfyLm9gs7f3x+rVq1ChQoV8NVXX2HZsmWoWrUq1q5dm+dzPTm1adMGy5Ytg7W1NUJCQnDw4EHMnj07z3cNFzZN/M7Ozli6dCkWLVoEGxsbfP3111q9Zs2bN8eqVatQunRpfPHFFzhw4ADmzJmDChUqaB3vzTffxNixYxEXF4eZM2fi+PHj+O9//6sz5J3f8+ZXkyZN8N1336FixYr46quvsHz5ctSrVw+bNm1SesM0NL0tuU0yeJ45c+Zg8uTJmDx5Mj777DMcOHAAbdu2xfbt25UZ6HmZOXMm3nnnHURERGDWrFlYuXIlGjZsiI0bNyqJQu3atREYGIjz58/j888/x82bN/WKDwAWLlyI1NRUzJ49G7///jtGjRqF+fPnK9stLS2xYsUKNGjQACtWrMCSJUtQv359zJo1S+dYkyZNQkZGhvI55uaDDz7ARx99hPj4eMydOxc//PADOnTogO3btxfa6/JatWqFhIQEXLlyJd/79OvXT+s1kjnj/fjjj/HgwQPMmzcPGzduhI+PDzZu3Ki1luL06dMxduxYXLhwAZ9//jmuXLmCb7/9FsC/zwG7urpi8eLFsLGxQUhICL766iukp6dj9erVaNOmDSIiIpTnD9944w14enpixYoVWLFixXNjz3l/PvvHpLe3NzZt2gQPDw+sXr0a8+fPx5MnTzB37lyd2c4AcOrUKTRu3PilZ8uT8VMJfac8ERH9o23btqhSpUqesxsN0Z49ezBhwgTs2bMnz8WUyXCkpaWhbdu2CAgIUBbpLkqaHr1nl/x5+PAhmjRpgnfeeUfpRTRk169fR6dOnbB06dI8n2cl0mDPIBGZDCEEvv/+e3h5eTERLCHUajUGDBiA3bt3F8ks+2edO3cODRs2RGhoqFa5Zpg4tx5HQ7Rz5064uLhovRaRKC98ZpCIjF5GRgbee+893Lp1C2fPntV5vy4ZtsDAQGzatAk//fQTunfvXqTnatiwIapVq4bPPvsMV69eRaVKlXD58mVs3rwZvr6+8PPzK9LzF4bk5GRs2rQJM2fOfOlJPGQamAwSkdGzsLBAdHQ04uLiMGbMGHTs2FF2SKQHW1tbfPjhh1iwYAG6dOlSpOvmqdVqrF+/HkuWLMH27dsRHx+PChUqYNCgQRg9enSB1kssbmvWrMFrr73G+5zyjc8MEhEREZkww/8Th4iIiIiKDIeJcyGEQFH3l2oe42C/rBxsf7nY/nKx/eVi+8tlbO2vUr34dZwvwmQwF0IA8fEFf4VSftjbZ782KDHxyQtqUlFg+8vF9peL7S8X218uY2t/R0dbvOw8IQ4TExEREZkwJoNEREREJozJIBEREZEJYzJIREREZMKYDBIRERGZMCaDRERERCaMySARERGRCWMySERERGTCmAxKIITA3wl3kJmVJTsUIiIiMnFMBiXYGh0B/9AlmH/mgOxQiIiIyMQxGZQgOiUeABCVdF9yJERERGTqmAxKJGAkb8kmIiKiEovJoAQqZL9RWjAXJCIiIsmYDBIRERGZMINKBseMGYMOHTpolYWHhyMgIABeXl5o27YtVq1apbPfuXPnEBgYCG9vb7Ro0QIhISFIT08vrrALjMPEREREJJvBJIM//vgjDhzQnl0bERGBkSNHolatWliyZAm6deuG4OBgrFy5UqkTHR2NwYMHw8rKCl9++SWGDh2K1atXY86cOcV9CfmmUqlkh0BEREQEALCQHQAA3LlzB7Nnz0bFihW1yhcvXoy6deti/vz5AIBWrVohIyMD33zzDQIDA6FWq7F8+XLY2dlh6dKlUKvV8PPzg7W1NWbNmoURI0bA2dlZxiXlC58ZJCIiItkMomdwxowZaN68OZo2baqUpaam4uTJk+jYsaNW3U6dOiEpKQkREREAgKNHj6JNmzZQq9VKHX9/f2RmZiI8PLx4LkBPmn5BDhMTERGRbNJ7Brdu3YoLFy7gp59+QnBwsFIeGxuL9PR0uLi4aNWvUaMGACAqKgpeXl64deuWTh0HBwfY2toiKiqqQDGpVIC9fakC7Zsf1laWAAAzlapIz0N5s7AwB1C0nzPlje0vF9tfLra/XMbW/oXx5JnUZPDGjRuYM2cO5syZAwcHB61tjx49AgDY2tpqldvY2AAAkpOT86yjqZecnFwUYRca9gwSERGRbNKSQSEEpk+fDj8/P3Tq1CnX7c9jZmaWrzoFiw1ITHxSoH3zIy01AwCQlSWK9DyUN81fhGx/Odj+crH95WL7y2Vs7e/oaPvSvYPSksENGzbg8uXL2L17NzIyspMjTXKXkZEBOzs7AEBKSorWfprePjs7O6VH8Nk6mnqaYxgaziYmIiIiQyEtGdy3bx8ePnyIFi1a6GyrV68ePvnkE5ibmyMmJkZrm+Z7FxcX2NjYwNnZGdHR0Vp14uPjkZKSovMsoaHhIDERERHJJi0Z/PTTT3V69L766itcunQJ//3vf1G1alWEhYVh//79GDRokNKbtm/fPtjZ2cHDwwMA0Lx5cxw+fBiTJ09WZhTv27cP5ubmaNSoUfFelJ74zCARERHJJi0ZrFWrlk5Z2bJloVar4enpCQAYNWoUhgwZggkTJqBXr144ffo0Vq5ciYkTJ6JUqewx/+HDhyM0NBRBQUEYNGgQrl+/jpCQEPTt2xeVK1cu1mvKLxU4TExERESGwSDWGcxL06ZNsWTJEly9ehWjR4/G7t27MXnyZLz99ttKndq1a2PVqlV4/Pgxxo0bh9WrV2PIkCH44IMPJEaePy+aAENERERU1KSvM5jT3Llzdco6dOig877iZ/n4+GDLli1FFVah08wfYSpIREREshl0z6Cx4iAxERERGQomgxJxAgkRERHJxmRQAs0EEj4ySERERLIxGZSB48RERERkIJgMSsWuQSIiIpKLyaAEyjCx5DiIiIiImAxKwFFiIiIiMhRMBiXiotNEREQkG5NBCThMTERERIaCyaAEKo4TExERkYFgMigRh4mJiIhINiaDUrBrkIiIiAwDk0GJ2C9IREREsjEZlEDTL8h3ExMREZFsTAYlUHEGCRERERkIJoMysWOQiIiIJGMyKAGHiYmIiMhQMBmUQMXZxERERGQgmAxKxH5BIiIiko3JoAz/dAxy0WkiIiKSjcmgBBwmJiIiIkPBZFAi9gsSERGRbEwGJeBsYiIiIjIUTAYl4DAxERERGQomgxJx/ggRERHJxmRQAs3b6DhMTERERLIxGZSAw8RERERkKJgMEhEREZkwJoMScdFpIiIiko3JoAQqFYeJiYiIyDAwGZSI/YJEREQkG5NBCdgvSERERIaCyaBEXFqGiIiIZGMyKIFmaRnOHyEiIiLZmAxKwGFiIiIiMhRMBiXiMDERERHJxmRQBhWHiYmIiMgwMBmUgMPEREREZCiYDErFrkEiIiKSi8mgBJqeQaaCREREJBuTQQn4OjoiIiIyFEwGJRKcQUJERESSMRmUgMPEREREZCiYDErBYWIiIiIyDEwGJeKi00RERCQbk0EJNPNH+MggERERySY1GRRCYM2aNejUqRPq16+P7t27Y/fu3Vp1wsPDERAQAC8vL7Rt2xarVq3SOc65c+cQGBgIb29vtGjRAiEhIUhPTy+uy9CbisPEREREZCCkJoPLli1DcHAwevbsiWXLlqF58+aYNGkS9uzZAwCIiIjAyJEjUatWLSxZsgTdunVDcHAwVq5cqRwjOjoagwcPhpWVFb788ksMHToUq1evxpw5c2RdVr5xmJiIiIhks5B14vT0dKxatQpvvPEGRo1QN3l1AAAgAElEQVQaBQBo2rQpzp8/j/Xr1+P111/H4sWLUbduXcyfPx8A0KpVK2RkZOCbb75BYGAg1Go1li9fDjs7OyxduhRqtRp+fn6wtrbGrFmzMGLECDg7O8u6xDxxNjEREREZCmk9g+bm5li3bh2CgoK0yi0tLZGamorU1FScPHkSHTt21NreqVMnJCUlISIiAgBw9OhRtGnTBmq1Wqnj7++PzMxMhIeHF/2FFACHiYmIiMhQSOsZNDMzg5ubG4DsZwfj4+Oxfft2/O9//8Nnn32G2NhYpKenw8XFRWu/GjVqAACioqLg5eWFW7du6dRxcHCAra0toqKiChSbSgXY25cq0L75Uaq05T9fiSI9D+XNwsIcQNF+zpQ3tr9cbH+52P5yGVv7F8ZLzaQlgznt378f48aNAwC0bt0a3bt3x6VLlwAAtra2WnVtbGwAAMnJyXj06FGudTT1kpOTizLsAmPPIBERERkKg0gG69ati/Xr1+Py5ctYtGgRgoKC8O677z53HzMzsxe+zs3MrGCj4EIAiYlPCrRvfjx+kvbPeUSRnofypvmLkO0vB9tfLra/XGx/uYyt/R0dbV+6d9AgksFq1aqhWrVq8PX1ha2tLaZMmaJsS0lJ0aqr6e2zs7NTegSfraOpZ2dnV4RRF5ymZ5ATSIiIiEg2aRNIEhISsHPnTty5c0ervG7dugCAuLg4mJubIyYmRmu75nsXFxfY2NjA2dkZ0dHRWnXi4+ORkpKi8yyhoeAgMRERERkKaclgVlYWpk6dis2bN2uVHz16FADg6ekJHx8f7N+/X2s4eN++fbCzs4OHhwcAoHnz5jh8+DDS0tK06pibm6NRo0bFcCUF96JhbiIiIqKiJm2Y2MHBAW+++SaWL18Oa2treHp64tSpU1i2bBn69OmDWrVqYdSoURgyZAgmTJiAXr164fTp01i5ciUmTpyIUqWyx/yHDx+O0NBQBAUFYdCgQbh+/TpCQkLQt29fVK5cWdblPZdKxWFiIiIiMgwqIbF7Kj09HWvWrMEPP/yAmzdvomLFiujbty+GDRumTP44cOAAFi9ejKioKDg7O2PAgAEYOnSo1nFOnjyJ4OBgXLp0CeXKlUPPnj0xduxYWFpa5nbaF8rKEoiPL7qZyLtiz+DjMz+hik1Z/NRmdJGdh/JmbA8QlzRsf7nY/nKx/eUytvZ3dLSFmdnLPYAmNRk0VMWVDFYubY/QtmOK7DyUN2P7ZVDSsP3lYvvLxfaXy9javzCSQanvJjZdHCYmIiIiw8BkUILCWC2ciIiIqDAwGZSKfYNEREQkF5NBCZRFp5kLEhERkWRMBiXgKDEREREZCiaDEgkOExMREZFkTAYl4LuJiYiIyFAwGZSAs4mJiIjIUDAZlIjrfRMREZFseieD48ePx6FDh5Cenl4U8ZgIDhMTERGRYbDQd4dTp05h3759sLOzQ8eOHdG1a1c0btwYKo595htbioiIiAyF3sngr7/+ij/++AN79uzB/v37sW3bNpQvXx6vv/46unTpgvr16xdFnEaJs4mJiIhINr2TQZVKhSZNmqBJkyb4+OOPER4ejrCwMPz4449Yu3YtqlWrhi5duqBbt26oVatWUcRc4rEXlYiIiAzFS00gMTc3h5+fH+bOnYtNmzahc+fOiImJwddff40uXbqgf//+OHjwYGHFanzYMUhERESS6d0zmFNkZCT27t2LsLAwXLt2Debm5mjdujW6desGlUqF77//HmPHjsWYMWMwevTowoq5xNP0C3KYmIiIiGTTOxm8evUqwsLCsG/fPkRGRgIAGjZsiI8++gidO3dG2bJllbqvv/46+vbtizVr1jAZzEHFKSRERERkIPROBrt06QIAcHV1xYQJE9CtWzdUqlQpz/oVK1ZEWlpawSM0YuwXJCIiItn0TgaDgoLQtWtXuLq65qv+woULYW5urndgpoCLThMREZFsek8gee+992Bra4sFCxYgMTFRKV++fDnmzp2L+Ph4rfpMBHVxNjEREREZCr2Twb///hu9evXC6tWrcevWLaU8KSkJGzduRM+ePREbG1uoQRor9gsSERGRbHong1988QVsbGwQGhoKd3d3pXzSpEkIDQ2FpaUlFixYUKhBGhvOJiYiIiJDoXcy+Oeff2Lw4MGoWbOmzrZq1aph4MCBOHHiRGHEZrQ4SExERESGQu9kMCsrC0+fPs1zuxDiudvpX5w/QkRERLLpnQw2aNAAmzdvRlJSks62lJQUbN26FV5eXoUSnLHSTCDhMDERERHJpvfSMmPGjMHAgQPRtWtXdOvWDTVq1IBKpUJMTAxCQ0Nx7949zJkzpyhiJSIiIqJCpncy6OXlhdWrV2PevHlYuXKl1jZ3d3fMmTMH3t7ehRagUWPHIBEREUlWoHcT+/j4YOvWrXjw4AFu3LiBrKwsVKpUCRUqVCjs+IyS5nV0HCYmIiIi2QqUDGo4ODjAwcGhsGIxGVxzmoiIiAxFgZLBX3/9Fbt378b9+/eRmZmps12lUuG777576eCMHfsFiYiISDa9k8ENGzZg1qxZAABHR0eo1epCD8rYKcPEXFuGiIiIJNM7GVy7di3c3d3x7bffonz58kURk9HjKDEREREZCr3XGbx16xb69evHRLAQsF+QiIiIZNM7GaxevTru379fFLGYEM4mJiIiIsOgdzIYFBSEdevW4cqVK0URDxEREREVI72fGTx16hRsbGzQo0cPuLi4wMHBQXm9mgZnEz+fprk4f4SIiIhk0zsZ/O233wAAFStWxJMnT3Djxo1CD8rYqTiFhIiIiAyE3sngzz//XBRxmCh2DRIREZFcej8zmNPdu3dx5swZPHr0CGlpacjKyiqsuIyapl+QqSARERHJVqBk8NSpU+jduzf8/PzQv39/nD9/HsePH0fr1q2xZ8+ewo7R6Dz7jCURERGRLHong2fPnsWQIUOQkpKCQYMGKeX29vawsLDApEmTcOTIkUIN0ljxDSREREQkm97J4KJFi1C1alX8+OOPCAoKUhIaT09P7Nq1C7Vr18ayZcsKPVBjwmFiIiIiMhR6J4OnT59G7969YW1trTPcaWtri759+3INwhfiMDEREREZhgI9M6hWq/Pclpqayokk+cQ3kBAREZFseieDXl5e+Omnn3Ld9vjxY2zduhWenp4vHZgx46LTREREZCj0TgbHjRuHixcvYuDAgdi5cydUKhXOnj2LtWvXokePHoiLi8PIkSOLIlajwUWniYiIyFDovei0t7c3li1bho8//hjz5s0DACxcuBAA4OTkhJCQEDRp0qRwozRSHCYmIiIi2fROBgGgefPmOHDgAC5cuIDY2FhkZWWhSpUq8PDwgIVFgQ5pUtgvSERERIaiwJmbSqWCh4cHPDw8CnzyrKwsbN68GRs3bkRcXBwcHR3Rrl07jB07Fra2tgCAc+fOITg4GOfPn4eNjQ169+6NsWPHwtLSUjnO9evXMXfuXJw8eRLm5ubw9/fH+++/rxzD0HCYmIiIiAyF3sngW2+9la96a9eufWGdFStW4Msvv8SwYcPQtGlTREVFYfHixYiMjMTKlSsRHR2NwYMHw9vbG19++SWuXr2KhQsXIjk5GR999BEAIDExEYMGDYKTkxPmzZuH+Ph4zJ8/H7dv3y4R6x0KIfhGEiIiIpJG72QwLi5OpywrKwsPHz5EamoqqlSpgldfffWFxxFCYMWKFejXrx8mTpwIAGjWrBnKlSuHCRMm4NKlS1i/fj3s7OywdOlSqNVq+Pn5wdraGrNmzcKIESPg7OyMDRs2ICkpCTt37kS5cuUAAM7OzggKCsKZM2fg5eWl7yUWvRy5nwCHjYmIiEgevZPBn3/+OdfyzMxMHDp0CDNmzMCwYcNeeJyUlBR0794dnTt31iqvVasWACAmJgZHjx5FmzZttNY19Pf3x6efforw8HAEBATg6NGj8PX1VRJBAGjRogVsbGxw5MgRg0wGOUxMREREhqLQZnuYm5ujY8eOOHPmDBYsWIDNmzc/t76trS1mzJihU37w4EEAQO3atXHr1i24uLhobXdwcICtrS2ioqIAANeuXUP37t11YqlatapSR18qFWBvX6pA++aH7dN/k9syZaxhblagtb/pJVhYmAMo2s+Z8sb2l4vtLxfbXy5ja//CeNKs0LOQmjVr4q+//irQvmfOnMHy5cvRvn17lClTBgBynQRiY2OD5ORkAMCjR49eWMfg5PjkuLwMERERyVSo68CkpaVh165dcHR01HvfU6dOYeTIkahatSpmzZqFtLS059Y3y0dvWn7q5EYIIDHxSYH2zY/HKf9eW2LiU1iwZ7DYaf4iLMrPmfLG9peL7S8X218uY2t/R0fbl+4dLLTZxGlpaYiKikJSUhLGjh2r1zH37NmDqVOnombNmlixYgXKlSuHlJQUAFD+n1NycjLs7OwAZPcc5lWncuXKesUhA3sGiYiISKZCmU0MZD+nV6tWLXTt2hVvvvlmvo+3evVqzJs3D40aNcJXX32lJHk2NjZwdnZGdHS0Vv34+HikpKQozxK6uLjo1MnMzERcXBw6deqkz6UVG04fISIiIkNRaLOJC2Lr1q2YO3cuXn/9dcybN09r1jCQ/aaTw4cPY/Lkycq2ffv2wdzcHI0aNVLqrFq1CgkJCShbtiwAIDw8HI8fP0azZs0KLVYiIiIiYyTt3XHx8fGYPXs2qlSpggEDBuDixYta26tXr47hw4cjNDQUQUFBGDRoEK5fv46QkBD07dtXGQJ+8803sX79egwePBijR49GQkIC5s+fj1atWqFhw4YyLi0fckwgERwmJiIiInmK7A0kOalUKnz33XdaZb/99huePHmCGzduYMCAATr7BAcHo0ePHli1ahWCg4Mxbtw4lCtXDkOGDNF6JtHBwQFr167F559/jkmTJsHGxgb+/v6YPHmy3nEWF75whIiIiAyF3smgWq1GZGQkbt++DXt7e1SrVg1WVlaIjY3F3bt3oVarUb58+Rcep2fPnujZs+cL6/n4+GDLli3PrePq6oo1a9bk9xIMCvsFiYiISCa9k8GBAwdi3Lhx+PDDD9G3b19YWloq2/bu3YupU6fi/fff13mzCP0r5xtIOJuYiIiIZNJ7gbsvvvgCffr0wYABA7QSQSD7VXEDBw7EokWLCi1AY8RRYiIiIjIUeieDMTExyvuDc+Pk5IRbt269VFCmhP2CREREJJPeyWCtWrWwa9cupKen62x7+vQptm3bhjp16hRKcMZKq2eQs4mJiIhIIr2fGQwKCsKECRPQq1cv9O3bF9WqVYMQAtevX8f333+PmzdvYvXq1UURq9FQcToxERERGQi9k8HOnTsjNTUV8+fPx+eff64kNkIIVK9eHcuXL4evr2+hB2qs2C9IREREMhVo0emePXuie/fuOHfuHG7evAkAqFmzJtzd3dnrpSfOJiYiIiKZCvwGEjMzM1SqVAlA9nOEVlZWEEIwGcwHFecTExERkYHQewIJAJw6dQq9e/eGn58f+vfvj/Pnz+P48eNo3bo19uzZU9gxGjXOHyEiIiKZ9E4Gz549iyFDhiAlJQWDBg1S3q1rb28PCwsLTJo0CUeOHCn0QI1Jzs5TDhMTERGRTHong4sWLULVqlXx448/IigoSCn39PTErl27ULt2bSxbtqxQgzQ2HCYmIiIiQ6F3Mnj69Gn07t0b1tbWOs8H2traom/fvrhy5UqhBUhERERERadAzwyq1eo8t6WmpiIrK6vAAZmCnCm04EODREREJJHeyaCXlxd++umnXLc9fvwYW7duhaen50sHZtQ445qIiIgMhN7J4Lhx43Dx4kUMHDgQO3fuhEqlwtmzZ7F27Vr06NEDcXFxGDlyZFHEapTYL0hEREQy6b3OoLe3N5YtW4aPP/4Y8+bNAwAsXLgQAODk5ISQkBA0adKkcKM0MuwXJCIiIkOhdzKYkJCA5s2b48CBA7h48SJiYmKQlZWFKlWqwMPDAxYWBV7H2mTknE2cxb5BIiIikkjvzK1nz57o06cPRo8ejXr16qFevXpFEZdRM8vxzGCW4GQbIiIikkfvZwYfPnwIJyenoojFZJir/m32TM4mJiIiIon0Tga7du2KrVu34v79+0URj0nQ7hlkMkhERETy6D1MbGZmhsjISPj5+aF69epwdHSEmZl2TqlSqfDdd98VWpDGJmfPIIeJiYiISCa9k8GjR4+iXLlyALIXmL5582ahB2XstCaQsGeQiIiIJHphMvjXX3+hSpUqsLOzAwD8/PPPRR6UsTPPMUzMZwaJiIhIphc+M9irVy/88ssvWmWZmZk4ceIEHj16VFRxGTWtZwbBYWIiIiKS54XJYG7vzk1KSsJbb72F8+fPF0lQxk77mUH2DBIREZE8es8m1sgtSaT8MdMaJmbPIBEREclT4GSQCo49g0RERGQomAxKkHM2MXsGiYiISCYmgxLknE3M4XYiIiKSKV/rDF67dg0nTpxQvtfMIr58+TIsLHI/hK+vbyGEZ5zMcr6ODkwGiYiISJ58JYPffPMNvvnmG53yefPm5bnPpUuXCh6VkePr6IiIiMhQvDAZHDNmTHHEYVJyTiDhM4NEREQkE5NBCdgzSERERIaCE0gksTa3BACkZKRKjoSIiIhMGZNBSRysSgMAHqU/lRwJERERmTImg5KozbNH6NOyMiVHQkRERKaMyaAkajMmg0RERCQfk0FJ1ObmAID0rAzJkRAREZEpYzIoiRV7BomIiMgAMBmURNMzmMaeQSIiIpKIyaAkmmcGM7K46DQRERHJw2RQkjLqUgCAB6kpkiMhIiIiU8ZkUBIH6+x1BpO4ziARERFJxGRQktIWagDAk8x0yZEQERGRKWMyKIkmGXyckSY5EiIiIjJlTAYlsbGwAsB3ExMREZFcTAYlcSplCwC4n5osORIiIiIyZQaTDF66dAn16tXD7du3tcrDw8MREBAALy8vtG3bFqtWrdLZ99y5cwgMDIS3tzdatGiBkJAQpKcb9rN4tpbZPYNP+cwgERERSWQQyeDVq1cxYsQIZGRoL8AcERGBkSNHolatWliyZAm6deuG4OBgrFy5UqkTHR2NwYMHw8rKCl9++SWGDh2K1atXY86cOcV9GXqxMv/3DSRCCMnREBERkamykHnyjIwMbN68GV988QUsLS11ti9evBh169bF/PnzAQCtWrVCRkYGvvnmGwQGBkKtVmP58uWws7PD0qVLoVar4efnB2tra8yaNQsjRoyAs7NzcV9WvliZ/3u9aVmZSnJIREREVJyk9gyeOnUKCxYswNChQzFp0iStbampqTh58iQ6duyoVd6pUyckJSUhIiICAHD06FG0adMGarVaqePv74/MzEyEh4cX/UUUkObdxABfSUdERETySO2Oql27Ng4ePAhHR0ds375da1tsbCzS09Ph4uKiVV6jRg0AQFRUFLy8vHDr1i2dOg4ODrC1tUVUVFSB4lKpAHv7UgXaN78eJD9WvraysYB9qaI9H2mzsMh+N3RRf86UO7a/XGx/udj+chlb+6tUL38Mqclg+fLl89z26NEjAICtra1WuY2NDQAgOTk5zzqaesnJhjtTN+ewcGomewaJiIhIDoN9UO1FkyrMzMzyVadg5wYSE58UaN/8slD/G9v9xGTYZVoX6flIm+YvwqL+nCl3bH+52P5ysf3lMrb2d3S0feneQYOYTZwbOzs7AEBKSopWuaa3z87OTukRfLaOpp7mGIZI+5nBTImREBERkSkz2GSwevXqMDc3R0xMjFa55nsXFxfY2NjA2dkZ0dHRWnXi4+ORkpKi8yyhIck5TJzGYWIiIiKSxGCTQSsrK/j4+GD//v1aw8H79u2DnZ0dPDw8AADNmzfH4cOHkZaWplXH3NwcjRo1Kva480ttbq58ncrZxERERCSJwSaDADBq1ChERERgwoQJOHLkCL788kusXLkSI0aMQKl/Zt8OHz4c9+7dQ1BQEA4fPqwsON23b19UrlxZ8hXkzUxlBrVZdkLInkEiIiKSxaCTwaZNm2LJkiW4evUqRo8ejd27d2Py5Ml4++23lTq1a9fGqlWr8PjxY4wbNw6rV6/GkCFD8MEHH0iMPH/U/wwVs2eQiIiIZFEJvgtNR1aWQHx80S5LY29fCr7b5iD+aQrmNuyFTpXrFun5SJuxzSYradj+crH95WL7y2Vs7e/oaAszs5ebTmzQPYPGTjOjmOsMEhERkSxMBiXSvJ84NStdciRERERkqpgMSmRraQUAeJSeKjkSIiIiMlVMBiVyKpW9aHZ8quG+No+IiIiMG5NBicpba5JB3TeoEBERERUHJoMSOf2TDO67eVFyJERERGSqmAxKZPHPotNlLK0lR0JERESmismgRI0q1AQAJKU/RUZWltxgiIiIyCQxGZSo/D8TSADgztMkiZEQERGRqWIyKJGLnSNK/bPW4OK/DkuOhoiIiEwRk0GJLMzMYWOhBgDcfpIoORoiIiIyRUwGJXurdlMAwN2njyRHQkRERKaIyaBkNW0cAQC3nyQhSwjJ0RAREZGpYTIoWTWbcsrXfyXelhgJERERmSImg5LVsHFQvo58dE9iJERERGSKmAxKplKp4OtYAwAQ+eiu5GiIiIjI1DAZNACv2FUAwJ5BIiIiKn5MBg3AK2WcAACRSewZJCIiouLFZNAAvPpPz+C91GQkpj2RHA0RERGZEiaDBqC2nZPy9baY0xIjISIiIlPDZNAAlLZQK6+l2xR1QnI0REREZEqYDBqIt19tAQBISn+C9KxMydEQERGRqWAyaCA6V/EAAKRlZeLMwzjJ0RAREZGpYDJoIJyt7eCgtgEATIvYKTkaIiIiMhVMBg2ESqVCbbvyAID41GQ8zkiTHBERERGZAiaDBmT+awEAAAHg76Q7coMhIiIik8Bk0IDYq0uhcil7AMCPsWckR0NERESmgMmggSmrLg0A+PVOJIQQkqMhIiIiY8dk0MD0d/EBADxIS8Hn5/dKjoaIiIiMHZNBA9OqwqvK1z9ER+C3O1ckRkNERETGjsmggbFXl8KmlsOU78ed2IJH6U8lRkRERETGjMmgAXK3r4ix7m2U798/tZ3PDxIREVGRYDJooIa+0gyV/plZ/Mf9KLQ78CUTQiIiIip0TAYN2PzXeitfP0x7jIahnyMlI1ViRERERGRsmAwasHplK+O3TpO0ylrsXYAbjxMkRURERETGhsmggbO1tMKvnSZqlXX9+Su888cmTiwhIiKil8ZksASws7TGqS7TUde+klL2+71raLXvC5yMj5YYGREREZV0TAZLCDOVChtaDsXXjd/UKn/79/UI+n09EtOeSIqMiIiISjImgyVMEycXnHh9Gvwr11PKTsRHo/X+EEyN2IGnmekSoyMiIqKShslgCWRhZoY5DXtiY8uhWuX7bl5E07BgvH9qG6KS70uKjoiIiEoSleDidTqysgTi45OL9Bz29qUAAImJLze8K4TAoduX8f6pbTrbXMtUgH/leuhQqQ5sLa1QVl36pc5lTAqr/alg2P5ysf3lYvvLZWzt7+hoCzMz1Usdg8lgLkpSMqiRnpWJ3XFnsfDiISTnsRZhHfuKaFzeBc0r1IaPY41COW9JZWy/DEoatr9cbH+52P5yGVv7MxksIiUxGczpQsJN/Bh7BlujI/KsU8rcEpZm5qhh44ABtRoDAJyty6CBQ9VCj8cQGdsvg5KG7S8X218utr9cxtb+TAaLSElPBjVSMzPwIC0F15Pj8X3UCSSkP8HZhzeeu4+thRXc7SuilLklRru3hrWZBQAVqpQuCwsz43nE1Nh+GZQ0bH+52P5ysf3lMrb2L4xk0KKQYiEDZGVugUql7FGplD2aOtUCANx4nIC/k+7gaWY6Fl48hMx//hZ4kJYCAEjOSFXWLvztbqTW8Qa4NIJK9e8NZ6kyR8/qXqhu41Acl0NERERFgD2DuTCWnkF93HycgD03ziM9KxMboo4jJSMt3/uWMrfUKVNBhSZOLmhX0V1nm52lNZpVqAVzlbyeRkNrf1PD9peL7S8X218uY2t/DhPn8NNPP+Hrr79GbGwsqlSpghEjRqBnz54FOpYpJoPPepCaggyRBQDYeO24zlI1lxJv417qy7WRt0O1fNWzNrfEaDc/WOeSdD6rjKU1nKztXljP0Nvf2LH95WL7y8X2l8vY2p/DxP/Ys2cPJk2ahEGDBqFFixY4ePAgpkyZAmtra/j7+8sOr0RysLJRvh5ft12udf5KvI27Tx/plMc9TsCqyKMwg+7NmTOBPP0gNt/x/H7vWr7rvmLnBF/Hms+tY2WVfeunpmbobHMtUwE9qzfI9/mIiIhKMqPoGezQoQM8PDywcOFCpWz8+PG4fPkywsLC9D4eewaLTlLaE+yKO4vH+RyG3hh1AonpctpIbWZe6Mc0gwp1ylZCz2pehX7sl6dCQ4dqqGpTrsjPZKr3v6Fg+8vF9pfL2NqfPYMAYmNjERMTg/fee0+rvFOnTggLC0NsbCyqVcvfcCQVvTLqUhj4z1I2+RHk2hJJaU+UIevnuZ4cj++vn0RGVuYL61paZid66enadQ/f+Vv5Oi0fxymI0w9i9eoVLW517SsV+fOcFhbZx8/IePHnaugszMzwjpsfylhayw4l32yzsmNNTn4qORLTxPaXqzjbXwUVXGzLG/xqHCU+Gbx2LXv40MXFRau8Ro3sRZWjoqKYDJZwZdSl8lXPwcoGDR2r56tuXn8ZPkp/ivMJN5FVBB3mCWmP8d/Lv0CVy/C5bI/SnyqLlV9MvCU5mpLn7d/Xyw6BiAxUQ4fqWNksUHYYz1Xik8FHj7KfWbO1tdUqt7HJfuYtOVn/4V6V6t9koahYWGT3TBX1eSh3ebW/PUqhavmiGyZ9s16jIjv2y/r99jWcvl88PZZm5tl/JWdlluyewc1XTyI2+aHsMIjIgDnb2hXpv/WqQuhfKPHJ4IseeTQz8K5ZIkPRtMFBXfYAABIRSURBVGItNK1Yq1jOpUnGMzKKZii+uLzj4Yfk9NR8PZpgSIyl/Usqtr9cxdn+Kqhgb2X4nT4lPhm0s8teRiQlJUWrXNMjqNmuDyGK/sFSY3uAtaRh+8tlbO1viEP/z2NrbwUASEw2jvYvadj+chV3+yc+LdrzODravnTvYInvNtM8KxgTE6NVHh0drbWdiIiIiHSV+GSwRo0aqFq1Kvbu3atVvn//ftSsWROVK1eWFBkRERGR4Svxw8QAMHr0aEybNg329vZo3bo1Dh06hLCwMK11B4mIiIhIl1Ekg71790ZaWhpWrVqFrVu3olq1apg3bx5ef/112aERERERGTSjSAYBoH///ujfv7/sMIiIiIhKlBL/zCARERERFRyTQSIiIiITxmSQiIiIyISpxIte4WGChBAo6lbRLBDJ1peD7S8X218utr9cbH+5jK39VSpA9ZKrTjMZJCIiIjJhHCYmIiIiMmFMBomIiIhMGJNBIiIiIhPGZJCIiIjIhDEZJCIiIjJhTAaJiIiITBiTQSIiIiITxmSQiIiIyIQxGSQiIiIyYUwGiYiIiEwYk0EiIiIiE8ZkkIiIiMiEMRkkIiIiMmFMBiX46aef0KVLF9SvXx+dO3fGzp07ZYdUol26dAn16tXD7du3tcrDw8MREBAALy8vtG3bFqtWrdLZ99y5cwgMDIS3tzdatGiBkJAQpKena9W5fv06Ro4cCR8fHzRu3Bgff/wxkpOTi/SaDF1WVhY2bdqEbt26wdvbG+3bt8ecOXO02qWw2vb+/fuYOHEiGjdujNdeew3vvfce7t27VyzXaaiEEFizZg06deqE+vXro3v37ti9e7dWHd7/xWfMmDHo0KGDVhnbv2hlZGSgfv36cHNz0/rP29tbqcPPQA+CilVoaKhwc3MTn3/+ufj111/FRx99JFxdXUVYWJjs0EqkyMhI0bJlS+Hq6ipu3bqllJ86dUrUq1dPTJo0SRw5ckSEhIQINzc3sWLFCqXO9evXRcOGDcWwYcPEL7/8IlauXCk8PDzEp59+qtRJSEgQrVq1EgEBAeLgwYNi8+bNwsfHRwQFBRXrdRqaZcuWiTp16ogFCxaIo0ePivXr14tGjRqJoUOHCiEKr23T09NF9+7dRfv27cWePXvErl27hJ+fn+jevbtIT08v9us2FF9//bWoU6eOWLp0qfjf//4n5s6dK1xdXUVoaKgQgvd/cdq5c6dwdXUV7du3V8rY/kXv77//Fq6urmLHjh3i9OnTyn9nzpwRQvAz0BeTwWLWvn17MX78eK2yd999V/j7+0uKqGRKT08X69evF97e3qJRo0Y6yeCgQYNEnz59tPYJDg4WPj4+IjU1VQghxPTp04Wfn5/yvRBCbNiwQdSpU0fcvn1bCCHEV199JRo0aCAePHig1Pnll1+Eq6ur+PPPP4vyEg1WVlaW8PX1FZ988olWeWhoqHB1dRUXL14stLbV/EMbGRmp1Lly5Ypwc3NTEh9Tk5aWJnx9fcVnn32mVT5w4EDxxhtvCCF4/xeX27dvC19fX9GqVSutZJDtX/R27dol3N3dxePHj3Pdzs9APxwmLkaxsbGIiYlBx44dtco7deqEa9euITY2VlJkJc+pU6ewYMECDB06FJMmTdLalpqaipMnT+bazklJSYiIiAAAHD16FG3atIFarVbq+Pv7IzMzE+Hh4UodX19flCtXTqnTokUL2NjY4MiRI0V1eQYtJSUF3bt3R9euXbXKa9WqBQCIiYkptLY9evQoXnnlFdSuXVupo/neVNvf3Nwc69atQ1BQkFa5paUlUlNTef8XoxkzZqD5/9u796Co6v+P489lgUTBGymUCGgZtqwmw9VLhkZeZjAnFXUyzcamdCxTy7wMXkfHZsqcNCvJzDHxkhg4jRoMjv7hBRVRSVM0xTviuIqBNxTO7w/i/NxQU7+A6b4eM/vHfj6fPXvO+3NY3ufzOZeOHWnfvr1ZpvjXjoMHDxIYGIiXl1eVOvXBg1MyWIuOHTsGQIsWLZzKg4KCAMjPz6/1dXpcPffcc2RmZvLBBx9gtVqd6k6dOsXNmzfvGedr165RUFBQpU3jxo3x9vY2++LYsWNV2litVgICAly2v7y9vUlMTCQ8PNypPDMzE6jom+qK7Z3aAAQGBrps/N3c3AgJCcHPzw/DMLhw4QJJSUls27aNAQMGaP+vJatXr+bAgQNMnjzZqVzxrx15eXl4enoybNgwwsLCiIyMZMqUKZSUlKgPHoL7o14BV1JcXAxU/DO9Xb169QCevBNSa9DTTz9917r7ifPd2lS2q+yL4uLif20jsG/fPpKSkoiLi6N+/fpA9cS2uLiY559//o5tTpw4UZ2b8FjKyMhg1KhRAMTGxvL6669z8OBBQPt/TTpz5gyzZ89m9uzZNG7c2KlOvz+149ChQ5SUlJCQkMDw4cPZv38/8+fPJz8/n7FjxwLqgwehZLAWGYZxz3o3Nw3UVof7iXN19IX6q8Lu3bsZPnw4AQEBzJw5k9LS0nu2r67YKv5gs9lYtmwZeXl5fPXVV7z33nt89NFH9/yM9v//jWEYTJo0iVdeeYXu3bvfsf5eFP/qMXfuXBo0aEBISAgAkZGR+Pr6Mm7cOLZu3XrPz6oPqlIyWIt8fHyAinOubld5dFFZL/+b+4lz5ZHeP9tUtqtchre3913bPPvss9W63o+j9evXM2HCBIKDg1m0aBGNGjUy41Udsb1Xmzsdrbua5s2b07x5cyIjI/H29mb8+PFmnfb/mpGcnExeXh6//vort27dAv4/Abx165Z+f2pJVFRUlbLY2Fin9+qD+/fkpLWPgcrzDk6ePOlUXjnddadzo+TBBQYGYrVaq8S58n2LFi2oV68efn5+VaYaHQ4HV65cMfuiRYsWVdqUlZVx+vRpl++vH3/8kbFjx9KuXTuSk5Np2rQpQLXG9k5toKIvXTX+RUVFpKWlUVhY6FRus9kAOH36tPb/GpSens6lS5fo1KkToaGhhIaGkpaWxsmTJwkNDSU7O1vxr2EOh4PVq1dXuejy+vXrAPj6+qoPHpCSwVoUFBREQEAAv/32m1N5RkYGwcHBT9RRxqP01FNPERERQUZGhtNUQHp6Oj4+PtjtdgA6duzIpk2bnKY109PTsVqt5lFnx44d2bFjB0VFRWabLVu2cPXqVTp06FBLW/Tfs3r1aj777DN69uzJokWLqoxqV1dsO3XqxJEjR8yLrwD+/PNPjh496rLxLy8vZ8KECaxatcqpvHJqrE2bNtr/a9D06dNJSUlxenXp0gV/f39SUlLo0aOH4l/DLBYLU6ZMYdmyZU7l69evx2q10qFDB/XBA7JOmzZt2qNeCVfi4+PDt99+y6VLl7BYLCxevJi0tDSmTp1Kq1atHvXqPZYOHjzIxo0beeedd8yhf39/f7777juOHj2Kl5cXaWlpfP/993z44YdER0cDFUd8ixcvJjs7mwYNGrB582Y+//xzEhIS6NWrF1BxG5OVK1eSmZmJr68vOTk5TJs2jejoaN5///1Hts2PksPh4N1338XPz4+PP/4Yh8PBuXPnzJenpyc2m61aYtuyZUs2bNhAamoqvr6+HD58mIkTJ/LMM8+QmJj4RJ2zc7+8vLy4ePEiS5cuxd3dndLSUtauXcvXX39Nnz596Nu3r/b/GtSoUSP8/PycXlu2bOH8+fN88skneHl5Kf41zMvLi6KiIpKTkykvL6e8vJy1a9cyb9483nzzTXr16qU+eFCP4uaGrm7FihXGa6+9ZtjtdqNnz55Gamrqo16lx9qaNWuq3HTaMAwjIyPDiI+PN0JDQ42uXbsaP/zwQ5XP7tq1y0hISDDsdrvx8ssvG3PmzDFKS0ud2uTl5Rlvv/220bZtW6N9+/bG5MmTjeLi4hrdpv+y1NRU44UXXrjrKy0tzTCM6ovt2bNnjZEjRxrt2rUzoqKijDFjxhiFhYW1tr3/RaWlpUZSUpLRrVs3w263G3FxcUZSUpJRVlZmttH+X3vGjx/vdNNpw1D8a1rl30D37t0Nu91uvPrqq8bChQv1N/CQLIbxL5fUiIiIiMgTy/XmWERERETEpGRQRERExIUpGRQRERFxYUoGRURERFyYkkERERERF6ZkUERc3ujRowkJCeHSpUtV6saPH09ISAgjRoyoUnflyhVsNhtjx46tsXXr2rUrgwcPrrHli4goGRQRlxcZGQlAbm5ulbodO3bg4eHBrl27KCsrc6rLzc2lrKzMvImtiMjjSMmgiLi8uyWDx48fp6CggPj4eIqLizlw4IBTfU5ODoD56CoRkceRkkERcXmtWrWiYcOG7Nu3z6k8KysLNzc3hg8fjsViYfv27U71e/bsoWnTpk/UA+tFxPUoGRQRl2exWIiIiOD33393Ks/KyqJ169YEBwcTEhJCVlaWWWcYBrm5uU6jgtnZ2QwdOpSwsDDCwsIYMmQIu3btclpm165dSUxMZNKkSbRt25bOnTtz8eJFANavX0/v3r1p27Yt8fHxbNy4scq6Xr58mQkTJhAbG4vdbicuLo45c+Zw48aN6gyJiLgQJYMiIlRMFRcVFXH8+HGgItnbuXOneT5gTEwMOTk5lJaWAnD06FEuX75MTEwMABs3bmTw4MEUFBQwYsQIRowYQUFBAUOHDq2S1K1bt468vDwmTZpE//79ady4Mb/88gtjxozBy8uLcePGERMTw+jRo7lw4YLTZ0ePHs2mTZtISEhg6tSpREVFkZSUxMyZM2s4QiLypHJ/1CsgIvJfUDnCt2/fPoKDgzl8+DAOh8NM9qKjo1myZAk5OTnExMSwZ88e83O3bt1ixowZ+Pn5sWbNGry9vQEYOHAg8fHxTJ8+nc6dO+Ph4QHA9evX+eabb/Dz8wOgrKyML774gjZt2vDTTz+Z7Ww2GxMnTjTX0eFwsG3bNj799FOGDRsGQEJCAoZhcOrUqVqIkog8iTQyKCICtG7dGh8fH/MikqysLKxWKxEREUDFyKHVamXnzp1AxcUj/v7+BAUF8ccff3Du3DkGDRpkJoIA9evX56233qKwsJD9+/eb5YGBgWYiCHDgwAEcDgd9+vQxE0GA3r1706BBA/O9j48PdevWZfny5aSnp3P16lUAZs+ezZIlS6o/KCLiEpQMiogAbm5uhIeHmxeRZGVlYbfbzeTOx8eHF198kd27dwOwd+9ecwr59OnTAHe8kKRly5YAnD171izz9fV1anPmzBmgIkm8ndVqJSgoyHzv6enJjBkzcDgcjBo1iujoaIYNG8aqVat0zqCIPDQlgyIif4uIiODQoUPcuHGD7Oxsc4q4UnR0NLm5uVy8eJH8/HxzatkwjLsus7Lu9hE/q9Xq1MZisQAV08f/VF5e7vS+V69ebN68mVmzZhEbG8vevXuZMmUK/fv3N89nFBF5EEoGRUT+FhUVxc2bN9mwYQN//fVXlZtJx8TEcPXqVdatW4dhGGZ9s2bNADh27FiVZebn5wPg7+9/1+9t3rw5ACdOnHAqNwzDHDWEiieeZGdnY7FY6NevH/Pnz2f79u0MGTKEQ4cOsWXLlofYahFxdUoGRUT+FhoaSt26dVm5ciUeHh6Eh4c71YeHh+Pu7k5qairNmjUzk7jQ0FCaNGnCihUrKCkpMduXlJSwfPlymjRpgt1uv+v32mw2mjVrxooVK7h27ZpZvm7dOqdH5B05coRBgwaRkpJilnl6emKz2YCqI44iIvdDVxOLiPzN3d2dsLAwtm7dSkREBHXq1HGqr1evHm3atGHPnj288cYbZrmHhweJiYmMGTOGvn370q9fPwBSUlI4f/488+bNw83t7sfeFouFyZMnM3LkSAYMGEDfvn0pLCwkOTmZhg0bmu1eeuklIiIimDt3LgUFBYSEhFBQUMCyZcto2bIl7du3r+aIiIgr0MigiMhtKh9N98/zBStVTg3/8xF0PXr0YPHixTRt2pQFCxawcOFCAgICWLp0KXFxcf/6vV26dGHhwoXUqVOHL7/8kszMTGbNmmVegAIVSeOCBQsYOHAgmzZtYsaMGfz8889069aNpUuX4unp+bCbLSIuzGLc68xnEREREXmiaWRQRERExIUpGRQRERFxYUoGRURERFyYkkERERERF6ZkUERERMSFKRkUERERcWFKBkVERERcmJJBERERERemZFBERETEhSkZFBEREXFh/wfFAknyK9wT6QAAAABJRU5ErkJggg==\n",
      "text/plain": [
       "<Figure size 720x360 with 1 Axes>"
      ]
     },
     "metadata": {},
     "output_type": "display_data"
    }
   ],
   "source": [
    "y_val = [x[1] for x in neg_freq.most_common()]\n",
    "\n",
    "fig = plt.figure(figsize=(10,5))\n",
    "plt.plot(y_val)\n",
    "\n",
    "plt.xlabel(\"Words\")\n",
    "plt.ylabel(\"Frequency\")\n",
    "plt.title(\"Word Frequency Distribution (Negative)\")\n",
    "plt.show()"
   ]
  },
  {
   "cell_type": "code",
   "execution_count": 52,
   "metadata": {},
   "outputs": [
    {
     "data": {
      "image/png": "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\n",
      "text/plain": [
       "<Figure size 720x360 with 1 Axes>"
      ]
     },
     "metadata": {},
     "output_type": "display_data"
    }
   ],
   "source": [
    "y_final = []\n",
    "for i, k, z in zip(y_val[0::3], y_val[1::3], y_val[2::3]):\n",
    "    if i + k + z == 0:\n",
    "        break\n",
    "    y_final.append(math.log(i + k + z))\n",
    "\n",
    "x_val = [math.log(i+1) for i in range(len(y_final))]\n",
    "\n",
    "fig = plt.figure(figsize=(10,5))\n",
    "\n",
    "plt.xlabel(\"Words (Log)\")\n",
    "plt.ylabel(\"Frequency (Log)\")\n",
    "plt.title(\"Word Frequency Distribution (Negative)\")\n",
    "plt.plot(x_val, y_final)\n",
    "plt.show()"
   ]
  },
  {
>>>>>>> cadb00f2daa52eefe794387bdf68703c410f6bdb
   "cell_type": "code",
   "execution_count": null,
   "metadata": {},
   "outputs": [],
   "source": []
  }
 ],
 "metadata": {
  "kernelspec": {
   "display_name": "Python 3",
   "language": "python",
   "name": "python3"
  },
  "language_info": {
   "codemirror_mode": {
    "name": "ipython",
    "version": 3
   },
   "file_extension": ".py",
   "mimetype": "text/x-python",
   "name": "python",
   "nbconvert_exporter": "python",
   "pygments_lexer": "ipython3",
   "version": "3.6.8"
  }
 },
 "nbformat": 4,
 "nbformat_minor": 2
}
